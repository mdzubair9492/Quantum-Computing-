{
  "cells": [
    {
      "cell_type": "markdown",
      "metadata": {
        "id": "Yt0ubeNj_S3U"
      },
      "source": [
        "<a href=\"https://qworld.net\" target=\"_blank\" align=\"left\"><img src=\"https://gitlab.com/qworld/qeducation/qbook101/raw/main/qworld/images/header.jpg\" align=\"left\"></a>\n",
        "$ \\newcommand{\\bra}[1]{\\langle #1|} $\n",
        "$ \\newcommand{\\ket}[1]{|#1\\rangle} $\n",
        "$ \\newcommand{\\braket}[2]{\\langle #1|#2\\rangle} $\n",
        "$ \\newcommand{\\dot}[2]{ #1 \\cdot #2} $\n",
        "$ \\newcommand{\\biginner}[2]{\\left\\langle #1,#2\\right\\rangle} $\n",
        "$ \\newcommand{\\mymatrix}[2]{\\left( \\begin{array}{#1} #2\\end{array} \\right)} $\n",
        "$ \\newcommand{\\myvector}[1]{\\mymatrix{c}{#1}} $\n",
        "$ \\newcommand{\\myrvector}[1]{\\mymatrix{r}{#1}} $\n",
        "$ \\newcommand{\\mypar}[1]{\\left( #1 \\right)} $\n",
        "$ \\newcommand{\\mybigpar}[1]{ \\Big( #1 \\Big)} $\n",
        "$ \\newcommand{\\sqrttwo}{\\frac{1}{\\sqrt{2}}} $\n",
        "$ \\newcommand{\\dsqrttwo}{\\dfrac{1}{\\sqrt{2}}} $\n",
        "$ \\newcommand{\\onehalf}{\\frac{1}{2}} $\n",
        "$ \\newcommand{\\donehalf}{\\dfrac{1}{2}} $\n",
        "$ \\newcommand{\\hadamard}{ \\mymatrix{rr}{ \\sqrttwo & \\sqrttwo \\\\ \\sqrttwo & -\\sqrttwo }} $\n",
        "$ \\newcommand{\\vzero}{\\myvector{1\\\\0}} $\n",
        "$ \\newcommand{\\vone}{\\myvector{0\\\\1}} $\n",
        "$ \\newcommand{\\stateplus}{\\myvector{ \\sqrttwo \\\\  \\sqrttwo } } $\n",
        "$ \\newcommand{\\stateminus}{ \\myrvector{ \\sqrttwo \\\\ -\\sqrttwo } } $\n",
        "$ \\newcommand{\\myarray}[2]{ \\begin{array}{#1}#2\\end{array}} $\n",
        "$ \\newcommand{\\X}{ \\mymatrix{cc}{0 & 1 \\\\ 1 & 0}  } $\n",
        "$ \\newcommand{\\Z}{ \\mymatrix{rr}{1 & 0 \\\\ 0 & -1}  } $\n",
        "$ \\newcommand{\\Htwo}{ \\mymatrix{rrrr}{ \\frac{1}{2} & \\frac{1}{2} & \\frac{1}{2} & \\frac{1}{2} \\\\ \\frac{1}{2} & -\\frac{1}{2} & \\frac{1}{2} & -\\frac{1}{2} \\\\ \\frac{1}{2} & \\frac{1}{2} & -\\frac{1}{2} & -\\frac{1}{2} \\\\ \\frac{1}{2} & -\\frac{1}{2} & -\\frac{1}{2} & \\frac{1}{2} } } $\n",
        "$ \\newcommand{\\CNOT}{ \\mymatrix{cccc}{1 & 0 & 0 & 0 \\\\ 0 & 1 & 0 & 0 \\\\ 0 & 0 & 0 & 1 \\\\ 0 & 0 & 1 & 0} } $\n",
        "$ \\newcommand{\\norm}[1]{ \\left\\lVert #1 \\right\\rVert } $\n",
        "$ \\newcommand{\\pstate}[1]{ \\lceil \\mspace{-1mu} #1 \\mspace{-1.5mu} \\rfloor } $\n",
        "$ \\newcommand{\\Y}{ \\mymatrix{rr}{0 & -i \\\\ i & 0} } $\n",
        "$ \\newcommand{\\S}{ \\mymatrix{rr}{1 & 0 \\\\ 0 & i} } $\n",
        "$ \\newcommand{\\T}{ \\mymatrix{rr}{1 & 0 \\\\ 0 & e^{i \\frac{\\pi}{4}}} } $\n",
        "$ \\newcommand{\\Sdg}{ \\mymatrix{rr}{1 & 0 \\\\ 0 & -i} } $\n",
        "$ \\newcommand{\\Tdg}{ \\mymatrix{rr}{1 & 0 \\\\ 0 & e^{-i \\frac{\\pi}{4}}} } $\n",
        "$ \\newcommand{\\qgate}[1]{ \\mathop{\\\\textit{#1} } }$"
      ]
    },
    {
      "cell_type": "markdown",
      "metadata": {
        "id": "jUtH_gEh_S3W"
      },
      "source": [
        "_prepared by Özlem Salehi_"
      ]
    },
    {
      "cell_type": "markdown",
      "metadata": {
        "id": "EFqahMXI_S3W"
      },
      "source": [
        "<font size=\"28px\" style=\"font-size:28px;\" align=\"left\"><b> Discrete Fourier Transform </b></font>\n",
        "<br>\n",
        "<br><br>"
      ]
    },
    {
      "cell_type": "markdown",
      "metadata": {
        "jp-MarkdownHeadingCollapsed": true,
        "id": "JApGmoei_S3W"
      },
      "source": [
        "##### <font color=\"#08b806\">Please execute the following cell, it is necessary to distinguish between your local environment and Google Colab's"
      ]
    },
    {
      "cell_type": "code",
      "execution_count": 1,
      "metadata": {
        "id": "pu6Sef1I_S3W"
      },
      "outputs": [],
      "source": [
        "import IPython\n",
        "\n",
        "def in_colab():\n",
        "    try:\n",
        "        import google.colab\n",
        "        return True\n",
        "    except:\n",
        "        return False\n",
        "\n",
        "SolutionToTask1 = lambda: IPython.display.display(IPython.display.Javascript('window.open(\"{url}\");'.format(url='https://colab.research.google.com/drive/1V73MZKwFqr1MAVx-JpIENV0ez_GHHuor?usp=sharing#scrollTo=A-0vIyUg94PB' if in_colab() else 'QB51_D01_Discrete_Fourier_Transform_Solutions.ipynb#task1')))\n",
        "SolutionToTask2 = lambda: IPython.display.display(IPython.display.Javascript('window.open(\"{url}\");'.format(url='https://colab.research.google.com/drive/1V73MZKwFqr1MAVx-JpIENV0ez_GHHuor?usp=sharing#scrollTo=pdHwDxuG94PB' if in_colab() else 'QB51_D01_Discrete_Fourier_Transform_Solutions.ipynb#task2')))\n",
        "SolutionToTask3 = lambda: IPython.display.display(IPython.display.Javascript('window.open(\"{url}\");'.format(url='https://colab.research.google.com/drive/1V73MZKwFqr1MAVx-JpIENV0ez_GHHuor?usp=sharing#scrollTo=obzP6jFy94PC' if in_colab() else 'QB51_D01_Discrete_Fourier_Transform_Solutions.ipynb#task3')))"
      ]
    },
    {
      "cell_type": "markdown",
      "metadata": {
        "id": "Dj9V9Z40_S3W"
      },
      "source": [
        "##### Transformations are popular in mathematics and computer science. They help *transforming* a problem into another problem whose solution is known. In this notebook we will cover *Fourier Transform*."
      ]
    },
    {
      "cell_type": "markdown",
      "metadata": {
        "id": "aiytIwwP_S3W"
      },
      "source": [
        "Discrete Fourier Transform ($DFT$) is a mapping that transforms a set of complex numbers into another set of complex numbers.\n",
        "Suppose that we have an $N$-dimensional complex vector $x=\\myvector{x_0~x_1\\dots~x_{N-1}}^T$. $DFT$ of $x$ is the complex vector $y=\\myvector{y_0~y_1\\dots y_{N-1}}^T$ where\n",
        "\n",
        "\n",
        "$$\n",
        "y_k=\\frac{1}{\\sqrt{N}} \\sum_{j=0}^{N-1}e^{\\frac{2\\pi i j k }{N}}x_j.\n",
        "$$"
      ]
    },
    {
      "cell_type": "markdown",
      "metadata": {
        "id": "kYBMC4LO_S3W"
      },
      "source": [
        "<h3>Task 1 (on paper)</h3>\n",
        "\n",
        "Given $x=\\myvector{1 \\\\ 2}$, apply $DFT$ and obtain $y$."
      ]
    },
    {
      "cell_type": "markdown",
      "metadata": {
        "id": "ZlZzeYhC_S3X"
      },
      "source": [
        "To check out our solution, run the next cell:"
      ]
    },
    {
      "cell_type": "code",
      "execution_count": 2,
      "metadata": {
        "id": "YdOqdD0o_S3X",
        "outputId": "13b2afff-f07e-4db3-f1b1-434f88aced8b",
        "colab": {
          "base_uri": "https://localhost:8080/",
          "height": 17
        }
      },
      "outputs": [
        {
          "output_type": "display_data",
          "data": {
            "text/plain": [
              "<IPython.core.display.Javascript object>"
            ],
            "application/javascript": [
              "window.open(\"https://colab.research.google.com/drive/1V73MZKwFqr1MAVx-JpIENV0ez_GHHuor?usp=sharing#scrollTo=A-0vIyUg94PB\");"
            ]
          },
          "metadata": {}
        }
      ],
      "source": [
        "SolutionToTask1()  # show solution for task 1"
      ]
    },
    {
      "cell_type": "markdown",
      "metadata": {
        "id": "5Ma9aqom_S3X"
      },
      "source": [
        "<h3>Task 2</h3>\n",
        "\n",
        "Create the following list in Python (1 0 0 0 0 1 0 0 0 0 ... 1 0 0 0 0) of length $N=100$ where every 5'th value is a 1.\n",
        "\n",
        "Then compute its $DFT$ using Python and visualize."
      ]
    },
    {
      "cell_type": "code",
      "execution_count": 12,
      "metadata": {
        "id": "nApq0tYg_S3X"
      },
      "outputs": [],
      "source": [
        "#Create the list\n",
        "\n",
        "x = []\n",
        "N = 100\n",
        "for i in range(N):\n",
        "  if i%5==0:\n",
        "    x.append(1)\n",
        "  else:\n",
        "    x.append(0)\n",
        "\n"
      ]
    },
    {
      "cell_type": "code",
      "execution_count": 13,
      "metadata": {
        "id": "25P4VKv8_S3X",
        "outputId": "21bbf655-139d-4f77-e9e1-158cd181f086",
        "colab": {
          "base_uri": "https://localhost:8080/"
        }
      },
      "outputs": [
        {
          "output_type": "stream",
          "name": "stdout",
          "text": [
            "[(2+0j), (-6.661338147750939e-17+6.106226635438361e-17j), (1.1102230246251566e-17+0j), (2.886579864025407e-16-6.661338147750939e-17j), (9.992007221626409e-17+1.9984014443252818e-16j), (2.1672546146854842e-16+2.6645352591003756e-16j), (-8.271161533457416e-16+3.3306690738754696e-16j), (2.220446049250313e-16+4.1078251911130794e-16j), (-1.554312234475219e-16+9.992007221626409e-17j), (1.2212453270876722e-15+2.0539125955565397e-16j), 3.0010036385476035e-16j, (-9.992007221626409e-17+6.494804694057165e-16j), (-9.2148511043888e-16-1.7763568394002506e-16j), (5.884182030513329e-16-3.4416913763379854e-16j), (2.325917236589703e-15-3.9968028886505636e-16j), (8.819313895770708e-16-8.881784197001252e-16j), (-3.3861802251067273e-16+7.660538869913581e-16j), (-1.4765966227514583e-15-1.0436096431476472e-15j), (-7.216449660063518e-16+1.2101430968414207e-15j), (2.1871393585115583e-15+3.3306690738754696e-16j), (2-6.430014676160191e-15j), (5.440092820663267e-16+3.0531133177191805e-15j), (2.7311486405778852e-15+3.530509218307998e-15j), (-2.3536728122053318e-15-9.2148511043888e-16j), (8.271161533457416e-16+1.3988810110276972e-15j), (3.064711901051325e-16-2.6867397195928787e-15j), (-1.6986412276764896e-15-1.3766765505351941e-15j), (3.0420110874729288e-15-2.1094237467877973e-16j), (2.4424906541753444e-15+1.965094753586527e-15j), (3.608224830031759e-15+6.661338147750939e-16j), 6.762278661585108e-15j, (-2.4091839634365896e-15+2.3703261575747094e-15j), (7.105427357601002e-16+4.1078251911130794e-16j), (1.865174681370263e-15+4.4297898682543744e-15j), (-6.550315845288424e-16-1.5210055437364644e-15j), (5.055442075501088e-15-4.884981308350689e-15j), (-1.3100631690576848e-15+1.4988010832439613e-15j), (2.242650509742816e-15-7.549516567451064e-16j), (-1.0547118733938987e-15+4.152234112098085e-15j), (1.4988010832439613e-15-1.0547118733938987e-16j), (2-1.2860029352320382e-14j), (-5.917488721252084e-15-3.9968028886505636e-16j), (7.227551890309768e-15+4.374278717023117e-15j), (-6.661338147750939e-16-3.319566843629218e-15j), (7.882583474838611e-16+1.454392162258955e-15j), (3.5270458481846582e-15-3.0087043967341744e-15j), (-8.715250743307478e-16+6.772360450213455e-15j), (-1.9317880628477722e-15-3.1530333899354444e-15j), (3.68594044175552e-15-5.995204332975846e-16j), (2.020605904817785e-15-2.192690473634684e-15j), -7.0260110098474e-15j, (5.10702591327572e-16+1.7541523789077474e-15j), (3.9968028886505635e-15+2.231548279496565e-15j), (-4.773959005888173e-15-3.83026943495679e-15j), (2.6867397195928787e-15+6.583622536027178e-15j), (-1.4513927354689009e-15+3.164135620181696e-15j), (3.3861802251067273e-16+7.838174553853605e-15j), (6.7501559897209515e-15-5.639932965095795e-15j), (-2.0983215165415457e-15+7.01660951563099e-15j), (5.950795411990839e-15+4.846123502488808e-15j), (2-1.8224229924840428e-14j), (-4.2299497238218466e-15+1.6653345369377348e-16j), (-5.451195050909519e-15+1.1046719095020308e-14j), (-6.7501559897209515e-15-3.2307490016592057e-15j), (1.5654144647214707e-15+3.241851231905457e-15j), (4.194107549626324e-15-7.382983113757291e-15j), (-5.42343947529389e-15-3.197442310920451e-15j), (1.006972283335017e-14-5.540012892879531e-15j), (2.1538326677728035e-15-5.384581669432009e-15j), (-7.771561172376096e-16+3.702593787124897e-15j), -6.958717333957956e-15j, (3.3306690738754695e-17+6.59472476627343e-15j), (3.519406988061746e-15+3.0087043967341744e-15j), (-1.993960552226781e-14-3.3639757646142244e-15j), (6.256106743762757e-15+5.4733995114020214e-15j), (-2.2960901208505914e-15-1.3322676295501878e-16j), (-8.487655023259322e-15+4.340972026284362e-15j), (5.351274978693255e-15-1.3489209749195652e-14j), (-3.963496197911809e-15+5.595524044110789e-15j), (1.1457501614131616e-14+2.4313884239290927e-15j), (2-2.5720058704640763e-14j), (-8.426592756904939e-15+3.83026943495679e-15j), (1.5210055437364644e-15+4.407585407761872e-15j), (5.151434834260726e-15-1.050270981295398e-14j), (1.1562972801471006e-14+1.0880185641326535e-15j), (3.758682315823567e-16+1.3766765505351941e-15j), (-3.2807090377673377e-15-2.7200464103316335e-15j), (1.3211653993039363e-15-4.007905118896815e-15j), (-2.231548279496565e-15+1.3322676295501878e-15j), (5.2735593669694936e-15-4.063416270128073e-15j), 1.1405051787754072e-14j, (-5.3734794391857575e-15-1.2190248810384218e-14j), (6.572520305780927e-15+7.549516567451064e-16j), (4.4408920985006264e-17+6.1728400169158705e-15j), (1.5487611193520933e-15-4.407585407761872e-15j), (-1.0890144218115874e-14+3.641531520770513e-15j), (-3.3861802251067274e-15+5.540012892879531e-15j), (3.0309088572266774e-15+3.885780586188048e-16j), (-1.2345680033831741e-14+7.238654120556021e-15j), (1.2501111257279262e-14+1.2856382625159312e-14j)]\n"
          ]
        }
      ],
      "source": [
        "#Compute DFT\n",
        "from cmath import exp\n",
        "from math import pi\n",
        "from math import sqrt\n",
        "y = []\n",
        "for k in range(N):\n",
        "  s = 0\n",
        "  for j in range(N):\n",
        "     s+= exp(2*pi*1j*j*k/N)*x[j]\n",
        "  s /=sqrt(N)\n",
        "  y.append(s)\n",
        "\n",
        "print(y)"
      ]
    },
    {
      "cell_type": "code",
      "execution_count": 6,
      "metadata": {
        "id": "zaaVIG7k_S3X",
        "outputId": "219dda4a-6dc0-4781-f1a3-97bf8e79270b",
        "colab": {
          "base_uri": "https://localhost:8080/",
          "height": 465
        }
      },
      "outputs": [
        {
          "output_type": "stream",
          "name": "stderr",
          "text": [
            "/usr/local/lib/python3.10/dist-packages/matplotlib/cbook/__init__.py:1335: ComplexWarning: Casting complex values to real discards the imaginary part\n",
            "  return np.asarray(x, float)\n"
          ]
        },
        {
          "output_type": "display_data",
          "data": {
            "text/plain": [
              "<Figure size 640x480 with 1 Axes>"
            ],
            "image/png": "[encoded data removed]"
          },
          "metadata": {}
        }
      ],
      "source": [
        "#Visualize\n",
        "import matplotlib.pyplot as plt\n",
        "\n",
        "plt.plot(y)\n",
        "plt.show()\n"
      ]
    },
    {
      "cell_type": "markdown",
      "metadata": {
        "id": "MTJZ4BFh_S3X"
      },
      "source": [
        "To check out our solution, run the next cell:"
      ]
    },
    {
      "cell_type": "code",
      "execution_count": null,
      "metadata": {
        "id": "TUEDyvHL_S3X"
      },
      "outputs": [],
      "source": [
        "SolutionToTask2()  # show solution for task 2"
      ]
    },
    {
      "cell_type": "markdown",
      "metadata": {
        "id": "it4m3tcQ_S3X"
      },
      "source": [
        "<h3>Task 3</h3>\n",
        "\n",
        "Repeat Task 2 where this time every 6'th value is a 1 and the rest is 0."
      ]
    },
    {
      "cell_type": "code",
      "execution_count": 19,
      "metadata": {
        "id": "FZ1I1W9M_S3X"
      },
      "outputs": [],
      "source": [
        "#Create the list\n",
        "\n",
        "\n",
        "x = []\n",
        "N = 100\n",
        "for i in range(N):\n",
        "  if i%6==0:\n",
        "    x.append(1)\n",
        "  else:\n",
        "    x.append(0)\n",
        "\n"
      ]
    },
    {
      "cell_type": "code",
      "execution_count": 20,
      "metadata": {
        "id": "CyMOX_5b_S3X"
      },
      "outputs": [],
      "source": [
        "#Compute DFT\n",
        "from cmath import exp\n",
        "from math import pi\n",
        "from math import sqrt\n",
        "\n",
        "y = []\n",
        "for k in range(N):\n",
        "  s = 0\n",
        "  for j in range(N):\n",
        "    s += exp(2*pi*complex(0,1)*j*k/N)*x[j]\n",
        "  s /= sqrt(N)\n",
        "  y.append(s)\n"
      ]
    },
    {
      "cell_type": "code",
      "execution_count": 21,
      "metadata": {
        "id": "xybjpMSF_S3X",
        "outputId": "2b0b285f-1282-4d53-ef3f-3584fd6e8569",
        "colab": {
          "base_uri": "https://localhost:8080/",
          "height": 465
        }
      },
      "outputs": [
        {
          "output_type": "stream",
          "name": "stderr",
          "text": [
            "/usr/local/lib/python3.10/dist-packages/matplotlib/cbook/__init__.py:1335: ComplexWarning: Casting complex values to real discards the imaginary part\n",
            "  return np.asarray(x, float)\n"
          ]
        },
        {
          "output_type": "display_data",
          "data": {
            "text/plain": [
              "<Figure size 640x480 with 1 Axes>"
            ],
            "image/png": "[encoded data removed]"
          },
          "metadata": {}
        }
      ],
      "source": [
        "#Visualize\n",
        "import matplotlib.pyplot as plt\n",
        "plt.plot(y)\n",
        "plt.show()\n",
        "\n"
      ]
    },
    {
      "cell_type": "markdown",
      "metadata": {
        "id": "M94C5CpR_S3X"
      },
      "source": [
        "To check out our solution, run the next cell:"
      ]
    },
    {
      "cell_type": "code",
      "execution_count": null,
      "metadata": {
        "id": "1ZdGMbV7_S3X"
      },
      "outputs": [],
      "source": [
        "SolutionToTask3()  # show solution for task 3"
      ]
    },
    {
      "cell_type": "markdown",
      "metadata": {
        "id": "nrXzLlnA_S3X"
      },
      "source": [
        "What you should have observed from the previous two tasks is when a periodic list of numbers is provided as input to $DFT$, then the transformed list have peaks around the integer multiples of $N/r$ where $N$ is the number of elements in the list and $r$ is the period.\n",
        "\n",
        "This property of the Fourier Transform will be useful for us in the future, when we start talking about order finding and Shor's Algorithm."
      ]
    }
  ],
  "metadata": {
    "kernelspec": {
      "display_name": "Python 3 (ipykernel)",
      "language": "python",
      "name": "python3"
    },
    "language_info": {
      "codemirror_mode": {
        "name": "ipython",
        "version": 3
      },
      "file_extension": ".py",
      "mimetype": "text/x-python",
      "name": "python",
      "nbconvert_exporter": "python",
      "pygments_lexer": "ipython3",
      "version": "3.11.4"
    },
    "colab": {
      "provenance": [],
      "collapsed_sections": [
        "JApGmoei_S3W"
      ]
    }
  },
  "nbformat": 4,
  "nbformat_minor": 0
}