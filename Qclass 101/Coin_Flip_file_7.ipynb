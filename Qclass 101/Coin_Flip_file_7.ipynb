{
  "cells": [
    {
      "cell_type": "markdown",
      "metadata": {
        "id": "6hcPfKFETmxz"
      },
      "source": [
        "<a href=\"https://qworld.net\" target=\"_blank\" align=\"left\"><img src=\"https://gitlab.com/qworld/qeducation/qbook101/raw/main/qworld/images/header.jpg\" align=\"left\"></a>\n",
        "$ \\newcommand{\\bra}[1]{\\langle #1|} $\n",
        "$ \\newcommand{\\ket}[1]{|#1\\rangle} $\n",
        "$ \\newcommand{\\braket}[2]{\\langle #1|#2\\rangle} $\n",
        "$ \\newcommand{\\dot}[2]{ #1 \\cdot #2} $\n",
        "$ \\newcommand{\\biginner}[2]{\\left\\langle #1,#2\\right\\rangle} $\n",
        "$ \\newcommand{\\mymatrix}[2]{\\left( \\begin{array}{#1} #2\\end{array} \\right)} $\n",
        "$ \\newcommand{\\myvector}[1]{\\mymatrix{c}{#1}} $\n",
        "$ \\newcommand{\\myrvector}[1]{\\mymatrix{r}{#1}} $\n",
        "$ \\newcommand{\\mypar}[1]{\\left( #1 \\right)} $\n",
        "$ \\newcommand{\\mybigpar}[1]{ \\Big( #1 \\Big)} $\n",
        "$ \\newcommand{\\sqrttwo}{\\frac{1}{\\sqrt{2}}} $\n",
        "$ \\newcommand{\\dsqrttwo}{\\dfrac{1}{\\sqrt{2}}} $\n",
        "$ \\newcommand{\\onehalf}{\\frac{1}{2}} $\n",
        "$ \\newcommand{\\donehalf}{\\dfrac{1}{2}} $\n",
        "$ \\newcommand{\\hadamard}{ \\mymatrix{rr}{ \\sqrttwo & \\sqrttwo \\\\ \\sqrttwo & -\\sqrttwo }} $\n",
        "$ \\newcommand{\\vzero}{\\myvector{1\\\\0}} $\n",
        "$ \\newcommand{\\vone}{\\myvector{0\\\\1}} $\n",
        "$ \\newcommand{\\stateplus}{\\myvector{ \\sqrttwo \\\\  \\sqrttwo } } $\n",
        "$ \\newcommand{\\stateminus}{ \\myrvector{ \\sqrttwo \\\\ -\\sqrttwo } } $\n",
        "$ \\newcommand{\\myarray}[2]{ \\begin{array}{#1}#2\\end{array}} $\n",
        "$ \\newcommand{\\X}{ \\mymatrix{cc}{0 & 1 \\\\ 1 & 0}  } $\n",
        "$ \\newcommand{\\I}{ \\mymatrix{rr}{1 & 0 \\\\ 0 & 1}  } $\n",
        "$ \\newcommand{\\Z}{ \\mymatrix{rr}{1 & 0 \\\\ 0 & -1}  } $\n",
        "$ \\newcommand{\\Htwo}{ \\mymatrix{rrrr}{ \\frac{1}{2} & \\frac{1}{2} & \\frac{1}{2} & \\frac{1}{2} \\\\ \\frac{1}{2} & -\\frac{1}{2} & \\frac{1}{2} & -\\frac{1}{2} \\\\ \\frac{1}{2} & \\frac{1}{2} & -\\frac{1}{2} & -\\frac{1}{2} \\\\ \\frac{1}{2} & -\\frac{1}{2} & -\\frac{1}{2} & \\frac{1}{2} } } $\n",
        "$ \\newcommand{\\CNOT}{ \\mymatrix{cccc}{1 & 0 & 0 & 0 \\\\ 0 & 1 & 0 & 0 \\\\ 0 & 0 & 0 & 1 \\\\ 0 & 0 & 1 & 0} } $\n",
        "$ \\newcommand{\\norm}[1]{ \\left\\lVert #1 \\right\\rVert } $\n",
        "$ \\newcommand{\\pstate}[1]{ \\lceil \\mspace{-1mu} #1 \\mspace{-1.5mu} \\rfloor } $\n",
        "$ \\newcommand{\\greenbit}[1] {\\mathbf{{\\color{green}#1}}} $\n",
        "$ \\newcommand{\\bluebit}[1] {\\mathbf{{\\color{blue}#1}}} $\n",
        "$ \\newcommand{\\redbit}[1] {\\mathbf{{\\color{red}#1}}} $\n",
        "$ \\newcommand{\\brownbit}[1] {\\mathbf{{\\color{brown}#1}}} $\n",
        "$ \\newcommand{\\blackbit}[1] {\\mathbf{{\\color{black}#1}}} $"
      ]
    },
    {
      "cell_type": "markdown",
      "metadata": {
        "id": "VtTuUg8HTmx2"
      },
      "source": [
        "_prepared by Abuzer Yakaryilmaz_"
      ]
    },
    {
      "cell_type": "markdown",
      "metadata": {
        "id": "D_pB3M7wTmx2"
      },
      "source": [
        "<font size=\"28px\" style=\"font-size:28px;\" align=\"left\"><b>Coin Flip: A Probabilistic Bit </b></font>\n",
        "<br>\n",
        "<br><br>\n",
        "[<img src=\"https://gitlab.com/qworld/qeducation/qbook101/raw/main/qworld/images/watch_lecture.jpg\" align=\"left\">](https://youtu.be/uGKHEsVcSEs)\n",
        "<br><br><br>"
      ]
    },
    {
      "cell_type": "markdown",
      "metadata": {
        "jp-MarkdownHeadingCollapsed": true,
        "id": "6jJnU0ecTmx3"
      },
      "source": [
        "##### <font color=\"#08b806\">Please execute the following cell, it is necessary to distinguish between your local environment and Google Colab's"
      ]
    },
    {
      "cell_type": "code",
      "execution_count": 1,
      "metadata": {
        "id": "vP2qFTxmTmx3"
      },
      "outputs": [],
      "source": [
        "import IPython\n",
        "\n",
        "def in_colab():\n",
        "    try:\n",
        "        import google.colab\n",
        "        return True\n",
        "    except:\n",
        "        return False\n",
        "\n",
        "SolutionToTask1 = lambda: IPython.display.display(IPython.display.Javascript('window.open(\"{url}\");'.format(url='https://colab.research.google.com/drive/1yPXraqS3wnaw0qn4cajWsWA7wYlDG6xd?usp=sharing#scrollTo=xvaIxSaCOEak' if in_colab() else 'QB21_CS08_Coin_Flip_Solutions.ipynb#task1')))\n",
        "SolutionToTask2 = lambda: IPython.display.display(IPython.display.Javascript('window.open(\"{url}\");'.format(url='https://colab.research.google.com/drive/1yPXraqS3wnaw0qn4cajWsWA7wYlDG6xd?usp=sharing#scrollTo=cSgcrVgDOEam' if in_colab() else 'QB21_CS08_Coin_Flip_Solutions.ipynb#task2')))\n",
        "SolutionToTask3 = lambda: IPython.display.display(IPython.display.Javascript('window.open(\"{url}\");'.format(url='https://colab.research.google.com/drive/1yPXraqS3wnaw0qn4cajWsWA7wYlDG6xd?usp=sharing#scrollTo=QybWUMGROEan' if in_colab() else 'QB21_CS08_Coin_Flip_Solutions.ipynb#task3')))\n",
        "SolutionToTask4 = lambda: IPython.display.display(IPython.display.Javascript('window.open(\"{url}\");'.format(url='https://colab.research.google.com/drive/1yPXraqS3wnaw0qn4cajWsWA7wYlDG6xd?usp=sharing#scrollTo=clxQVSv6OEan' if in_colab() else 'QB21_CS08_Coin_Flip_Solutions.ipynb#task4')))"
      ]
    },
    {
      "cell_type": "markdown",
      "metadata": {
        "id": "u7f7MgkPTmx4"
      },
      "source": [
        "### A fair coin\n",
        "\n",
        "A coin has two sides: <i>Heads</i> and <i>Tails</i>.\n",
        "\n",
        "After flipping a coin, we get either Heads or Tails. We can represent these two different cases by a single bit:\n",
        "<ul>\n",
        "    <li> 0 represents Heads </li>\n",
        "    <li> 1 represents Tails </li>\n",
        "</ul>"
      ]
    },
    {
      "cell_type": "markdown",
      "metadata": {
        "id": "929MkD0CTmx4"
      },
      "source": [
        "<h3> Flipping a fair coin </h3>\n",
        "\n",
        "If our coin is fair, then the probabilities of getting Heads and Tails are equal:\n",
        "\n",
        "$ p= \\dfrac{1}{2} = 0.5 $.\n",
        "\n",
        "Flipping a fair coin can be represented as an operator:\n",
        "\n",
        "- $ FairCoin(Heads) = \\frac{1}{2} Heads + \\frac{1}{2}Tails $\n",
        "- $ FairCoin(Tails) \\mspace{10mu} = \\frac{1}{2} Heads + \\frac{1}{2}Tails $\n",
        "\n",
        "Here is its table representation:\n",
        "\n",
        "$\n",
        "FairCoin = \\begin{array}{c|cc} \\hookleftarrow & \\mathbf{Heads} & \\mathbf{Tails} \\\\ \\hline \\mathbf{Heads} & \\dfrac{1}{2} & \\dfrac{1}{2} \\\\  \\mathbf{Tails} & \\dfrac{1}{2} & \\dfrac{1}{2}  \\end{array}\n",
        "$\n",
        "\n",
        "Here is the same table by using 0 and 1 as the states:\n",
        "\n",
        "$\n",
        "FairCoin = \\begin{array}{c|cc} \\hookleftarrow & \\mathbf{0} & \\mathbf{1} \\\\ \\hline \\mathbf{0} & \\dfrac{1}{2} & \\dfrac{1}{2} \\\\  \\mathbf{1} & \\dfrac{1}{2} & \\dfrac{1}{2}  \\end{array}\n",
        "$"
      ]
    },
    {
      "cell_type": "markdown",
      "metadata": {
        "id": "q0BjqCdkTmx4"
      },
      "source": [
        "<h3> Task 1: Simulating FairCoin in Python</h3>\n",
        "\n",
        "Flip a fair coin 100 times. Calculate the total number of heads and tails, and then check the ratio of the number of heads and the number of tails.\n",
        "\n",
        "Do the same experiment 1000 times.\n",
        "\n",
        "Do the same experiment 10,000 times.\n",
        "\n",
        "Do the same experiment 100,000 times.\n",
        "\n",
        "Do your results get close to the ideal case (the numbers of heads and tails are equal)?"
      ]
    },
    {
      "cell_type": "code",
      "execution_count": 8,
      "metadata": {
        "id": "_GGkY_B3Tmx5",
        "outputId": "31375318-fe57-4550-fa53-91f4dd100c53",
        "colab": {
          "base_uri": "https://localhost:8080/"
        }
      },
      "outputs": [
        {
          "output_type": "stream",
          "name": "stdout",
          "text": [
            "The number of heads 508\n",
            "The number of tails 492\n",
            "Ratio : 1.0325\n",
            "\n",
            "The number of heads 5044\n",
            "The number of tails 4956\n",
            "Ratio : 1.0178\n",
            "\n",
            "The number of heads 50054\n",
            "The number of tails 49946\n",
            "Ratio : 1.0022\n",
            "\n"
          ]
        }
      ],
      "source": [
        "from random import randrange\n",
        "\n",
        "# you may use method 'randrange' for this task\n",
        "# randrange(n) returns a value from {0,1,...,n-1} randomly\n",
        "\n",
        "for experiment in [1000,10000,100000]:\n",
        "  heads=tails=0\n",
        "  for i in range(experiment):\n",
        "    if randrange(2)==0: heads +=1\n",
        "    else: tails +=1\n",
        "  print(f'The number of heads {heads}')\n",
        "  print(f'The number of tails {tails}')\n",
        "  print(f'Ratio : {round(heads/tails,4)}')\n",
        "  print()"
      ]
    },
    {
      "cell_type": "markdown",
      "metadata": {
        "id": "nW_oxk4mTmx5"
      },
      "source": [
        "To check out our solution, run the next cell:"
      ]
    },
    {
      "cell_type": "code",
      "execution_count": 2,
      "metadata": {
        "id": "QHixwHTKTmx5",
        "outputId": "0e2b47c1-c8d6-46b6-a91e-5e535c79d41a",
        "colab": {
          "base_uri": "https://localhost:8080/",
          "height": 17
        }
      },
      "outputs": [
        {
          "output_type": "display_data",
          "data": {
            "text/plain": [
              "<IPython.core.display.Javascript object>"
            ],
            "application/javascript": [
              "window.open(\"https://colab.research.google.com/drive/1yPXraqS3wnaw0qn4cajWsWA7wYlDG6xd?usp=sharing#scrollTo=xvaIxSaCOEak\");"
            ]
          },
          "metadata": {}
        }
      ],
      "source": [
        "SolutionToTask1()  # show solution for task 1"
      ]
    },
    {
      "cell_type": "markdown",
      "metadata": {
        "id": "nkz4EZ73Tmx5"
      },
      "source": [
        "<h3> Flipping a biased coin </h3>\n",
        "\n",
        "Our coin may have a bias.\n",
        "\n",
        "For example, the probability of getting heads is greater than the probability of getting tails.\n",
        "\n",
        "Here is an example:\n",
        "\n",
        "$\n",
        "BiasedCoin = \\begin{array}{c|cc} \\hookleftarrow & \\mathbf{Heads} & \\mathbf{Tails} \\\\ \\hline \\mathbf{Heads} & 0.6 & 0.6 \\\\  \\mathbf{Tails} & 0.4 & 0.4  \\end{array}\n",
        "$\n",
        "\n",
        "By using 0 and 1 as the states:\n",
        "\n",
        "$\n",
        "BiasedCoin = \\begin{array}{c|cc} \\hookleftarrow & \\mathbf{0} & \\mathbf{1} \\\\ \\hline \\mathbf{0} & 0.6 & 0.6\\\\  \\mathbf{1} & 0.4 & 0.4 \\end{array}\n",
        "$"
      ]
    },
    {
      "cell_type": "markdown",
      "metadata": {
        "id": "bOS-jWUcTmx5"
      },
      "source": [
        "<h3> Task 2: Simulating BiasedCoin in Python</h3>\n",
        "\n",
        "Flip the following biased coin 100 times. Calculate the total numbers of heads and tails, and then check the ratio of the number of heads and the number of tails.\n",
        "\n",
        "$\n",
        "BiasedCoin = \\begin{array}{c|cc} \\hookleftarrow & \\mathbf{Head} & \\mathbf{Tail} \\\\ \\hline \\mathbf{Head} & 0.6 & 0.6 \\\\  \\mathbf{Tail} & 0.4 & 0.4  \\end{array}\n",
        "$\n",
        "\n",
        "\n",
        "Do the same experiment 1000 times.\n",
        "\n",
        "Do the same experiment 10,000 times.\n",
        "\n",
        "Do the same experiment 100,000 times.\n",
        "\n",
        "Do your results get close to the ideal case $ \\mypar{ \\dfrac{\\mbox{\\# of heads}}{\\mbox{\\# of tails}} = \\dfrac{0.6}{0.4} = 1.50000000 } $?"
      ]
    },
    {
      "cell_type": "code",
      "execution_count": 9,
      "metadata": {
        "id": "t4HtxcnWTmx5",
        "outputId": "f3835a93-0bea-4ef9-de81-0d0a64c464c8",
        "colab": {
          "base_uri": "https://localhost:8080/"
        }
      },
      "outputs": [
        {
          "output_type": "stream",
          "name": "stdout",
          "text": [
            "The number of heads 600\n",
            "The number of tails 400\n",
            "Ratio : 1.5\n",
            "\n",
            "The number of heads 5981\n",
            "The number of tails 4019\n",
            "Ratio : 1.4882\n",
            "\n",
            "The number of heads 59979\n",
            "The number of tails 40021\n",
            "Ratio : 1.4987\n",
            "\n"
          ]
        }
      ],
      "source": [
        "#\n",
        "# you may use method 'randrange' for this task\n",
        "# randrange(n) returns a value from {0,1,...,n-1} randomly\n",
        "#\n",
        "\n",
        "for experiment in [1000,10000,100000]:\n",
        "  heads=tails=0\n",
        "  for i in range(experiment):\n",
        "    if randrange(100) <60: heads +=1\n",
        "    else: tails +=1\n",
        "  print(f'The number of heads {heads}')\n",
        "  print(f'The number of tails {tails}')\n",
        "  print(f'Ratio : {round(heads/tails,4)}')\n",
        "  print()\n",
        "\n"
      ]
    },
    {
      "cell_type": "markdown",
      "metadata": {
        "id": "O2DVjVQgTmx6"
      },
      "source": [
        "To check out our solution, run the next cell:"
      ]
    },
    {
      "cell_type": "code",
      "execution_count": null,
      "metadata": {
        "id": "Qn-Sy5DpTmx6"
      },
      "outputs": [],
      "source": [
        "SolutionToTask2()  # show solution for task 2"
      ]
    },
    {
      "cell_type": "markdown",
      "metadata": {
        "id": "YaSGkntxTmx6"
      },
      "source": [
        "---\n",
        "\n",
        "<h3> Extra: Programming a biased coin </h3>\n",
        "\n",
        "We use a simple method to create a biased coin.\n",
        "\n",
        "First, we pick a range for the precision of probabilities, say $ N $, as $ N = 11, 101, 1001, \\mbox{ or }, 10^k+1 $ for some $ k > 3 $.\n",
        "\n",
        "Second, we pick the bias, say $ B $, as an integer in $ \\{0,\\ldots,N\\} $.\n",
        "\n",
        "We fix $ N $ and $ B $.\n",
        "\n",
        "Third, we pick a random integer in $ \\{0,1,\\ldots,N-1\\} $:\n",
        "\n",
        "- if it is less than $ B $, we output \"Heads\" and\n",
        "- if it is equal to or greater than $ B $, we output \"Tails\"\n",
        "\n",
        "    \n",
        "In this way, we have a biased coin \"landing on\" heads with probability $ \\frac{B}{N} $ including 0 and 1.\n",
        "\n",
        "Remark that we pick $ N = 10^k+1 $ as an odd number. In this way, the coin cannot be fair as long as $ B $ is an integer. Because, the half of an odd integer is not an integer."
      ]
    },
    {
      "cell_type": "markdown",
      "metadata": {
        "id": "ZHg79bgKTmx6"
      },
      "source": [
        "<h3> Task 3 </h3>\n",
        "\n",
        "Write a function to implement the described biased coin,\n",
        "\n",
        "The inputs are integers $N>0$ and $ B \\in \\{0,\\ldots,N\\} $.\n",
        "\n",
        "The output is either \"Heads\" or \"Tails\"."
      ]
    },
    {
      "cell_type": "code",
      "execution_count": 16,
      "metadata": {
        "id": "1wEznw9nTmx6"
      },
      "outputs": [],
      "source": [
        "def biased_coin(N,B):\n",
        "    from random import randrange\n",
        "    rand_int=randrange(N)\n",
        "    if rand_int <B: return 0 #heads\n",
        "    else: return 1 #tails\n",
        "\n"
      ]
    },
    {
      "cell_type": "markdown",
      "metadata": {
        "id": "7Q8nGSFbTmx6"
      },
      "source": [
        "To check out our solution, run the next cell:"
      ]
    },
    {
      "cell_type": "code",
      "execution_count": null,
      "metadata": {
        "id": "5uBi6vlWTmx6"
      },
      "outputs": [],
      "source": [
        "SolutionToTask3()  # show solution for task 3"
      ]
    },
    {
      "cell_type": "markdown",
      "metadata": {
        "id": "BlGbMjVuTmx6"
      },
      "source": [
        "<h3> Task 4</h3>\n",
        "\n",
        "We use the biased coin described in Task 3.\n",
        "\n",
        "(You may use the function given <a href=\"CS08_Coin_Flip_Solutions.ipynb#task3\">in the solution</a>.)\n",
        "\n",
        "We pick $ N $ as 101.\n",
        "\n",
        "Our task is to determine the value of $ B $ experimentially without looking its value directly.\n",
        "\n",
        "Flip the (same) biased coin 500 times, collect the statistics, and then guess the bias.\n",
        "\n",
        "Compare your guess with the actual bias by calculating the relative error in percentage (the absolute value of the difference divided by the real bias)."
      ]
    },
    {
      "cell_type": "code",
      "execution_count": 17,
      "metadata": {
        "id": "0TSs1M1MTmx6",
        "outputId": "588dfee8-3622-4cb1-e5ad-b9dec0a97b93",
        "colab": {
          "base_uri": "https://localhost:8080/"
        }
      },
      "outputs": [
        {
          "output_type": "stream",
          "name": "stdout",
          "text": [
            "Actual bias 0.1683\n",
            "\n",
            "Calculated bias 0.202\n",
            "Error 20.011764705882353\n"
          ]
        }
      ],
      "source": [
        "from random import randrange\n",
        "N = 101\n",
        "B = randrange(N+1)\n",
        "heads=0\n",
        "for i in range(500):\n",
        "  if biased_coin(N,B)==0: heads +=1\n",
        "\n",
        "real_bias= B/N\n",
        "calc_bias=heads/500\n",
        "print(f'Actual bias {round(real_bias,4)}')\n",
        "print()\n",
        "print(f'Calculated bias {round(calc_bias,4)}')\n",
        "print(f'Error {abs(real_bias - calc_bias)/(real_bias)*100}')"
      ]
    },
    {
      "cell_type": "markdown",
      "metadata": {
        "id": "BkFNwHqMTmx6"
      },
      "source": [
        "To check out our solution, run the next cell:"
      ]
    },
    {
      "cell_type": "code",
      "execution_count": null,
      "metadata": {
        "id": "5GOJI-gATmx6"
      },
      "outputs": [],
      "source": [
        "SolutionToTask4()  # show solution for task 4"
      ]
    }
  ],
  "metadata": {
    "kernelspec": {
      "display_name": "Python 3 (ipykernel)",
      "language": "python",
      "name": "python3"
    },
    "language_info": {
      "codemirror_mode": {
        "name": "ipython",
        "version": 3
      },
      "file_extension": ".py",
      "mimetype": "text/x-python",
      "name": "python",
      "nbconvert_exporter": "python",
      "pygments_lexer": "ipython3",
      "version": "3.11.4"
    },
    "colab": {
      "provenance": [],
      "collapsed_sections": [
        "6jJnU0ecTmx3"
      ]
    }
  },
  "nbformat": 4,
  "nbformat_minor": 0
}