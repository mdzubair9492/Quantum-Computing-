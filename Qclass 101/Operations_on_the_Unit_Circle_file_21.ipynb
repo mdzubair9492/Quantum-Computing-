{
  "cells": [
    {
      "cell_type": "markdown",
      "metadata": {
        "id": "Hf3GQN0xpy7T"
      },
      "source": [
        "<a href=\"https://qworld.net\" target=\"_blank\" align=\"left\"><img src=\"https://gitlab.com/qworld/qeducation/qbook101/raw/main/qworld/images/header.jpg\" align=\"left\"></a>\n",
        "$ \\newcommand{\\bra}[1]{\\langle #1|} $\n",
        "$ \\newcommand{\\ket}[1]{|#1\\rangle} $\n",
        "$ \\newcommand{\\braket}[2]{\\langle #1|#2\\rangle} $\n",
        "$ \\newcommand{\\dot}[2]{ #1 \\cdot #2} $\n",
        "$ \\newcommand{\\biginner}[2]{\\left\\langle #1,#2\\right\\rangle} $\n",
        "$ \\newcommand{\\mymatrix}[2]{\\left( \\begin{array}{#1} #2\\end{array} \\right)} $\n",
        "$ \\newcommand{\\myvector}[1]{\\mymatrix{c}{#1}} $\n",
        "$ \\newcommand{\\myrvector}[1]{\\mymatrix{r}{#1}} $\n",
        "$ \\newcommand{\\mypar}[1]{\\left( #1 \\right)} $\n",
        "$ \\newcommand{\\mybigpar}[1]{ \\Big( #1 \\Big)} $\n",
        "$ \\newcommand{\\sqrttwo}{\\frac{1}{\\sqrt{2}}} $\n",
        "$ \\newcommand{\\dsqrttwo}{\\dfrac{1}{\\sqrt{2}}} $\n",
        "$ \\newcommand{\\onehalf}{\\frac{1}{2}} $\n",
        "$ \\newcommand{\\donehalf}{\\dfrac{1}{2}} $\n",
        "$ \\newcommand{\\hadamard}{ \\mymatrix{rr}{ \\sqrttwo & \\sqrttwo \\\\ \\sqrttwo & -\\sqrttwo }} $\n",
        "$ \\newcommand{\\vzero}{\\myvector{1\\\\0}} $\n",
        "$ \\newcommand{\\vone}{\\myvector{0\\\\1}} $\n",
        "$ \\newcommand{\\stateplus}{\\myvector{ \\sqrttwo \\\\  \\sqrttwo } } $\n",
        "$ \\newcommand{\\stateminus}{ \\myrvector{ \\sqrttwo \\\\ -\\sqrttwo } } $\n",
        "$ \\newcommand{\\myarray}[2]{ \\begin{array}{#1}#2\\end{array}} $\n",
        "$ \\newcommand{\\X}{ \\mymatrix{cc}{0 & 1 \\\\ 1 & 0}  } $\n",
        "$ \\newcommand{\\I}{ \\mymatrix{rr}{1 & 0 \\\\ 0 & 1}  } $\n",
        "$ \\newcommand{\\Z}{ \\mymatrix{rr}{1 & 0 \\\\ 0 & -1}  } $\n",
        "$ \\newcommand{\\Htwo}{ \\mymatrix{rrrr}{ \\frac{1}{2} & \\frac{1}{2} & \\frac{1}{2} & \\frac{1}{2} \\\\ \\frac{1}{2} & -\\frac{1}{2} & \\frac{1}{2} & -\\frac{1}{2} \\\\ \\frac{1}{2} & \\frac{1}{2} & -\\frac{1}{2} & -\\frac{1}{2} \\\\ \\frac{1}{2} & -\\frac{1}{2} & -\\frac{1}{2} & \\frac{1}{2} } } $\n",
        "$ \\newcommand{\\CNOT}{ \\mymatrix{cccc}{1 & 0 & 0 & 0 \\\\ 0 & 1 & 0 & 0 \\\\ 0 & 0 & 0 & 1 \\\\ 0 & 0 & 1 & 0} } $\n",
        "$ \\newcommand{\\norm}[1]{ \\left\\lVert #1 \\right\\rVert } $\n",
        "$ \\newcommand{\\pstate}[1]{ \\lceil \\mspace{-1mu} #1 \\mspace{-1.5mu} \\rfloor } $\n",
        "$ \\newcommand{\\greenbit}[1] {\\mathbf{{\\color{green}#1}}} $\n",
        "$ \\newcommand{\\bluebit}[1] {\\mathbf{{\\color{blue}#1}}} $\n",
        "$ \\newcommand{\\redbit}[1] {\\mathbf{{\\color{red}#1}}} $\n",
        "$ \\newcommand{\\brownbit}[1] {\\mathbf{{\\color{brown}#1}}} $\n",
        "$ \\newcommand{\\blackbit}[1] {\\mathbf{{\\color{black}#1}}} $"
      ]
    },
    {
      "cell_type": "markdown",
      "metadata": {
        "id": "r6sY4UIbpy7W"
      },
      "source": [
        "_prepared by Abuzer Yakaryilmaz_"
      ]
    },
    {
      "cell_type": "markdown",
      "metadata": {
        "id": "KPPyWCUKpy7W"
      },
      "source": [
        "<font size=\"28px\" style=\"font-size:28px;\" align=\"left\"><b>Operations on the Unit Circle  </b></font>\n",
        "<br>\n",
        "<br><br>\n",
        "[<img src=\"https://gitlab.com/qworld/qeducation/qbook101/raw/main/qworld/images/watch_lecture.jpg\" align=\"left\">](https://youtu.be/FDn7cMimNAU)\n",
        "<br><br><br>"
      ]
    },
    {
      "cell_type": "markdown",
      "metadata": {
        "jp-MarkdownHeadingCollapsed": true,
        "id": "Olk6xy8Bpy7X"
      },
      "source": [
        "##### <font color=\"#08b806\">Please execute the following cell, it is necessary to distinguish between your local environment and Google Colab's"
      ]
    },
    {
      "cell_type": "code",
      "execution_count": 2,
      "metadata": {
        "id": "0J2W1yzFpy7Y",
        "outputId": "f4f8590a-87fb-42dd-b35b-c0f9fb0589d8",
        "colab": {
          "base_uri": "https://localhost:8080/"
        }
      },
      "outputs": [
        {
          "output_type": "stream",
          "name": "stdout",
          "text": [
            "--2023-11-30 13:22:09--  https://gitlab.com/qworld/qeducation/qbook101/raw/main/qworld/include/quantum.py\n",
            "Resolving gitlab.com (gitlab.com)... 172.65.251.78, 2606:4700:90:0:f22e:fbec:5bed:a9b9\n",
            "Connecting to gitlab.com (gitlab.com)|172.65.251.78|:443... connected.\n",
            "HTTP request sent, awaiting response... 200 OK\n",
            "Length: 2760 (2.7K) [text/plain]\n",
            "Saving to: ‘quantum.py’\n",
            "\n",
            "quantum.py          100%[===================>]   2.70K  --.-KB/s    in 0s      \n",
            "\n",
            "2023-11-30 13:22:09 (55.6 MB/s) - ‘quantum.py’ saved [2760/2760]\n",
            "\n",
            "--2023-11-30 13:22:09--  https://gitlab.com/qworld/qeducation/qbook101/raw/main/qworld/include/drawing.py\n",
            "Resolving gitlab.com (gitlab.com)... 172.65.251.78, 2606:4700:90:0:f22e:fbec:5bed:a9b9\n",
            "Connecting to gitlab.com (gitlab.com)|172.65.251.78|:443... connected.\n",
            "HTTP request sent, awaiting response... 200 OK\n",
            "Length: 6260 (6.1K) [text/plain]\n",
            "Saving to: ‘drawing.py’\n",
            "\n",
            "drawing.py          100%[===================>]   6.11K  --.-KB/s    in 0s      \n",
            "\n",
            "2023-11-30 13:22:09 (73.4 MB/s) - ‘drawing.py’ saved [6260/6260]\n",
            "\n",
            "--2023-11-30 13:22:09--  https://gitlab.com/qworld/qeducation/qbook101/raw/main/qworld/include/quantum_state.py\n",
            "Resolving gitlab.com (gitlab.com)... 172.65.251.78, 2606:4700:90:0:f22e:fbec:5bed:a9b9\n",
            "Connecting to gitlab.com (gitlab.com)|172.65.251.78|:443... connected.\n",
            "HTTP request sent, awaiting response... 200 OK\n",
            "Length: 1391 (1.4K) [text/plain]\n",
            "Saving to: ‘quantum_state.py’\n",
            "\n",
            "quantum_state.py    100%[===================>]   1.36K  --.-KB/s    in 0s      \n",
            "\n",
            "2023-11-30 13:22:10 (17.9 MB/s) - ‘quantum_state.py’ saved [1391/1391]\n",
            "\n",
            "--2023-11-30 13:22:10--  https://gitlab.com/qworld/qeducation/qbook101/raw/main/qworld/include/grover.py\n",
            "Resolving gitlab.com (gitlab.com)... 172.65.251.78, 2606:4700:90:0:f22e:fbec:5bed:a9b9\n",
            "Connecting to gitlab.com (gitlab.com)|172.65.251.78|:443... connected.\n",
            "HTTP request sent, awaiting response... 200 OK\n",
            "Length: 6778 (6.6K) [text/plain]\n",
            "Saving to: ‘grover.py’\n",
            "\n",
            "grover.py           100%[===================>]   6.62K  --.-KB/s    in 0s      \n",
            "\n",
            "2023-11-30 13:22:10 (85.4 MB/s) - ‘grover.py’ saved [6778/6778]\n",
            "\n",
            "Collecting qiskit[visualization]\n",
            "  Downloading qiskit-0.45.1-py3-none-any.whl (9.6 kB)\n",
            "Collecting qiskit-terra==0.45.1 (from qiskit[visualization])\n",
            "  Downloading qiskit_terra-0.45.1-cp38-abi3-manylinux_2_17_x86_64.manylinux2014_x86_64.whl (6.3 MB)\n",
            "\u001b[2K     \u001b[90m━━━━━━━━━━━━━━━━━━━━━━━━━━━━━━━━━━━━━━━━\u001b[0m \u001b[32m6.3/6.3 MB\u001b[0m \u001b[31m77.6 MB/s\u001b[0m eta \u001b[36m0:00:00\u001b[0m\n",
            "\u001b[?25hCollecting rustworkx>=0.13.0 (from qiskit-terra==0.45.1->qiskit[visualization])\n",
            "  Downloading rustworkx-0.13.2-cp310-cp310-manylinux_2_17_x86_64.manylinux2014_x86_64.whl (2.0 MB)\n",
            "\u001b[2K     \u001b[90m━━━━━━━━━━━━━━━━━━━━━━━━━━━━━━━━━━━━━━━━\u001b[0m \u001b[32m2.0/2.0 MB\u001b[0m \u001b[31m114.9 MB/s\u001b[0m eta \u001b[36m0:00:00\u001b[0m\n",
            "\u001b[?25hRequirement already satisfied: numpy<2,>=1.17 in /usr/local/lib/python3.10/dist-packages (from qiskit-terra==0.45.1->qiskit[visualization]) (1.23.5)\n",
            "Collecting ply>=3.10 (from qiskit-terra==0.45.1->qiskit[visualization])\n",
            "  Downloading ply-3.11-py2.py3-none-any.whl (49 kB)\n",
            "\u001b[2K     \u001b[90m━━━━━━━━━━━━━━━━━━━━━━━━━━━━━━━━━━━━━━━━\u001b[0m \u001b[32m49.6/49.6 kB\u001b[0m \u001b[31m7.4 MB/s\u001b[0m eta \u001b[36m0:00:00\u001b[0m\n",
            "\u001b[?25hRequirement already satisfied: psutil>=5 in /usr/local/lib/python3.10/dist-packages (from qiskit-terra==0.45.1->qiskit[visualization]) (5.9.5)\n",
            "Requirement already satisfied: scipy>=1.5 in /usr/local/lib/python3.10/dist-packages (from qiskit-terra==0.45.1->qiskit[visualization]) (1.11.3)\n",
            "Requirement already satisfied: sympy>=1.3 in /usr/local/lib/python3.10/dist-packages (from qiskit-terra==0.45.1->qiskit[visualization]) (1.12)\n",
            "Collecting dill>=0.3 (from qiskit-terra==0.45.1->qiskit[visualization])\n",
            "  Downloading dill-0.3.7-py3-none-any.whl (115 kB)\n",
            "\u001b[2K     \u001b[90m━━━━━━━━━━━━━━━━━━━━━━━━━━━━━━━━━━━━━━━━\u001b[0m \u001b[32m115.3/115.3 kB\u001b[0m \u001b[31m20.0 MB/s\u001b[0m eta \u001b[36m0:00:00\u001b[0m\n",
            "\u001b[?25hRequirement already satisfied: python-dateutil>=2.8.0 in /usr/local/lib/python3.10/dist-packages (from qiskit-terra==0.45.1->qiskit[visualization]) (2.8.2)\n",
            "Collecting stevedore>=3.0.0 (from qiskit-terra==0.45.1->qiskit[visualization])\n",
            "  Downloading stevedore-5.1.0-py3-none-any.whl (49 kB)\n",
            "\u001b[2K     \u001b[90m━━━━━━━━━━━━━━━━━━━━━━━━━━━━━━━━━━━━━━━━\u001b[0m \u001b[32m49.6/49.6 kB\u001b[0m \u001b[31m7.9 MB/s\u001b[0m eta \u001b[36m0:00:00\u001b[0m\n",
            "\u001b[?25hCollecting symengine!=0.10.0,>=0.9 (from qiskit-terra==0.45.1->qiskit[visualization])\n",
            "  Downloading symengine-0.11.0-cp310-cp310-manylinux_2_12_x86_64.manylinux2010_x86_64.whl (39.4 MB)\n",
            "\u001b[2K     \u001b[90m━━━━━━━━━━━━━━━━━━━━━━━━━━━━━━━━━━━━━━━━\u001b[0m \u001b[32m39.4/39.4 MB\u001b[0m \u001b[31m20.3 MB/s\u001b[0m eta \u001b[36m0:00:00\u001b[0m\n",
            "\u001b[?25hRequirement already satisfied: typing-extensions in /usr/local/lib/python3.10/dist-packages (from qiskit-terra==0.45.1->qiskit[visualization]) (4.5.0)\n",
            "Requirement already satisfied: matplotlib>=3.3 in /usr/local/lib/python3.10/dist-packages (from qiskit-terra==0.45.1->qiskit[visualization]) (3.7.1)\n",
            "Requirement already satisfied: ipywidgets>=7.3.0 in /usr/local/lib/python3.10/dist-packages (from qiskit-terra==0.45.1->qiskit[visualization]) (7.7.1)\n",
            "Requirement already satisfied: pydot in /usr/local/lib/python3.10/dist-packages (from qiskit-terra==0.45.1->qiskit[visualization]) (1.4.2)\n",
            "Requirement already satisfied: pillow>=4.2.1 in /usr/local/lib/python3.10/dist-packages (from qiskit-terra==0.45.1->qiskit[visualization]) (9.4.0)\n",
            "Collecting pylatexenc>=1.4 (from qiskit-terra==0.45.1->qiskit[visualization])\n",
            "  Downloading pylatexenc-2.10.tar.gz (162 kB)\n",
            "\u001b[2K     \u001b[90m━━━━━━━━━━━━━━━━━━━━━━━━━━━━━━━━━━━━━━━━\u001b[0m \u001b[32m162.6/162.6 kB\u001b[0m \u001b[31m25.3 MB/s\u001b[0m eta \u001b[36m0:00:00\u001b[0m\n",
            "\u001b[?25h  Preparing metadata (setup.py) ... \u001b[?25l\u001b[?25hdone\n",
            "Requirement already satisfied: seaborn>=0.9.0 in /usr/local/lib/python3.10/dist-packages (from qiskit-terra==0.45.1->qiskit[visualization]) (0.12.2)\n",
            "Requirement already satisfied: pygments>=2.4 in /usr/local/lib/python3.10/dist-packages (from qiskit-terra==0.45.1->qiskit[visualization]) (2.16.1)\n",
            "Requirement already satisfied: ipykernel>=4.5.1 in /usr/local/lib/python3.10/dist-packages (from ipywidgets>=7.3.0->qiskit-terra==0.45.1->qiskit[visualization]) (5.5.6)\n",
            "Requirement already satisfied: ipython-genutils~=0.2.0 in /usr/local/lib/python3.10/dist-packages (from ipywidgets>=7.3.0->qiskit-terra==0.45.1->qiskit[visualization]) (0.2.0)\n",
            "Requirement already satisfied: traitlets>=4.3.1 in /usr/local/lib/python3.10/dist-packages (from ipywidgets>=7.3.0->qiskit-terra==0.45.1->qiskit[visualization]) (5.7.1)\n",
            "Requirement already satisfied: widgetsnbextension~=3.6.0 in /usr/local/lib/python3.10/dist-packages (from ipywidgets>=7.3.0->qiskit-terra==0.45.1->qiskit[visualization]) (3.6.6)\n",
            "Requirement already satisfied: ipython>=4.0.0 in /usr/local/lib/python3.10/dist-packages (from ipywidgets>=7.3.0->qiskit-terra==0.45.1->qiskit[visualization]) (7.34.0)\n",
            "Requirement already satisfied: jupyterlab-widgets>=1.0.0 in /usr/local/lib/python3.10/dist-packages (from ipywidgets>=7.3.0->qiskit-terra==0.45.1->qiskit[visualization]) (3.0.9)\n",
            "Requirement already satisfied: contourpy>=1.0.1 in /usr/local/lib/python3.10/dist-packages (from matplotlib>=3.3->qiskit-terra==0.45.1->qiskit[visualization]) (1.2.0)\n",
            "Requirement already satisfied: cycler>=0.10 in /usr/local/lib/python3.10/dist-packages (from matplotlib>=3.3->qiskit-terra==0.45.1->qiskit[visualization]) (0.12.1)\n",
            "Requirement already satisfied: fonttools>=4.22.0 in /usr/local/lib/python3.10/dist-packages (from matplotlib>=3.3->qiskit-terra==0.45.1->qiskit[visualization]) (4.44.3)\n",
            "Requirement already satisfied: kiwisolver>=1.0.1 in /usr/local/lib/python3.10/dist-packages (from matplotlib>=3.3->qiskit-terra==0.45.1->qiskit[visualization]) (1.4.5)\n",
            "Requirement already satisfied: packaging>=20.0 in /usr/local/lib/python3.10/dist-packages (from matplotlib>=3.3->qiskit-terra==0.45.1->qiskit[visualization]) (23.2)\n",
            "Requirement already satisfied: pyparsing>=2.3.1 in /usr/local/lib/python3.10/dist-packages (from matplotlib>=3.3->qiskit-terra==0.45.1->qiskit[visualization]) (3.1.1)\n",
            "Requirement already satisfied: six>=1.5 in /usr/local/lib/python3.10/dist-packages (from python-dateutil>=2.8.0->qiskit-terra==0.45.1->qiskit[visualization]) (1.16.0)\n",
            "Requirement already satisfied: pandas>=0.25 in /usr/local/lib/python3.10/dist-packages (from seaborn>=0.9.0->qiskit-terra==0.45.1->qiskit[visualization]) (1.5.3)\n",
            "Collecting pbr!=2.1.0,>=2.0.0 (from stevedore>=3.0.0->qiskit-terra==0.45.1->qiskit[visualization])\n",
            "  Downloading pbr-6.0.0-py2.py3-none-any.whl (107 kB)\n",
            "\u001b[2K     \u001b[90m━━━━━━━━━━━━━━━━━━━━━━━━━━━━━━━━━━━━━━━━\u001b[0m \u001b[32m107.5/107.5 kB\u001b[0m \u001b[31m16.4 MB/s\u001b[0m eta \u001b[36m0:00:00\u001b[0m\n",
            "\u001b[?25hRequirement already satisfied: mpmath>=0.19 in /usr/local/lib/python3.10/dist-packages (from sympy>=1.3->qiskit-terra==0.45.1->qiskit[visualization]) (1.3.0)\n",
            "Requirement already satisfied: jupyter-client in /usr/local/lib/python3.10/dist-packages (from ipykernel>=4.5.1->ipywidgets>=7.3.0->qiskit-terra==0.45.1->qiskit[visualization]) (6.1.12)\n",
            "Requirement already satisfied: tornado>=4.2 in /usr/local/lib/python3.10/dist-packages (from ipykernel>=4.5.1->ipywidgets>=7.3.0->qiskit-terra==0.45.1->qiskit[visualization]) (6.3.2)\n",
            "Requirement already satisfied: setuptools>=18.5 in /usr/local/lib/python3.10/dist-packages (from ipython>=4.0.0->ipywidgets>=7.3.0->qiskit-terra==0.45.1->qiskit[visualization]) (67.7.2)\n",
            "Collecting jedi>=0.16 (from ipython>=4.0.0->ipywidgets>=7.3.0->qiskit-terra==0.45.1->qiskit[visualization])\n",
            "  Downloading jedi-0.19.1-py2.py3-none-any.whl (1.6 MB)\n",
            "\u001b[2K     \u001b[90m━━━━━━━━━━━━━━━━━━━━━━━━━━━━━━━━━━━━━━━━\u001b[0m \u001b[32m1.6/1.6 MB\u001b[0m \u001b[31m110.4 MB/s\u001b[0m eta \u001b[36m0:00:00\u001b[0m\n",
            "\u001b[?25hRequirement already satisfied: decorator in /usr/local/lib/python3.10/dist-packages (from ipython>=4.0.0->ipywidgets>=7.3.0->qiskit-terra==0.45.1->qiskit[visualization]) (4.4.2)\n",
            "Requirement already satisfied: pickleshare in /usr/local/lib/python3.10/dist-packages (from ipython>=4.0.0->ipywidgets>=7.3.0->qiskit-terra==0.45.1->qiskit[visualization]) (0.7.5)\n",
            "Requirement already satisfied: prompt-toolkit!=3.0.0,!=3.0.1,<3.1.0,>=2.0.0 in /usr/local/lib/python3.10/dist-packages (from ipython>=4.0.0->ipywidgets>=7.3.0->qiskit-terra==0.45.1->qiskit[visualization]) (3.0.41)\n",
            "Requirement already satisfied: backcall in /usr/local/lib/python3.10/dist-packages (from ipython>=4.0.0->ipywidgets>=7.3.0->qiskit-terra==0.45.1->qiskit[visualization]) (0.2.0)\n",
            "Requirement already satisfied: matplotlib-inline in /usr/local/lib/python3.10/dist-packages (from ipython>=4.0.0->ipywidgets>=7.3.0->qiskit-terra==0.45.1->qiskit[visualization]) (0.1.6)\n",
            "Requirement already satisfied: pexpect>4.3 in /usr/local/lib/python3.10/dist-packages (from ipython>=4.0.0->ipywidgets>=7.3.0->qiskit-terra==0.45.1->qiskit[visualization]) (4.8.0)\n",
            "Requirement already satisfied: pytz>=2020.1 in /usr/local/lib/python3.10/dist-packages (from pandas>=0.25->seaborn>=0.9.0->qiskit-terra==0.45.1->qiskit[visualization]) (2023.3.post1)\n",
            "Requirement already satisfied: notebook>=4.4.1 in /usr/local/lib/python3.10/dist-packages (from widgetsnbextension~=3.6.0->ipywidgets>=7.3.0->qiskit-terra==0.45.1->qiskit[visualization]) (6.5.5)\n",
            "Requirement already satisfied: parso<0.9.0,>=0.8.3 in /usr/local/lib/python3.10/dist-packages (from jedi>=0.16->ipython>=4.0.0->ipywidgets>=7.3.0->qiskit-terra==0.45.1->qiskit[visualization]) (0.8.3)\n",
            "Requirement already satisfied: jinja2 in /usr/local/lib/python3.10/dist-packages (from notebook>=4.4.1->widgetsnbextension~=3.6.0->ipywidgets>=7.3.0->qiskit-terra==0.45.1->qiskit[visualization]) (3.1.2)\n",
            "Requirement already satisfied: pyzmq<25,>=17 in /usr/local/lib/python3.10/dist-packages (from notebook>=4.4.1->widgetsnbextension~=3.6.0->ipywidgets>=7.3.0->qiskit-terra==0.45.1->qiskit[visualization]) (23.2.1)\n",
            "Requirement already satisfied: argon2-cffi in /usr/local/lib/python3.10/dist-packages (from notebook>=4.4.1->widgetsnbextension~=3.6.0->ipywidgets>=7.3.0->qiskit-terra==0.45.1->qiskit[visualization]) (23.1.0)\n",
            "Requirement already satisfied: jupyter-core>=4.6.1 in /usr/local/lib/python3.10/dist-packages (from notebook>=4.4.1->widgetsnbextension~=3.6.0->ipywidgets>=7.3.0->qiskit-terra==0.45.1->qiskit[visualization]) (5.5.0)\n",
            "Requirement already satisfied: nbformat in /usr/local/lib/python3.10/dist-packages (from notebook>=4.4.1->widgetsnbextension~=3.6.0->ipywidgets>=7.3.0->qiskit-terra==0.45.1->qiskit[visualization]) (5.9.2)\n",
            "Requirement already satisfied: nbconvert>=5 in /usr/local/lib/python3.10/dist-packages (from notebook>=4.4.1->widgetsnbextension~=3.6.0->ipywidgets>=7.3.0->qiskit-terra==0.45.1->qiskit[visualization]) (6.5.4)\n",
            "Requirement already satisfied: nest-asyncio>=1.5 in /usr/local/lib/python3.10/dist-packages (from notebook>=4.4.1->widgetsnbextension~=3.6.0->ipywidgets>=7.3.0->qiskit-terra==0.45.1->qiskit[visualization]) (1.5.8)\n",
            "Requirement already satisfied: Send2Trash>=1.8.0 in /usr/local/lib/python3.10/dist-packages (from notebook>=4.4.1->widgetsnbextension~=3.6.0->ipywidgets>=7.3.0->qiskit-terra==0.45.1->qiskit[visualization]) (1.8.2)\n",
            "Requirement already satisfied: terminado>=0.8.3 in /usr/local/lib/python3.10/dist-packages (from notebook>=4.4.1->widgetsnbextension~=3.6.0->ipywidgets>=7.3.0->qiskit-terra==0.45.1->qiskit[visualization]) (0.18.0)\n",
            "Requirement already satisfied: prometheus-client in /usr/local/lib/python3.10/dist-packages (from notebook>=4.4.1->widgetsnbextension~=3.6.0->ipywidgets>=7.3.0->qiskit-terra==0.45.1->qiskit[visualization]) (0.18.0)\n",
            "Requirement already satisfied: nbclassic>=0.4.7 in /usr/local/lib/python3.10/dist-packages (from notebook>=4.4.1->widgetsnbextension~=3.6.0->ipywidgets>=7.3.0->qiskit-terra==0.45.1->qiskit[visualization]) (1.0.0)\n",
            "Requirement already satisfied: ptyprocess>=0.5 in /usr/local/lib/python3.10/dist-packages (from pexpect>4.3->ipython>=4.0.0->ipywidgets>=7.3.0->qiskit-terra==0.45.1->qiskit[visualization]) (0.7.0)\n",
            "Requirement already satisfied: wcwidth in /usr/local/lib/python3.10/dist-packages (from prompt-toolkit!=3.0.0,!=3.0.1,<3.1.0,>=2.0.0->ipython>=4.0.0->ipywidgets>=7.3.0->qiskit-terra==0.45.1->qiskit[visualization]) (0.2.10)\n",
            "Requirement already satisfied: platformdirs>=2.5 in /usr/local/lib/python3.10/dist-packages (from jupyter-core>=4.6.1->notebook>=4.4.1->widgetsnbextension~=3.6.0->ipywidgets>=7.3.0->qiskit-terra==0.45.1->qiskit[visualization]) (4.0.0)\n",
            "Requirement already satisfied: jupyter-server>=1.8 in /usr/local/lib/python3.10/dist-packages (from nbclassic>=0.4.7->notebook>=4.4.1->widgetsnbextension~=3.6.0->ipywidgets>=7.3.0->qiskit-terra==0.45.1->qiskit[visualization]) (1.24.0)\n",
            "Requirement already satisfied: notebook-shim>=0.2.3 in /usr/local/lib/python3.10/dist-packages (from nbclassic>=0.4.7->notebook>=4.4.1->widgetsnbextension~=3.6.0->ipywidgets>=7.3.0->qiskit-terra==0.45.1->qiskit[visualization]) (0.2.3)\n",
            "Requirement already satisfied: lxml in /usr/local/lib/python3.10/dist-packages (from nbconvert>=5->notebook>=4.4.1->widgetsnbextension~=3.6.0->ipywidgets>=7.3.0->qiskit-terra==0.45.1->qiskit[visualization]) (4.9.3)\n",
            "Requirement already satisfied: beautifulsoup4 in /usr/local/lib/python3.10/dist-packages (from nbconvert>=5->notebook>=4.4.1->widgetsnbextension~=3.6.0->ipywidgets>=7.3.0->qiskit-terra==0.45.1->qiskit[visualization]) (4.11.2)\n",
            "Requirement already satisfied: bleach in /usr/local/lib/python3.10/dist-packages (from nbconvert>=5->notebook>=4.4.1->widgetsnbextension~=3.6.0->ipywidgets>=7.3.0->qiskit-terra==0.45.1->qiskit[visualization]) (6.1.0)\n",
            "Requirement already satisfied: defusedxml in /usr/local/lib/python3.10/dist-packages (from nbconvert>=5->notebook>=4.4.1->widgetsnbextension~=3.6.0->ipywidgets>=7.3.0->qiskit-terra==0.45.1->qiskit[visualization]) (0.7.1)\n",
            "Requirement already satisfied: entrypoints>=0.2.2 in /usr/local/lib/python3.10/dist-packages (from nbconvert>=5->notebook>=4.4.1->widgetsnbextension~=3.6.0->ipywidgets>=7.3.0->qiskit-terra==0.45.1->qiskit[visualization]) (0.4)\n",
            "Requirement already satisfied: jupyterlab-pygments in /usr/local/lib/python3.10/dist-packages (from nbconvert>=5->notebook>=4.4.1->widgetsnbextension~=3.6.0->ipywidgets>=7.3.0->qiskit-terra==0.45.1->qiskit[visualization]) (0.2.2)\n",
            "Requirement already satisfied: MarkupSafe>=2.0 in /usr/local/lib/python3.10/dist-packages (from nbconvert>=5->notebook>=4.4.1->widgetsnbextension~=3.6.0->ipywidgets>=7.3.0->qiskit-terra==0.45.1->qiskit[visualization]) (2.1.3)\n",
            "Requirement already satisfied: mistune<2,>=0.8.1 in /usr/local/lib/python3.10/dist-packages (from nbconvert>=5->notebook>=4.4.1->widgetsnbextension~=3.6.0->ipywidgets>=7.3.0->qiskit-terra==0.45.1->qiskit[visualization]) (0.8.4)\n",
            "Requirement already satisfied: nbclient>=0.5.0 in /usr/local/lib/python3.10/dist-packages (from nbconvert>=5->notebook>=4.4.1->widgetsnbextension~=3.6.0->ipywidgets>=7.3.0->qiskit-terra==0.45.1->qiskit[visualization]) (0.9.0)\n",
            "Requirement already satisfied: pandocfilters>=1.4.1 in /usr/local/lib/python3.10/dist-packages (from nbconvert>=5->notebook>=4.4.1->widgetsnbextension~=3.6.0->ipywidgets>=7.3.0->qiskit-terra==0.45.1->qiskit[visualization]) (1.5.0)\n",
            "Requirement already satisfied: tinycss2 in /usr/local/lib/python3.10/dist-packages (from nbconvert>=5->notebook>=4.4.1->widgetsnbextension~=3.6.0->ipywidgets>=7.3.0->qiskit-terra==0.45.1->qiskit[visualization]) (1.2.1)\n",
            "Requirement already satisfied: fastjsonschema in /usr/local/lib/python3.10/dist-packages (from nbformat->notebook>=4.4.1->widgetsnbextension~=3.6.0->ipywidgets>=7.3.0->qiskit-terra==0.45.1->qiskit[visualization]) (2.19.0)\n",
            "Requirement already satisfied: jsonschema>=2.6 in /usr/local/lib/python3.10/dist-packages (from nbformat->notebook>=4.4.1->widgetsnbextension~=3.6.0->ipywidgets>=7.3.0->qiskit-terra==0.45.1->qiskit[visualization]) (4.19.2)\n",
            "Requirement already satisfied: argon2-cffi-bindings in /usr/local/lib/python3.10/dist-packages (from argon2-cffi->notebook>=4.4.1->widgetsnbextension~=3.6.0->ipywidgets>=7.3.0->qiskit-terra==0.45.1->qiskit[visualization]) (21.2.0)\n",
            "Requirement already satisfied: attrs>=22.2.0 in /usr/local/lib/python3.10/dist-packages (from jsonschema>=2.6->nbformat->notebook>=4.4.1->widgetsnbextension~=3.6.0->ipywidgets>=7.3.0->qiskit-terra==0.45.1->qiskit[visualization]) (23.1.0)\n",
            "Requirement already satisfied: jsonschema-specifications>=2023.03.6 in /usr/local/lib/python3.10/dist-packages (from jsonschema>=2.6->nbformat->notebook>=4.4.1->widgetsnbextension~=3.6.0->ipywidgets>=7.3.0->qiskit-terra==0.45.1->qiskit[visualization]) (2023.11.1)\n",
            "Requirement already satisfied: referencing>=0.28.4 in /usr/local/lib/python3.10/dist-packages (from jsonschema>=2.6->nbformat->notebook>=4.4.1->widgetsnbextension~=3.6.0->ipywidgets>=7.3.0->qiskit-terra==0.45.1->qiskit[visualization]) (0.31.0)\n",
            "Requirement already satisfied: rpds-py>=0.7.1 in /usr/local/lib/python3.10/dist-packages (from jsonschema>=2.6->nbformat->notebook>=4.4.1->widgetsnbextension~=3.6.0->ipywidgets>=7.3.0->qiskit-terra==0.45.1->qiskit[visualization]) (0.13.0)\n",
            "Requirement already satisfied: anyio<4,>=3.1.0 in /usr/local/lib/python3.10/dist-packages (from jupyter-server>=1.8->nbclassic>=0.4.7->notebook>=4.4.1->widgetsnbextension~=3.6.0->ipywidgets>=7.3.0->qiskit-terra==0.45.1->qiskit[visualization]) (3.7.1)\n",
            "Requirement already satisfied: websocket-client in /usr/local/lib/python3.10/dist-packages (from jupyter-server>=1.8->nbclassic>=0.4.7->notebook>=4.4.1->widgetsnbextension~=3.6.0->ipywidgets>=7.3.0->qiskit-terra==0.45.1->qiskit[visualization]) (1.6.4)\n",
            "Requirement already satisfied: cffi>=1.0.1 in /usr/local/lib/python3.10/dist-packages (from argon2-cffi-bindings->argon2-cffi->notebook>=4.4.1->widgetsnbextension~=3.6.0->ipywidgets>=7.3.0->qiskit-terra==0.45.1->qiskit[visualization]) (1.16.0)\n",
            "Requirement already satisfied: soupsieve>1.2 in /usr/local/lib/python3.10/dist-packages (from beautifulsoup4->nbconvert>=5->notebook>=4.4.1->widgetsnbextension~=3.6.0->ipywidgets>=7.3.0->qiskit-terra==0.45.1->qiskit[visualization]) (2.5)\n",
            "Requirement already satisfied: webencodings in /usr/local/lib/python3.10/dist-packages (from bleach->nbconvert>=5->notebook>=4.4.1->widgetsnbextension~=3.6.0->ipywidgets>=7.3.0->qiskit-terra==0.45.1->qiskit[visualization]) (0.5.1)\n",
            "Requirement already satisfied: idna>=2.8 in /usr/local/lib/python3.10/dist-packages (from anyio<4,>=3.1.0->jupyter-server>=1.8->nbclassic>=0.4.7->notebook>=4.4.1->widgetsnbextension~=3.6.0->ipywidgets>=7.3.0->qiskit-terra==0.45.1->qiskit[visualization]) (3.4)\n",
            "Requirement already satisfied: sniffio>=1.1 in /usr/local/lib/python3.10/dist-packages (from anyio<4,>=3.1.0->jupyter-server>=1.8->nbclassic>=0.4.7->notebook>=4.4.1->widgetsnbextension~=3.6.0->ipywidgets>=7.3.0->qiskit-terra==0.45.1->qiskit[visualization]) (1.3.0)\n",
            "Requirement already satisfied: exceptiongroup in /usr/local/lib/python3.10/dist-packages (from anyio<4,>=3.1.0->jupyter-server>=1.8->nbclassic>=0.4.7->notebook>=4.4.1->widgetsnbextension~=3.6.0->ipywidgets>=7.3.0->qiskit-terra==0.45.1->qiskit[visualization]) (1.1.3)\n",
            "Requirement already satisfied: pycparser in /usr/local/lib/python3.10/dist-packages (from cffi>=1.0.1->argon2-cffi-bindings->argon2-cffi->notebook>=4.4.1->widgetsnbextension~=3.6.0->ipywidgets>=7.3.0->qiskit-terra==0.45.1->qiskit[visualization]) (2.21)\n",
            "Building wheels for collected packages: pylatexenc\n",
            "  Building wheel for pylatexenc (setup.py) ... \u001b[?25l\u001b[?25hdone\n",
            "  Created wheel for pylatexenc: filename=pylatexenc-2.10-py3-none-any.whl size=136818 sha256=df944bb45374d2b85f10368a5c4fa09ae6cff05fa561fe933d617c577c4a7969\n",
            "  Stored in directory: /root/.cache/pip/wheels/d3/31/8b/e09b0386afd80cfc556c00408c9aeea5c35c4d484a9c762fd5\n",
            "Successfully built pylatexenc\n",
            "Installing collected packages: pylatexenc, ply, symengine, rustworkx, pbr, jedi, dill, stevedore, qiskit-terra, qiskit\n",
            "Successfully installed dill-0.3.7 jedi-0.19.1 pbr-6.0.0 ply-3.11 pylatexenc-2.10 qiskit-0.45.1 qiskit-terra-0.45.1 rustworkx-0.13.2 stevedore-5.1.0 symengine-0.11.0\n",
            "Collecting qiskit-aer\n",
            "  Downloading qiskit_aer-0.13.1-cp310-cp310-manylinux_2_17_x86_64.manylinux2014_x86_64.whl (12.3 MB)\n",
            "\u001b[2K     \u001b[90m━━━━━━━━━━━━━━━━━━━━━━━━━━━━━━━━━━━━━━━━\u001b[0m \u001b[32m12.3/12.3 MB\u001b[0m \u001b[31m38.1 MB/s\u001b[0m eta \u001b[36m0:00:00\u001b[0m\n",
            "\u001b[?25hRequirement already satisfied: qiskit>=0.44.0 in /usr/local/lib/python3.10/dist-packages (from qiskit-aer) (0.45.1)\n",
            "Requirement already satisfied: numpy>=1.16.3 in /usr/local/lib/python3.10/dist-packages (from qiskit-aer) (1.23.5)\n",
            "Requirement already satisfied: scipy>=1.0 in /usr/local/lib/python3.10/dist-packages (from qiskit-aer) (1.11.3)\n",
            "Requirement already satisfied: psutil>=5 in /usr/local/lib/python3.10/dist-packages (from qiskit-aer) (5.9.5)\n",
            "Requirement already satisfied: qiskit-terra==0.45.1 in /usr/local/lib/python3.10/dist-packages (from qiskit>=0.44.0->qiskit-aer) (0.45.1)\n",
            "Requirement already satisfied: rustworkx>=0.13.0 in /usr/local/lib/python3.10/dist-packages (from qiskit-terra==0.45.1->qiskit>=0.44.0->qiskit-aer) (0.13.2)\n",
            "Requirement already satisfied: ply>=3.10 in /usr/local/lib/python3.10/dist-packages (from qiskit-terra==0.45.1->qiskit>=0.44.0->qiskit-aer) (3.11)\n",
            "Requirement already satisfied: sympy>=1.3 in /usr/local/lib/python3.10/dist-packages (from qiskit-terra==0.45.1->qiskit>=0.44.0->qiskit-aer) (1.12)\n",
            "Requirement already satisfied: dill>=0.3 in /usr/local/lib/python3.10/dist-packages (from qiskit-terra==0.45.1->qiskit>=0.44.0->qiskit-aer) (0.3.7)\n",
            "Requirement already satisfied: python-dateutil>=2.8.0 in /usr/local/lib/python3.10/dist-packages (from qiskit-terra==0.45.1->qiskit>=0.44.0->qiskit-aer) (2.8.2)\n",
            "Requirement already satisfied: stevedore>=3.0.0 in /usr/local/lib/python3.10/dist-packages (from qiskit-terra==0.45.1->qiskit>=0.44.0->qiskit-aer) (5.1.0)\n",
            "Requirement already satisfied: symengine!=0.10.0,>=0.9 in /usr/local/lib/python3.10/dist-packages (from qiskit-terra==0.45.1->qiskit>=0.44.0->qiskit-aer) (0.11.0)\n",
            "Requirement already satisfied: typing-extensions in /usr/local/lib/python3.10/dist-packages (from qiskit-terra==0.45.1->qiskit>=0.44.0->qiskit-aer) (4.5.0)\n",
            "Requirement already satisfied: six>=1.5 in /usr/local/lib/python3.10/dist-packages (from python-dateutil>=2.8.0->qiskit-terra==0.45.1->qiskit>=0.44.0->qiskit-aer) (1.16.0)\n",
            "Requirement already satisfied: pbr!=2.1.0,>=2.0.0 in /usr/local/lib/python3.10/dist-packages (from stevedore>=3.0.0->qiskit-terra==0.45.1->qiskit>=0.44.0->qiskit-aer) (6.0.0)\n",
            "Requirement already satisfied: mpmath>=0.19 in /usr/local/lib/python3.10/dist-packages (from sympy>=1.3->qiskit-terra==0.45.1->qiskit>=0.44.0->qiskit-aer) (1.3.0)\n",
            "Installing collected packages: qiskit-aer\n",
            "Successfully installed qiskit-aer-0.13.1\n"
          ]
        }
      ],
      "source": [
        "import IPython\n",
        "\n",
        "def in_colab():\n",
        "    try:\n",
        "        import google.colab\n",
        "        return True\n",
        "    except:\n",
        "        return False\n",
        "\n",
        "path_files = \"./\" if in_colab() else \"../qworld/include/\"\n",
        "\n",
        "SolutionToTask3 = lambda: IPython.display.display(IPython.display.Javascript('window.open(\"{url}\");'.format(url='https://colab.research.google.com/drive/1E2G4XuE9B_OcCOAqVIdOuYgdkcgJIfiQ?usp=sharing#scrollTo=ibOcqmCYdugl' if in_colab() else 'QB24_Q40_Operations_on_the_Unit_Circle_Solution.ipynb#task3')))\n",
        "\n",
        "if in_colab():\n",
        "    url = \"https://gitlab.com/qworld/qeducation/qbook101/raw/main/qworld/include/quantum.py\"\n",
        "    !wget --no-cache -O quantum.py {url}\n",
        "\n",
        "    url = \"https://gitlab.com/qworld/qeducation/qbook101/raw/main/qworld/include/drawing.py\"\n",
        "    !wget --no-cache -O drawing.py {url}\n",
        "\n",
        "    url = \"https://gitlab.com/qworld/qeducation/qbook101/raw/main/qworld/include/quantum_state.py\"\n",
        "    !wget --no-cache -O quantum_state.py {url}\n",
        "\n",
        "    url = \"https://gitlab.com/qworld/qeducation/qbook101/raw/main/qworld/include/grover.py\"\n",
        "    !wget --no-cache -O grover.py {url}\n",
        "\n",
        "    !pip install qiskit[visualization]\n",
        "    !pip install qiskit-aer"
      ]
    },
    {
      "cell_type": "markdown",
      "metadata": {
        "id": "rWQRfjn-py7Y"
      },
      "source": [
        "##### _We use certain tools from python library \"<b>matplotlib.pyplot</b>\" for drawing. Check the notebook [Python: Drawing](appendices/A_python/QB_A7_Python06_Drawing.ipynb) for the list of these tools._"
      ]
    },
    {
      "cell_type": "markdown",
      "metadata": {
        "id": "XTRAGLjnpy7Z"
      },
      "source": [
        "<h3>Scenario 1</h3>\n",
        "\n",
        "We start with drawing the quantum states $ \\ket{0} $ and $ \\ket{+} = \\myvector{ \\frac{1}{\\sqrt{2}} \\\\ \\frac{1}{\\sqrt{2}} } $."
      ]
    },
    {
      "cell_type": "markdown",
      "metadata": {
        "id": "jopHQVL_py7Z"
      },
      "source": [
        "<i style=\"font-size:10pt;\">\n",
        "Our predefined function \"draw_qubit()\" draws a figure, the origin, the axes, the unit circle, and base quantum states.\n",
        "<br>\n",
        "Our predefined function \"draw_quantum_state(x,y,name)\" draws an arrow from (0,0) to (x,y) and associates it with <u>name</u>.\n",
        "<br>\n",
        "We include our predefined functions with the following line of code:\n",
        "    \n",
        "    %run quantum.py\n",
        "</i>   "
      ]
    },
    {
      "cell_type": "code",
      "execution_count": 3,
      "metadata": {
        "id": "nLtuikUapy7Z",
        "outputId": "37995b5a-2ebe-4a8f-832c-3d3242a1d47b",
        "colab": {
          "base_uri": "https://localhost:8080/",
          "height": 321
        }
      },
      "outputs": [
        {
          "output_type": "display_data",
          "data": {
            "text/plain": [
              "<Figure size 360x360 with 1 Axes>"
            ],
            "image/png": "[encoded data removed]"
          },
          "metadata": {}
        }
      ],
      "source": [
        "quantum_file = path_files+\"quantum.py\"\n",
        "%run $quantum_file\n",
        "\n",
        "draw_qubit()\n",
        "\n",
        "sqrttwo=2**0.5\n",
        "\n",
        "draw_quantum_state(1,0,\"\")\n",
        "\n",
        "draw_quantum_state(1/sqrttwo,1/sqrttwo,\"|+>\")\n",
        "\n",
        "# drawing the angle with |0>-axis\n",
        "from matplotlib.pyplot import gca, text\n",
        "from matplotlib.patches import Arc\n",
        "gca().add_patch( Arc((0,0),0.4,0.4,angle=0,theta1=0,theta2=45) )\n",
        "text(0.08,0.05,'.',fontsize=30)\n",
        "text(0.21,0.09,'\\u03C0/4')\n",
        "show_plt()"
      ]
    },
    {
      "cell_type": "markdown",
      "metadata": {
        "id": "D9x_nBFipy7a"
      },
      "source": [
        "<h3> Task 1 (Discussion) </h3>\n",
        "\n",
        "When starting in the state $ \\ket{0} $, we apply a quantum operator, say $ M $, then we obtain the state $\\ket{+}$.\n",
        "\n",
        "If we apply the operator $ M $ once more, what can be the next state?\n",
        "\n",
        "How can we classify possible $ M $'s geometrically? How can we parameterize each possible $ M $?"
      ]
    },
    {
      "cell_type": "markdown",
      "metadata": {
        "id": "69wZNOqIpy7a"
      },
      "source": [
        "<h3>Scenario 2</h3>\n",
        "\n",
        "We draw the quantum states $ \\ket{1} $ and $ \\ket{-} = \\stateminus $."
      ]
    },
    {
      "cell_type": "code",
      "execution_count": 4,
      "metadata": {
        "id": "7ndGVhJEpy7a",
        "outputId": "dbb69a3f-6259-4f86-ca7b-ac346eaf7da4",
        "colab": {
          "base_uri": "https://localhost:8080/",
          "height": 338
        }
      },
      "outputs": [
        {
          "output_type": "display_data",
          "data": {
            "text/plain": [
              "<Figure size 640x480 with 0 Axes>"
            ]
          },
          "metadata": {}
        },
        {
          "output_type": "display_data",
          "data": {
            "text/plain": [
              "<Figure size 360x360 with 1 Axes>"
            ],
            "image/png": "[encoded data removed]"
          },
          "metadata": {}
        }
      ],
      "source": [
        "quantum_file = path_files+\"quantum.py\"\n",
        "%run $quantum_file\n",
        "\n",
        "draw_qubit()\n",
        "\n",
        "sqrttwo=2**0.5\n",
        "\n",
        "draw_quantum_state(0,1,\"\")\n",
        "\n",
        "draw_quantum_state(1/sqrttwo,-1/sqrttwo,\"|->\")\n",
        "\n",
        "# drawing the angle with |0>-axis\n",
        "from matplotlib.pyplot import gca, text\n",
        "from matplotlib.patches import Arc\n",
        "gca().add_patch( Arc((0,0),0.4,0.4,angle=0,theta1=-45,theta2=90) )\n",
        "text(0.08,0.05,'.',fontsize=30)\n",
        "text(0.21,0.09,'3\\u03C0/4')\n",
        "show_plt()"
      ]
    },
    {
      "cell_type": "markdown",
      "metadata": {
        "id": "TlUUKXIkpy7a"
      },
      "source": [
        "<h3> Task 2 (Discussion) </h3>\n",
        "\n",
        "When starting in the state $ \\ket{1} $, we apply a quantum operator, say $ M $, then we obtain the state $\\ket{-}$.\n",
        "\n",
        "If we apply the operator $ M $ again, what can be the next state?\n",
        "\n",
        "How can we parameterize each possible $ M $?"
      ]
    },
    {
      "cell_type": "markdown",
      "metadata": {
        "id": "yXpjkZCZpy7a"
      },
      "source": [
        "<hr>\n",
        "<h3>Initialize a (real-valued) qubit with an arbitrary state</h3>\n",
        "\n",
        "A qubit is set to the state $\\ket{0}$ at the beginning.\n",
        "\n",
        "Any real-valued quantum state is a point in the unit circle, and it can be described by an angle, say $\\theta$:\n",
        "\n",
        "For $ \\theta \\in [0,2\\pi) $, the quantum state is $ \\ket{v} = \\myvector{\\cos \\theta \\\\ \\sin \\theta} $.\n",
        "\n",
        "We can set the qubit to the state $ \\ket{v} $ by using a rotation operator between $ \\ket{0} $ and $ \\ket{1} $ with angle $ \\theta $."
      ]
    },
    {
      "cell_type": "markdown",
      "metadata": {
        "id": "28-3F8Ynpy7a"
      },
      "source": [
        "<h3>Rotations with ry-gate</h3>"
      ]
    },
    {
      "cell_type": "markdown",
      "metadata": {
        "id": "T83XDYc9py7a"
      },
      "source": [
        "In Qiskit, the ry-gate can be used for the rotations on the unit circle.\n",
        "\n",
        "The default direction of a rotation by ry-gate is counterclockwise. It is used as follows:\n",
        "\n",
        "    quantum_circuit.ry(2 * angle_of_rotation,qubit)\n",
        "\n",
        "<i>Technical remark: ry-gate is defined on <a href=\"https://en.wikipedia.org/wiki/Bloch_sphere\" target=\"_blank\">Bloch sphere</a>. The states $ \\ket{0} $ and $ \\ket{1} $ are placed on the poles of Bloch sphere, and so the angle between them is $ \\pi $ on Bloch sphere. On the other hand, the angles between the states $ \\ket{0} $ and $ \\ket{1} $ on the unit circle is $ \\frac{\\pi}{2} $. Therefore, when using ry-gate, we provide twice of $ \\theta $ for a rotation with angle $\\theta$ on the unit circle.</i>"
      ]
    },
    {
      "cell_type": "code",
      "execution_count": 5,
      "metadata": {
        "id": "T3r4oXhUpy7a",
        "outputId": "c6a62c7d-5894-4734-935d-0ea4d44f3b82",
        "colab": {
          "base_uri": "https://localhost:8080/",
          "height": 246
        }
      },
      "outputs": [
        {
          "output_type": "stream",
          "name": "stderr",
          "text": [
            "/usr/local/lib/python3.10/dist-packages/qiskit/visualization/circuit/matplotlib.py:266: FutureWarning: The default matplotlib drawer scheme will be changed to \"iqp\" in a following release. To silence this warning, specify the current default explicitly as style=\"clifford\", or the new default as style=\"iqp\".\n",
            "  self._style, def_font_ratio = load_style(self._style)\n"
          ]
        },
        {
          "output_type": "execute_result",
          "data": {
            "text/plain": [
              "<Figure size 287.093x200.667 with 1 Axes>"
            ],
            "image/png": "[encoded data removed]"
          },
          "metadata": {},
          "execution_count": 5
        }
      ],
      "source": [
        "from qiskit import QuantumRegister, ClassicalRegister, QuantumCircuit, execute, Aer\n",
        "from qiskit.visualization import plot_histogram\n",
        "from math import pi\n",
        "\n",
        "# we define a quantum circuit with one qubit and one bit\n",
        "q =  QuantumRegister(1) # quantum register with a single qubit\n",
        "c = ClassicalRegister(1) # classical register with a single bit\n",
        "qc = QuantumCircuit(q,c) # quantum circuit with quantum and classical registers\n",
        "\n",
        "# angle of rotation in radian\n",
        "rotation_angle = 2*pi/3\n",
        "\n",
        "# rotate the qubit with rotation_angle\n",
        "qc.ry(2*rotation_angle,q[0])\n",
        "\n",
        "# measure the qubit\n",
        "qc.measure(q,c)\n",
        "\n",
        "# draw the circuit\n",
        "qc.draw(output='mpl')"
      ]
    },
    {
      "cell_type": "code",
      "execution_count": 6,
      "metadata": {
        "id": "u1LOHdY0py7b",
        "outputId": "5d2e0c13-41da-475f-9d23-a70ddee749a1",
        "colab": {
          "base_uri": "https://localhost:8080/",
          "height": 466
        }
      },
      "outputs": [
        {
          "output_type": "stream",
          "name": "stdout",
          "text": [
            "{'0': 222, '1': 778}\n"
          ]
        },
        {
          "output_type": "execute_result",
          "data": {
            "text/plain": [
              "<Figure size 700x500 with 1 Axes>"
            ],
            "image/png": "[encoded data removed]"
          },
          "metadata": {},
          "execution_count": 6
        }
      ],
      "source": [
        "# execute the program 1000 times\n",
        "job = execute(qc,Aer.get_backend('qasm_simulator'),shots=1000)\n",
        "\n",
        "# print the results\n",
        "counts = job.result().get_counts(qc)\n",
        "print(counts)\n",
        "\n",
        "# draw the histogram\n",
        "plot_histogram(counts)"
      ]
    },
    {
      "cell_type": "code",
      "execution_count": 7,
      "metadata": {
        "id": "6CFsNn9dpy7b",
        "outputId": "97a38b33-1aa0-4484-9226-a0574202f1ae",
        "colab": {
          "base_uri": "https://localhost:8080/"
        }
      },
      "outputs": [
        {
          "output_type": "stream",
          "name": "stdout",
          "text": [
            "The quantum state is -0.5 |0> + 0.866 |1>\n",
            "The expected value of observing '0' is 250.0\n",
            "The expected value of observing '1' is 750.0\n"
          ]
        }
      ],
      "source": [
        "from math import sin,cos\n",
        "\n",
        "# the quantum state\n",
        "quantum_state = [ cos(rotation_angle) , sin (rotation_angle) ]\n",
        "print(\"The quantum state is\",round(quantum_state[0],4),\"|0> +\",round(quantum_state[1],4),\"|1>\")\n",
        "\n",
        "the_expected_number_of_zeros = 1000*cos(rotation_angle)**2\n",
        "the_expected_number_of_ones = 1000*sin(rotation_angle)**2\n",
        "\n",
        "# expected results\n",
        "print(\"The expected value of observing '0' is\",round(the_expected_number_of_zeros,4))\n",
        "print(\"The expected value of observing '1' is\",round(the_expected_number_of_ones,4))"
      ]
    },
    {
      "cell_type": "code",
      "execution_count": 9,
      "metadata": {
        "id": "nxrA4z0Fpy7b",
        "outputId": "70da2445-0eae-4548-eee2-78ccf9a8abcc",
        "colab": {
          "base_uri": "https://localhost:8080/",
          "height": 338
        }
      },
      "outputs": [
        {
          "output_type": "display_data",
          "data": {
            "text/plain": [
              "<Figure size 640x480 with 0 Axes>"
            ]
          },
          "metadata": {}
        },
        {
          "output_type": "display_data",
          "data": {
            "text/plain": [
              "<Figure size 360x360 with 1 Axes>"
            ],
            "image/png": "[encoded data removed]"
          },
          "metadata": {}
        }
      ],
      "source": [
        "# draw the quantum state\n",
        "\n",
        "quantum_file = path_files+\"quantum.py\"\n",
        "%run $quantum_file\n",
        "\n",
        "draw_qubit()\n",
        "\n",
        "draw_quantum_state(quantum_state[0],quantum_state[1],\"|v>\")"
      ]
    },
    {
      "cell_type": "markdown",
      "metadata": {
        "id": "ZEhWbOw3py7b"
      },
      "source": [
        "<h3> Task 3</h3>\n",
        "\n",
        "Randomly pick an angle $ \\theta \\in [0,2\\pi) $.\n",
        "\n",
        "Suppose that we have 1000 copies of quantum state $ \\ket{v} = \\myvector{ \\cos \\theta \\\\ \\sin \\theta } $ and we measure each of them.\n",
        "\n",
        "What are the expected numbers of observing the states 0 and 1?\n",
        "\n",
        "Implement the above experiment by designing a quantum circuit and set the quantum state by using ry-gate.\n",
        "\n",
        "Compare your experimental and analytic results.\n",
        "\n",
        "Repeat the task a couple of times."
      ]
    },
    {
      "cell_type": "code",
      "execution_count": 10,
      "metadata": {
        "id": "pLaUq3Pepy7b",
        "outputId": "73c53b85-9516-47e1-9d3b-939272e84d8d",
        "colab": {
          "base_uri": "https://localhost:8080/"
        }
      },
      "outputs": [
        {
          "output_type": "stream",
          "name": "stdout",
          "text": [
            "-0.9563047559630355 |0> + 0.2923717047227366 |1>\n",
            "0: 914.5187862775209 1: 85.48121372247908\n"
          ]
        }
      ],
      "source": [
        "#\n",
        "# analytical analysis\n",
        "from math import sin,cos,pi\n",
        "from random import randrange\n",
        "angle=randrange(360)\n",
        "angle_radian=angle*(pi/180)\n",
        "quantum_state=[cos(angle_radian),sin(angle_radian)]\n",
        "print(f'{quantum_state[0]} |0> + {quantum_state[1]} |1>')\n",
        "expected_num_of_zeros=1000*quantum_state[0]**2\n",
        "expected_num_of_ones=1000*quantum_state[1]**2\n",
        "print(f'0: {expected_num_of_zeros} 1: {expected_num_of_ones}')"
      ]
    },
    {
      "cell_type": "code",
      "source": [
        "# draw the quantum state\n",
        "\n",
        "quantum_file = path_files+\"quantum.py\"\n",
        "%run $quantum_file\n",
        "\n",
        "draw_qubit()\n",
        "\n",
        "draw_quantum_state(quantum_state[0],quantum_state[1],\"|v>\")"
      ],
      "metadata": {
        "id": "B4JBdrSDg0Zx",
        "outputId": "bdc805ab-bfdd-4314-d506-13ef0339f97e",
        "colab": {
          "base_uri": "https://localhost:8080/",
          "height": 338
        }
      },
      "execution_count": 11,
      "outputs": [
        {
          "output_type": "display_data",
          "data": {
            "text/plain": [
              "<Figure size 640x480 with 0 Axes>"
            ]
          },
          "metadata": {}
        },
        {
          "output_type": "display_data",
          "data": {
            "text/plain": [
              "<Figure size 360x360 with 1 Axes>"
            ],
            "image/png": "[encoded data removed]"
          },
          "metadata": {}
        }
      ]
    },
    {
      "cell_type": "code",
      "source": [
        "#experimental analysis\n",
        "q=QuantumRegister(1,'q')\n",
        "c=ClassicalRegister(1,'c')\n",
        "qc=QuantumCircuit(q,c)\n",
        "qc.ry(2*angle_radian,q[0])\n",
        "qc.measure(q,c)\n",
        "qc.draw(output='mpl')"
      ],
      "metadata": {
        "id": "gQFt3AP3g7KH",
        "outputId": "2e3bbdb0-b7c5-45c1-dea4-d92b05fc3e30",
        "colab": {
          "base_uri": "https://localhost:8080/",
          "height": 246
        }
      },
      "execution_count": 12,
      "outputs": [
        {
          "output_type": "stream",
          "name": "stderr",
          "text": [
            "/usr/local/lib/python3.10/dist-packages/qiskit/visualization/circuit/matplotlib.py:266: FutureWarning: The default matplotlib drawer scheme will be changed to \"iqp\" in a following release. To silence this warning, specify the current default explicitly as style=\"clifford\", or the new default as style=\"iqp\".\n",
            "  self._style, def_font_ratio = load_style(self._style)\n"
          ]
        },
        {
          "output_type": "execute_result",
          "data": {
            "text/plain": [
              "<Figure size 269.064x200.667 with 1 Axes>"
            ],
            "image/png": "[encoded data removed]"
          },
          "metadata": {},
          "execution_count": 12
        }
      ]
    },
    {
      "cell_type": "code",
      "source": [
        "job=execute(qc,Aer.get_backend('qasm_simulator'),shots=1000)\n",
        "counts=job.result().get_counts(qc)\n",
        "print(counts)"
      ],
      "metadata": {
        "id": "cLQ754cLhWFX",
        "outputId": "eb76517f-0ce9-4f36-892a-f8038eccf2a1",
        "colab": {
          "base_uri": "https://localhost:8080/"
        }
      },
      "execution_count": 13,
      "outputs": [
        {
          "output_type": "stream",
          "name": "stdout",
          "text": [
            "{'0': 908, '1': 92}\n"
          ]
        }
      ]
    },
    {
      "cell_type": "markdown",
      "metadata": {
        "id": "TtVVo5UWpy7b"
      },
      "source": [
        "To check out our solution, run the next cell:"
      ]
    },
    {
      "cell_type": "code",
      "execution_count": 8,
      "metadata": {
        "id": "6ltLD3O2py7b",
        "outputId": "15b1eea7-5186-476a-d3a3-b2a192db7837",
        "colab": {
          "base_uri": "https://localhost:8080/",
          "height": 17
        }
      },
      "outputs": [
        {
          "output_type": "display_data",
          "data": {
            "text/plain": [
              "<IPython.core.display.Javascript object>"
            ],
            "application/javascript": [
              "window.open(\"https://colab.research.google.com/drive/1E2G4XuE9B_OcCOAqVIdOuYgdkcgJIfiQ?usp=sharing#scrollTo=ibOcqmCYdugl\");"
            ]
          },
          "metadata": {}
        }
      ],
      "source": [
        "SolutionToTask3()  # show solution for task 3"
      ]
    }
  ],
  "metadata": {
    "kernelspec": {
      "display_name": "Python 3 (ipykernel)",
      "language": "python",
      "name": "python3"
    },
    "language_info": {
      "codemirror_mode": {
        "name": "ipython",
        "version": 3
      },
      "file_extension": ".py",
      "mimetype": "text/x-python",
      "name": "python",
      "nbconvert_exporter": "python",
      "pygments_lexer": "ipython3",
      "version": "3.11.4"
    },
    "colab": {
      "provenance": [],
      "collapsed_sections": [
        "Olk6xy8Bpy7X"
      ]
    }
  },
  "nbformat": 4,
  "nbformat_minor": 0
}