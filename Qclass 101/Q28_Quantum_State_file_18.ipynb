{
  "cells": [
    {
      "cell_type": "markdown",
      "metadata": {
        "id": "5YVbr94X7gvm"
      },
      "source": [
        "<a href=\"https://qworld.net\" target=\"_blank\" align=\"left\"><img src=\"https://gitlab.com/qworld/qeducation/qbook101/raw/main/qworld/images/header.jpg\" align=\"left\"></a>\n",
        "$ \\newcommand{\\bra}[1]{\\langle #1|} $\n",
        "$ \\newcommand{\\ket}[1]{|#1\\rangle} $\n",
        "$ \\newcommand{\\braket}[2]{\\langle #1|#2\\rangle} $\n",
        "$ \\newcommand{\\dot}[2]{ #1 \\cdot #2} $\n",
        "$ \\newcommand{\\biginner}[2]{\\left\\langle #1,#2\\right\\rangle} $\n",
        "$ \\newcommand{\\mymatrix}[2]{\\left( \\begin{array}{#1} #2\\end{array} \\right)} $\n",
        "$ \\newcommand{\\myvector}[1]{\\mymatrix{c}{#1}} $\n",
        "$ \\newcommand{\\myrvector}[1]{\\mymatrix{r}{#1}} $\n",
        "$ \\newcommand{\\mypar}[1]{\\left( #1 \\right)} $\n",
        "$ \\newcommand{\\mybigpar}[1]{ \\Big( #1 \\Big)} $\n",
        "$ \\newcommand{\\sqrttwo}{\\frac{1}{\\sqrt{2}}} $\n",
        "$ \\newcommand{\\dsqrttwo}{\\dfrac{1}{\\sqrt{2}}} $\n",
        "$ \\newcommand{\\onehalf}{\\frac{1}{2}} $\n",
        "$ \\newcommand{\\donehalf}{\\dfrac{1}{2}} $\n",
        "$ \\newcommand{\\hadamard}{ \\mymatrix{rr}{ \\sqrttwo & \\sqrttwo \\\\ \\sqrttwo & -\\sqrttwo }} $\n",
        "$ \\newcommand{\\vzero}{\\myvector{1\\\\0}} $\n",
        "$ \\newcommand{\\vone}{\\myvector{0\\\\1}} $\n",
        "$ \\newcommand{\\stateplus}{\\myvector{ \\sqrttwo \\\\  \\sqrttwo } } $\n",
        "$ \\newcommand{\\stateminus}{ \\myrvector{ \\sqrttwo \\\\ -\\sqrttwo } } $\n",
        "$ \\newcommand{\\myarray}[2]{ \\begin{array}{#1}#2\\end{array}} $\n",
        "$ \\newcommand{\\X}{ \\mymatrix{cc}{0 & 1 \\\\ 1 & 0}  } $\n",
        "$ \\newcommand{\\I}{ \\mymatrix{rr}{1 & 0 \\\\ 0 & 1}  } $\n",
        "$ \\newcommand{\\Z}{ \\mymatrix{rr}{1 & 0 \\\\ 0 & -1}  } $\n",
        "$ \\newcommand{\\Htwo}{ \\mymatrix{rrrr}{ \\frac{1}{2} & \\frac{1}{2} & \\frac{1}{2} & \\frac{1}{2} \\\\ \\frac{1}{2} & -\\frac{1}{2} & \\frac{1}{2} & -\\frac{1}{2} \\\\ \\frac{1}{2} & \\frac{1}{2} & -\\frac{1}{2} & -\\frac{1}{2} \\\\ \\frac{1}{2} & -\\frac{1}{2} & -\\frac{1}{2} & \\frac{1}{2} } } $\n",
        "$ \\newcommand{\\CNOT}{ \\mymatrix{cccc}{1 & 0 & 0 & 0 \\\\ 0 & 1 & 0 & 0 \\\\ 0 & 0 & 0 & 1 \\\\ 0 & 0 & 1 & 0} } $\n",
        "$ \\newcommand{\\norm}[1]{ \\left\\lVert #1 \\right\\rVert } $\n",
        "$ \\newcommand{\\pstate}[1]{ \\lceil \\mspace{-1mu} #1 \\mspace{-1.5mu} \\rfloor } $\n",
        "$ \\newcommand{\\greenbit}[1] {\\mathbf{{\\color{green}#1}}} $\n",
        "$ \\newcommand{\\bluebit}[1] {\\mathbf{{\\color{blue}#1}}} $\n",
        "$ \\newcommand{\\redbit}[1] {\\mathbf{{\\color{red}#1}}} $\n",
        "$ \\newcommand{\\brownbit}[1] {\\mathbf{{\\color{brown}#1}}} $\n",
        "$ \\newcommand{\\blackbit}[1] {\\mathbf{{\\color{black}#1}}} $"
      ]
    },
    {
      "cell_type": "markdown",
      "metadata": {
        "id": "4FE6PN6a7gvp"
      },
      "source": [
        "_prepared by Abuzer Yakaryilmaz_"
      ]
    },
    {
      "cell_type": "markdown",
      "metadata": {
        "id": "-2vY4DE_7gvq"
      },
      "source": [
        "<font size=\"28px\" style=\"font-size:28px;\" align=\"left\"><b> Quantum State </b></font>\n",
        "<br>\n",
        "<br><br>\n",
        "[<img src=\"https://gitlab.com/qworld/qeducation/qbook101/raw/main/qworld/images/watch_lecture.jpg\" align=\"left\">](https://youtu.be/6OE96rgQz8s)\n",
        "<br><br><br>"
      ]
    },
    {
      "cell_type": "markdown",
      "metadata": {
        "jp-MarkdownHeadingCollapsed": true,
        "id": "m2jHD0IM7gvq"
      },
      "source": [
        "##### <font color=\"#08b806\">Please execute the following cell, it is necessary to distinguish between your local environment and Google Colab's"
      ]
    },
    {
      "cell_type": "code",
      "execution_count": 8,
      "metadata": {
        "id": "gphVvFiE7gvq"
      },
      "outputs": [],
      "source": [
        "import IPython\n",
        "\n",
        "def in_colab():\n",
        "    try:\n",
        "        import google.colab\n",
        "        return True\n",
        "    except:\n",
        "        return False\n",
        "\n",
        "SolutionToTask1 = lambda: IPython.display.display(IPython.display.Javascript('window.open(\"{url}\");'.format(url='https://colab.research.google.com/drive/1Fuqjsi1XdNU3MNFA3Gzy1-eiI3d1tKrZ?usp=sharing#scrollTo=XXuoqfer6paJ' if in_colab() else 'QB23_Q28_Quantum_State_Solutions.ipynb#task1')))\n",
        "SolutionToTask2 = lambda: IPython.display.display(IPython.display.Javascript('window.open(\"{url}\");'.format(url='https://colab.research.google.com/drive/1Fuqjsi1XdNU3MNFA3Gzy1-eiI3d1tKrZ?usp=sharing#scrollTo=Czw25x7_6paL' if in_colab() else 'QB23_Q28_Quantum_State_Solutions.ipynb#task2')))"
      ]
    },
    {
      "cell_type": "markdown",
      "metadata": {
        "id": "33Ejjokc7gvr"
      },
      "source": [
        "##### _The overall probability must be 1 when we observe a quantum system._\n",
        "\n",
        "For example, the following vectors <u>cannot</u> be a valid quantum state:\n",
        "\n",
        "$$\n",
        "    \\myvector{ \\dfrac{1}{2} \\\\ \\dfrac{1}{2} }\n",
        "    \\mbox{ and }\n",
        "    \\myvector{ \\dfrac{\\sqrt{3}}{2} \\\\ \\dfrac{1}{\\sqrt{2}} }.\n",
        "$$\n",
        "\n",
        "For the first vector, the probabilities of observing the states $\\ket{0} $ and $ \\ket{1} $ are $ \\dfrac{1}{4} $.\n",
        "\n",
        "So, the overall probability of getting a result is $ \\dfrac{1}{4} + \\dfrac{1}{4} = \\dfrac{1}{2} $, which is less than 1.\n",
        "\n",
        "For the second vector, the probabilities of observing the states $\\ket{0} $ and $ \\ket{1} $ are respectively $ \\dfrac{3}{4} $ and $ \\dfrac{1}{2} $.\n",
        "\n",
        "So, the overall probability of getting a result is $ \\dfrac{3}{4} + \\dfrac{1}{2} = \\dfrac{5}{4} $, which is greater than 1."
      ]
    },
    {
      "cell_type": "markdown",
      "metadata": {
        "id": "6k6cFEud7gvs"
      },
      "source": [
        "<font color=\"blue\"><b>The summation of amplitude squares must be 1 for a valid quantum state.</b></font>"
      ]
    },
    {
      "cell_type": "markdown",
      "metadata": {
        "id": "BPO2ircK7gvs"
      },
      "source": [
        "<font color=\"blue\"><b>More formally, a quantum state can be represented by a vector having length 1, and vice versa.</b></font>\n",
        "\n",
        "<i>The summation of amplitude squares gives the square of the length of vector.\n",
        "\n",
        "But, this summation is 1, and its square root is also 1. So, we can use the term <u>length</u> in the definition.</i>"
      ]
    },
    {
      "cell_type": "markdown",
      "metadata": {
        "id": "xJ7ZCYCj7gvs"
      },
      "source": [
        "<i> <b>Technical notes:</b> We represent a quantum state as $ \\ket{u} $ instead of $ u $. Remember the relation between the length and dot product: $ \\norm{u} = \\sqrt{\\dot{u}{u}} $.\n",
        "    \n",
        "In quantum computation, we use inner product instead of dot product, which is defined on complex numbers. By using bra-ket notation, $ \\norm{ \\ket{u} } = \\sqrt{ \\braket{u}{u} } = 1 $, or equivalently $ \\braket{u}{u} = 1 $, where $ \\braket{u}{u} $ is a short form of $ \\bra{u}\\ket{u} $. For real-valued vectors, $ \\braket{v}{v} = \\dot{v}{v}  $.\n",
        "</i>"
      ]
    },
    {
      "cell_type": "markdown",
      "metadata": {
        "id": "QnhhLmJi7gvt"
      },
      "source": [
        "<h3> Task 1 </h3>\n",
        "\n",
        "If the following vectors are valid quantum states defined with real numbers, then what can be the values of $a$ and $b$?\n",
        "\n",
        "$$\n",
        "    \\ket{v} = \\myrvector{a \\\\ -0.1 \\\\ -0.3 \\\\ 0.4 \\\\ 0.5}\n",
        "    ~~~~~ \\mbox{and} ~~~~~\n",
        "   \\ket{u} = \\myrvector{ \\frac{1}{\\sqrt{2}} \\\\ \\frac{1}{\\sqrt{b}} \\\\ -\\frac{1}{\\sqrt{3}} }.\n",
        "$$"
      ]
    },
    {
      "cell_type": "code",
      "execution_count": 3,
      "metadata": {
        "id": "NhgKadDf7gvt",
        "outputId": "aa70c7ee-036b-400b-9a3c-758de1789b92",
        "colab": {
          "base_uri": "https://localhost:8080/"
        }
      },
      "outputs": [
        {
          "output_type": "stream",
          "name": "stdout",
          "text": [
            "0.714\n"
          ]
        }
      ],
      "source": [
        "#\n",
        "# your code is here\n",
        "#    (you may find the values by hand (in mind) as well)\n",
        "#\n",
        "import math\n",
        "a=math.sqrt((0.1)**2+(-0.3)**2+(0.4)**2+(0.5)**2)\n",
        "print(round(a,3))\n"
      ]
    },
    {
      "cell_type": "markdown",
      "metadata": {
        "id": "HJpCdhK47gvt"
      },
      "source": [
        "To check out our solution, run the next cell:"
      ]
    },
    {
      "cell_type": "code",
      "execution_count": null,
      "metadata": {
        "id": "vnBJIhl-7gvt"
      },
      "outputs": [],
      "source": [
        "SolutionToTask1()  # show solution for task 1"
      ]
    },
    {
      "cell_type": "markdown",
      "metadata": {
        "id": "673s0hPW7gvt"
      },
      "source": [
        "<h3> Quantum Operators </h3>\n",
        "\n",
        "Once the quantum state is defined, the definition of quantum operator is very easy.\n",
        "\n",
        "<font color=\"blue\"><b>Any length preserving (square) matrix is a quantum operator, and vice versa.</b></font>"
      ]
    },
    {
      "cell_type": "markdown",
      "metadata": {
        "id": "O0i4py7F7gvt"
      },
      "source": [
        "<a name=\"task2\"></a>\n",
        "<h3> Task 2</h3>\n",
        "\n",
        "Remember Hadamard operator:\n",
        "\n",
        "$$\n",
        "    H = \\hadamard.\n",
        "$$"
      ]
    },
    {
      "cell_type": "markdown",
      "metadata": {
        "id": "f_Ag1Vo-7gvt"
      },
      "source": [
        "Randomly create a 2-dimensional quantum state, and test whether Hadamard operator preserves its length or not.\n",
        "\n",
        "<b>Write a function</b> that returns a randomly created 2-dimensional quantum state.\n",
        "\n",
        "<i>Hint:\n",
        "<ul>\n",
        "    <li> Pick two random values between -100 and 100 for the amplitudes of state 0 and state 1 </li>\n",
        "    <li> Find an appropriate normalization factor to divide each amplitude such that the length of quantum state should be 1 </li>\n",
        "</ul>\n",
        "</i>"
      ]
    },
    {
      "cell_type": "markdown",
      "metadata": {
        "id": "T48bqfgJ7gvt"
      },
      "source": [
        "<b>Write a function</b> that determines whether a given vector is a valid quantum state or not.\n",
        "\n",
        "(Due to precision problem, the summation of squares may not be exactly 1 but very close to 1, e.g., 0.9999999999999998.)\n",
        "\n",
        "<b>Repeat 10 times:</b>\n",
        "<ul>\n",
        "    <li> Randomly pick a quantum state </li>\n",
        "    <li> Check whether the picked quantum state is valid </li>\n",
        "    <li> Multiply Hadamard operator with the randomly created quantum state </li>\n",
        "    <li> Check whether the quantum state in result is valid </li>\n",
        "</ul>"
      ]
    },
    {
      "cell_type": "code",
      "execution_count": 11,
      "metadata": {
        "id": "qz19p8mt7gvt"
      },
      "outputs": [],
      "source": [
        "\n",
        "from random import randrange\n",
        "def random_quantum_state():\n",
        "    quantum_state=[0,0]\n",
        "    quantum_state[0]=randrange(-100,100)\n",
        "    quantum_state[1]=randrange(-100,100)\n",
        "    length=quantum_state[0]**2+quantum_state[1]**2\n",
        "    while length==0:\n",
        "      quantum_state[0]=randrange(-100,100)\n",
        "      quantum_state[1]=randrange(-100,100)\n",
        "      length=quantum_state[0]**2+quantum_state[1]**2\n",
        "    quantum_state[0] /=length**0.5\n",
        "    quantum_state[1] /=length**0.5\n",
        "    return quantum_state"
      ]
    },
    {
      "cell_type": "code",
      "execution_count": 10,
      "metadata": {
        "id": "RSF1TG6L7gvu"
      },
      "outputs": [],
      "source": [
        "def check_valid_state(quan_state):\n",
        "  length=0\n",
        "  for i in range(len(quan_state)):\n",
        "    length +=quan_state[i]**2\n",
        "  if (1-length)<0.00000001: return True\n",
        "  else: return False\n"
      ]
    },
    {
      "cell_type": "code",
      "source": [
        "import numpy as np\n",
        "from math import sqrt\n",
        "h_gate=np.array([\n",
        "    [1/sqrt(2),1/sqrt(2)],\n",
        "    [1/sqrt(2),-1/sqrt(2)]\n",
        "])\n",
        "for i in range(10):\n",
        "  picked_quan_state=random_quantum_state()\n",
        "  print(f'Picked quantum state {picked_quan_state}')\n",
        "  print(f'Checking validity: {check_valid_state(picked_quan_state)}')\n",
        "  h_applied=h_gate @ np.array(picked_quan_state)\n",
        "  print(f'New quantum state {h_applied}')\n",
        "  print(f'Checking validity: {check_valid_state(h_applied)}')"
      ],
      "metadata": {
        "id": "CnQehUoSQXeO",
        "outputId": "a7105f9f-086b-4da5-ed0f-e8c286ea19c9",
        "colab": {
          "base_uri": "https://localhost:8080/"
        }
      },
      "execution_count": 12,
      "outputs": [
        {
          "output_type": "stream",
          "name": "stdout",
          "text": [
            "Picked quantum state [0.7987534676731458, 0.6016584561693825]\n",
            "Checking validity: True\n",
            "New quantum state [0.99024077 0.13936722]\n",
            "Checking validity: True\n",
            "Picked quantum state [0.9951580892710009, 0.0982872186934322]\n",
            "Checking validity: True\n",
            "New quantum state [0.77318259 0.63418347]\n",
            "Checking validity: True\n",
            "Picked quantum state [0.0808158687660548, 0.9967290481146759]\n",
            "Checking validity: True\n",
            "New quantum state [ 0.76193932 -0.64764842]\n",
            "Checking validity: True\n",
            "Picked quantum state [0.9838699100999075, 0.1788854381999832]\n",
            "Checking validity: True\n",
            "New quantum state [0.82219219 0.56920998]\n",
            "Checking validity: True\n",
            "Picked quantum state [0.7633862853691145, -0.6459422414661738]\n",
            "Checking validity: True\n",
            "New quantum state [0.08304548 0.99654576]\n",
            "Checking validity: True\n",
            "Picked quantum state [0.9718501056887047, 0.23560002562150417]\n",
            "Checking validity: True\n",
            "New quantum state [0.85379618 0.52060742]\n",
            "Checking validity: True\n",
            "Picked quantum state [-0.6370846839512067, 0.7707938151508426]\n",
            "Checking validity: True\n",
            "New quantum state [ 0.09454663 -0.99552043]\n",
            "Checking validity: True\n",
            "Picked quantum state [0.3767981292019328, -0.9262954009547514]\n",
            "Checking validity: True\n",
            "New quantum state [-0.38855325  0.92142627]\n",
            "Checking validity: True\n",
            "Picked quantum state [-0.9021342216356465, 0.43145549730400484]\n",
            "Checking validity: True\n",
            "New quantum state [-0.33282012 -0.94299033]\n",
            "Checking validity: True\n",
            "Picked quantum state [0.8650311892618034, -0.501718089771846]\n",
            "Checking validity: True\n",
            "New quantum state [0.25690116 0.96643768]\n",
            "Checking validity: True\n"
          ]
        }
      ]
    },
    {
      "cell_type": "markdown",
      "metadata": {
        "id": "bqwjgmZU7gvu"
      },
      "source": [
        "To check out our solution, run the next cell:"
      ]
    },
    {
      "cell_type": "code",
      "execution_count": 9,
      "metadata": {
        "id": "DfyJKNlv7gvu",
        "outputId": "f1123b13-5bc2-447a-d1c3-15fec9061aed",
        "colab": {
          "base_uri": "https://localhost:8080/",
          "height": 17
        }
      },
      "outputs": [
        {
          "output_type": "display_data",
          "data": {
            "text/plain": [
              "<IPython.core.display.Javascript object>"
            ],
            "application/javascript": [
              "window.open(\"https://colab.research.google.com/drive/1Fuqjsi1XdNU3MNFA3Gzy1-eiI3d1tKrZ?usp=sharing#scrollTo=Czw25x7_6paL\");"
            ]
          },
          "metadata": {}
        }
      ],
      "source": [
        "SolutionToTask2()  # show solution for task 2"
      ]
    },
    {
      "cell_type": "markdown",
      "metadata": {
        "id": "EtJ5_x5V7gvu"
      },
      "source": [
        "<a name=\"task3\"></a>\n",
        "<h3> Task 3 (extra)</h3>\n",
        "\n",
        "Let $ \\ket{u} =  \\myvector{x \\\\ y} \\in \\mathbb{R}^2 $ is a quantum state.\n",
        "\n",
        "Show that $ \\ket{u'} = H \\ket{u} $ is also a quantum state.\n",
        "\n",
        "_Hint: The length of $ \\ket{u'} $ must be 1, given that the length of $ \\ket{u} $ is 1._"
      ]
    }
  ],
  "metadata": {
    "kernelspec": {
      "display_name": "Python 3 (ipykernel)",
      "language": "python",
      "name": "python3"
    },
    "language_info": {
      "codemirror_mode": {
        "name": "ipython",
        "version": 3
      },
      "file_extension": ".py",
      "mimetype": "text/x-python",
      "name": "python",
      "nbconvert_exporter": "python",
      "pygments_lexer": "ipython3",
      "version": "3.11.4"
    },
    "colab": {
      "provenance": [],
      "collapsed_sections": [
        "m2jHD0IM7gvq"
      ]
    }
  },
  "nbformat": 4,
  "nbformat_minor": 0
}