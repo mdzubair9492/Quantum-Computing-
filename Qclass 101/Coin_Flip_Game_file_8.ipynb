{
  "cells": [
    {
      "cell_type": "markdown",
      "metadata": {
        "id": "2ziJbuQ35uyp"
      },
      "source": [
        "<a href=\"https://qworld.net\" target=\"_blank\" align=\"left\"><img src=\"https://gitlab.com/qworld/qeducation/qbook101/raw/main/qworld/images/header.jpg\" align=\"left\"></a>\n",
        "$ \\newcommand{\\bra}[1]{\\langle #1|} $\n",
        "$ \\newcommand{\\ket}[1]{|#1\\rangle} $\n",
        "$ \\newcommand{\\braket}[2]{\\langle #1|#2\\rangle} $\n",
        "$ \\newcommand{\\dot}[2]{ #1 \\cdot #2} $\n",
        "$ \\newcommand{\\biginner}[2]{\\left\\langle #1,#2\\right\\rangle} $\n",
        "$ \\newcommand{\\mymatrix}[2]{\\left( \\begin{array}{#1} #2\\end{array} \\right)} $\n",
        "$ \\newcommand{\\myvector}[1]{\\mymatrix{c}{#1}} $\n",
        "$ \\newcommand{\\myrvector}[1]{\\mymatrix{r}{#1}} $\n",
        "$ \\newcommand{\\mypar}[1]{\\left( #1 \\right)} $\n",
        "$ \\newcommand{\\mybigpar}[1]{ \\Big( #1 \\Big)} $\n",
        "$ \\newcommand{\\sqrttwo}{\\frac{1}{\\sqrt{2}}} $\n",
        "$ \\newcommand{\\dsqrttwo}{\\dfrac{1}{\\sqrt{2}}} $\n",
        "$ \\newcommand{\\onehalf}{\\frac{1}{2}} $\n",
        "$ \\newcommand{\\donehalf}{\\dfrac{1}{2}} $\n",
        "$ \\newcommand{\\hadamard}{ \\mymatrix{rr}{ \\sqrttwo & \\sqrttwo \\\\ \\sqrttwo & -\\sqrttwo }} $\n",
        "$ \\newcommand{\\vzero}{\\myvector{1\\\\0}} $\n",
        "$ \\newcommand{\\vone}{\\myvector{0\\\\1}} $\n",
        "$ \\newcommand{\\stateplus}{\\myvector{ \\sqrttwo \\\\  \\sqrttwo } } $\n",
        "$ \\newcommand{\\stateminus}{ \\myrvector{ \\sqrttwo \\\\ -\\sqrttwo } } $\n",
        "$ \\newcommand{\\myarray}[2]{ \\begin{array}{#1}#2\\end{array}} $\n",
        "$ \\newcommand{\\X}{ \\mymatrix{cc}{0 & 1 \\\\ 1 & 0}  } $\n",
        "$ \\newcommand{\\I}{ \\mymatrix{rr}{1 & 0 \\\\ 0 & 1}  } $\n",
        "$ \\newcommand{\\Z}{ \\mymatrix{rr}{1 & 0 \\\\ 0 & -1}  } $\n",
        "$ \\newcommand{\\Htwo}{ \\mymatrix{rrrr}{ \\frac{1}{2} & \\frac{1}{2} & \\frac{1}{2} & \\frac{1}{2} \\\\ \\frac{1}{2} & -\\frac{1}{2} & \\frac{1}{2} & -\\frac{1}{2} \\\\ \\frac{1}{2} & \\frac{1}{2} & -\\frac{1}{2} & -\\frac{1}{2} \\\\ \\frac{1}{2} & -\\frac{1}{2} & -\\frac{1}{2} & \\frac{1}{2} } } $\n",
        "$ \\newcommand{\\CNOT}{ \\mymatrix{cccc}{1 & 0 & 0 & 0 \\\\ 0 & 1 & 0 & 0 \\\\ 0 & 0 & 0 & 1 \\\\ 0 & 0 & 1 & 0} } $\n",
        "$ \\newcommand{\\norm}[1]{ \\left\\lVert #1 \\right\\rVert } $\n",
        "$ \\newcommand{\\pstate}[1]{ \\lceil \\mspace{-1mu} #1 \\mspace{-1.5mu} \\rfloor } $\n",
        "$ \\newcommand{\\greenbit}[1] {\\mathbf{{\\color{green}#1}}} $\n",
        "$ \\newcommand{\\bluebit}[1] {\\mathbf{{\\color{blue}#1}}} $\n",
        "$ \\newcommand{\\redbit}[1] {\\mathbf{{\\color{red}#1}}} $\n",
        "$ \\newcommand{\\brownbit}[1] {\\mathbf{{\\color{brown}#1}}} $\n",
        "$ \\newcommand{\\blackbit}[1] {\\mathbf{{\\color{black}#1}}} $"
      ]
    },
    {
      "cell_type": "markdown",
      "metadata": {
        "id": "xglHJEaq5uyr"
      },
      "source": [
        "_prepared by Abuzer Yakaryilmaz_"
      ]
    },
    {
      "cell_type": "markdown",
      "metadata": {
        "id": "KXo_7-ul5uyr"
      },
      "source": [
        "<font size=\"28px\" style=\"font-size:28px;\" align=\"left\"><b> A Game with two biased coins  </b></font>\n",
        "<br>\n",
        "<br><br>\n",
        "[<img src=\"https://gitlab.com/qworld/qeducation/qbook101/raw/main/qworld/images/watch_lecture.jpg\" align=\"left\">](https://youtu.be/k0OJvv7AAgU)\n",
        "<br><br><br>"
      ]
    },
    {
      "cell_type": "markdown",
      "metadata": {
        "id": "Lg177yYc5uyr"
      },
      "source": [
        "##### <font color=\"#08b806\">Please execute the following cell, it is necessary to distinguish between your local environment and Google Colab's"
      ]
    },
    {
      "cell_type": "code",
      "execution_count": 3,
      "metadata": {
        "id": "fkR75QnN5uys"
      },
      "outputs": [],
      "source": [
        "import IPython\n",
        "\n",
        "def in_colab():\n",
        "    try:\n",
        "        import google.colab\n",
        "        return True\n",
        "    except:\n",
        "        return False\n",
        "\n",
        "SolutionToTask2 = lambda: IPython.display.display(IPython.display.Javascript('window.open(\"{url}\");'.format(url='https://colab.research.google.com/drive/1vLgGU2hmhp0e0HXT99gAGZtYo51IvTal?usp=sharing#scrollTo=UDdWt9RM5DSM' if in_colab() else 'QB21_CS12_Coin_Flip_Game_Solutions.ipynb#task2')))\n",
        "SolutionToTask3 = lambda: IPython.display.display(IPython.display.Javascript('window.open(\"{url}\");'.format(url='https://colab.research.google.com/drive/1vLgGU2hmhp0e0HXT99gAGZtYo51IvTal?usp=sharing#scrollTo=-UZxHsxc5DSN' if in_colab() else 'QB21_CS12_Coin_Flip_Game_Solutions.ipynb#task3')))\n",
        "SolutionToTask4 = lambda: IPython.display.display(IPython.display.Javascript('window.open(\"{url}\");'.format(url='https://colab.research.google.com/drive/1vLgGU2hmhp0e0HXT99gAGZtYo51IvTal?usp=sharing#scrollTo=9SHL-iH_5DSP' if in_colab() else 'QB21_CS12_Coin_Flip_Game_Solutions.ipynb#task4')))"
      ]
    },
    {
      "cell_type": "markdown",
      "metadata": {
        "id": "IleeRho-5uyt"
      },
      "source": [
        "## Probabilistic bits\n",
        "\n",
        "We start with a short introduction to the probabilistic bits to trace the details of the game below.\n",
        "\n",
        "Suppose that we have a biased coin landing on heads with probability $ 0.3 $, and it is tossed once but we do not see the outcome.\n",
        "\n",
        "Even though it lands on either heads or tails, our information about the outcome is probabilistic: It is heads with probability $ 0.3 $ and tails with probablity $ 0.7 $.\n",
        "\n",
        "If we consider this coin as a system with two states (heads and tails: respectively, states 0 and 1), then we can say that after one iteration it is in states 0 and 1 with probabilities 0.3 and 0.7, respectively.\n",
        "\n",
        "In general, a probabilistic bit is in states 0 and 1 with probabilities $ p $ and $ 1-p $, where $ p $ is a number between 0 and 1. Remark that if $  p=1 $ or $ p=0 $, then the bit becomes deterministic.\n",
        "\n",
        "If the above biased coin is tossed once more, the probabilisties of the getting heads and tails (or being in the states in 0 and 1) will still be the same. In the following game, by using two biased-coins, we will be able to have different probabilities for the states 0 and 1. This game is our first step to define a probabilitic operator for probabilistic bits."
      ]
    },
    {
      "cell_type": "markdown",
      "metadata": {
        "id": "WeKlIov55uyt"
      },
      "source": [
        "## The game"
      ]
    },
    {
      "cell_type": "markdown",
      "metadata": {
        "id": "UNbdRByh5uyt"
      },
      "source": [
        "Our friend Asja has one euro and one cent.\n",
        "\n",
        "Both coins are biased, and the probabilities of getting heads and tails are as follows:\n",
        "\n",
        "- one euro: heads with probability $ 0.6 $ and tails with probability $ 0.4 $.\n",
        "- one cent: heads with probability $ 0.3 $ and tails with probability $ 0.7 $.\n",
        "\n",
        "Asja flips her coins based on the following <b>protocol</b>:\n",
        "<ol>\n",
        "    <li> she starts with flipping one euro[*]; </li>\n",
        "    <li> whenever she gets heads, she flips one euro in the next round; and, </li>\n",
        "    <li> whenever she gets tails, she flips one cent in the next round. </li>\n",
        "</ol>\n",
        "\n",
        "By using a single bit, we summarize all transitions of this game as follows:\n",
        "\n",
        "$\n",
        "GameCoins = \\begin{array}{c|cc} \\hookleftarrow & \\mathbf{Head} & \\mathbf{Tail} \\\\ \\hline \\mathbf{Head} & 0.6 & 0.3\\\\  \\mathbf{Tail} & 0.4 & 0.7  \\end{array} = \\begin{array}{c|cc} \\hookleftarrow & \\mathbf{0} & \\mathbf{1} \\\\ \\hline \\mathbf{0} & 0.6 & 0.3 \\\\  \\mathbf{1} & 0.4 & 0.7  \\end{array}\n",
        "$\n",
        "\n",
        "[*] We should fix an initial condition. Otherwise, Asja cannot pick any of the coins at the beginning of game."
      ]
    },
    {
      "cell_type": "markdown",
      "metadata": {
        "id": "ZMSAz1bo5uyt"
      },
      "source": [
        "<h3>Task 1: Convince yourself </h3>\n",
        "\n",
        "Convince yourself about the correctness of transitions given in the table.\n",
        "\n",
        "<i> Remark that there is no difference between getting heads from the one euro coin or from the one cent coin.\n",
        "    \n",
        "Therefore, one bit is enough to represent all transitions.\n",
        "</i>"
      ]
    },
    {
      "cell_type": "markdown",
      "metadata": {
        "id": "UOSVT0P95uyt"
      },
      "source": [
        "<h3> Tracing Asja's three coin tosses </h3>\n",
        "\n",
        "Suppose that Asja <b>secretly</b> tosses her coins based on the defined protocol.\n",
        "\n",
        "By using python, we can calculate the probabilities of Asja seeing heads and tails after three coin tosses.\n",
        "\n",
        "<i><b>Remark:</b> In the previous tasks of [Coin Flipping](CS08_Coin_Flip.ipynb), we know the ideal ratios, and we experiment many coin tosses and then expect to observe the results close to the ideal ratios.\n",
        "    \n",
        "Here we calculate the exact probabilities (the ideal ratio) by using python. (We will not do the experiments as in the previous tasks.)\n",
        "</i>\n",
        "\n",
        "We present our solution step by step."
      ]
    },
    {
      "cell_type": "code",
      "execution_count": 1,
      "metadata": {
        "id": "0ZodlcQi5uyt",
        "outputId": "46bbab31-6b81-47ae-9f39-79ead3c98386",
        "colab": {
          "base_uri": "https://localhost:8080/"
        }
      },
      "outputs": [
        {
          "output_type": "stream",
          "name": "stdout",
          "text": [
            "the probability of getting head after 3 coin tosses is 0.44399999999999995\n",
            "the probability of getting tail after 3 coin tosses is 0.556\n"
          ]
        }
      ],
      "source": [
        "#\n",
        "# OUR SOLUTION\n",
        "#\n",
        "\n",
        "# initial condition:\n",
        "# Asja will start with one euro,\n",
        "#    and so, we assume that the probability of having head is 1 at the beginning.\n",
        "prob_head = 1\n",
        "prob_tail = 0\n",
        "\n",
        "\n",
        "#\n",
        "# first coin-flip\n",
        "#\n",
        "\n",
        "# the new probability of head is calculated by using the first row of table\n",
        "new_prob_head = prob_head * 0.6 + prob_tail * 0.3\n",
        "\n",
        "# the new probability of tail is calculated by using the second row of the table\n",
        "new_prob_tail = prob_head * 0.4 + prob_tail * 0.7\n",
        "\n",
        "# update the probabilities for the second round\n",
        "prob_head = new_prob_head\n",
        "prob_tail = new_prob_tail\n",
        "\n",
        "#\n",
        "# second coin-flip\n",
        "#\n",
        "# we do the same calculations\n",
        "\n",
        "new_prob_head = prob_head * 0.6 + prob_tail * 0.3\n",
        "new_prob_tail = prob_head * 0.4 + prob_tail * 0.7\n",
        "\n",
        "prob_head = new_prob_head\n",
        "prob_tail = new_prob_tail\n",
        "\n",
        "#\n",
        "# third coin-flip\n",
        "#\n",
        "# we do the same calculations\n",
        "\n",
        "new_prob_head = prob_head * 0.6 + prob_tail * 0.3\n",
        "new_prob_tail = prob_head * 0.4 + prob_tail * 0.7\n",
        "\n",
        "prob_head = new_prob_head\n",
        "prob_tail = new_prob_tail\n",
        "\n",
        "# print prob_head and prob_tail\n",
        "print(\"the probability of getting head after 3 coin tosses is\",prob_head)\n",
        "print(\"the probability of getting tail after 3 coin tosses is\",prob_tail)"
      ]
    },
    {
      "cell_type": "markdown",
      "metadata": {
        "id": "HCzp5fjB5uyu"
      },
      "source": [
        "<h3> Task 2: Tracing ten biased coin tosses </h3>\n",
        "\n",
        "By using python, calculate the probabilities of Asja seeing heads and tails after 10 coin tosses.\n",
        "\n",
        "$\n",
        "GameCoins = \\begin{array}{c|cc} \\hookleftarrow & \\mathbf{Head} & \\mathbf{Tail} \\\\ \\hline \\mathbf{Head} & 0.6 & 0.3\\\\  \\mathbf{Tail} & 0.4 & 0.7  \\end{array} = \\begin{array}{c|cc} \\hookleftarrow & \\mathbf{0} & \\mathbf{1} \\\\ \\hline \\mathbf{0} & 0.6 & 0.3 \\\\  \\mathbf{1} & 0.4 & 0.7  \\end{array}\n",
        "$\n",
        "\n",
        "Use a loop in your solution."
      ]
    },
    {
      "cell_type": "code",
      "execution_count": 5,
      "metadata": {
        "id": "z--IROz45uyu",
        "outputId": "a5672ba1-a3fe-4892-a2be-a58be8a62449",
        "colab": {
          "base_uri": "https://localhost:8080/"
        }
      },
      "outputs": [
        {
          "output_type": "stream",
          "name": "stdout",
          "text": [
            "the probability of getting head after 10 coin tosses is 0.42857480279999977\n",
            "the probability of getting tail after 10 coin tosses is 0.5714251971999997\n"
          ]
        }
      ],
      "source": [
        "#\n",
        "# your solution is here\n",
        "#\n",
        "prob_head = 1\n",
        "prob_tail = 0\n",
        "\n",
        "number_of_iterations = 10\n",
        "\n",
        "for i in range(number_of_iterations):\n",
        "    # the new probability of head is calculated by using the first row of table\n",
        "    new_prob_head = prob_head * 0.6 + prob_tail * 0.3\n",
        "\n",
        "    # the new probability of tail is calculated by using the second row of table\n",
        "    new_prob_tail = prob_head * 0.4 + prob_tail * 0.7\n",
        "\n",
        "    # update the probabilities\n",
        "    prob_head = new_prob_head\n",
        "    prob_tail = new_prob_tail\n",
        "\n",
        "# print prob_head and prob_tail\n",
        "print(\"the probability of getting head after\",number_of_iterations,\"coin tosses is\",prob_head)\n",
        "print(\"the probability of getting tail after\",number_of_iterations,\"coin tosses is\",prob_tail)"
      ]
    },
    {
      "cell_type": "markdown",
      "metadata": {
        "id": "LbgFEhMV5uyu"
      },
      "source": [
        "To check out our solution, run the next cell:"
      ]
    },
    {
      "cell_type": "code",
      "execution_count": 4,
      "metadata": {
        "id": "xiROYT1W5uyu",
        "outputId": "9d7d9726-3faa-4215-b55c-1bf4850194f4",
        "colab": {
          "base_uri": "https://localhost:8080/",
          "height": 17
        }
      },
      "outputs": [
        {
          "output_type": "display_data",
          "data": {
            "text/plain": [
              "<IPython.core.display.Javascript object>"
            ],
            "application/javascript": [
              "window.open(\"https://colab.research.google.com/drive/1vLgGU2hmhp0e0HXT99gAGZtYo51IvTal?usp=sharing#scrollTo=UDdWt9RM5DSM\");"
            ]
          },
          "metadata": {}
        }
      ],
      "source": [
        "SolutionToTask2()  # show solution for task 2"
      ]
    },
    {
      "cell_type": "markdown",
      "metadata": {
        "id": "Y5G5n6is5uyu"
      },
      "source": [
        "<h3> Task 3</h3>\n",
        "\n",
        "Repeat Task 2 for 20, 30, and 50 coin tosses."
      ]
    },
    {
      "cell_type": "code",
      "execution_count": 6,
      "metadata": {
        "id": "p3k6ISFx5uyu",
        "outputId": "cbc8ef54-9113-415b-9943-b21081f0651b",
        "colab": {
          "base_uri": "https://localhost:8080/"
        }
      },
      "outputs": [
        {
          "output_type": "stream",
          "name": "stdout",
          "text": [
            "the number of iterations is 20\n",
            "the probability of getting head after 20 coin tosses is 0.42857142859135267\n",
            "the probability of getting tail after 20 coin tosses is 0.5714285714086464\n",
            "\n",
            "the number of iterations is 30\n",
            "the probability of getting head after 30 coin tosses is 0.42857142857142816\n",
            "the probability of getting tail after 30 coin tosses is 0.5714285714285705\n",
            "\n",
            "the number of iterations is 50\n",
            "the probability of getting head after 50 coin tosses is 0.42857142857142805\n",
            "the probability of getting tail after 50 coin tosses is 0.5714285714285706\n",
            "\n"
          ]
        }
      ],
      "source": [
        "#\n",
        "# your solution is here\n",
        "#\n",
        "iterations = [20,30,50]\n",
        "\n",
        "for iteration in iterations:\n",
        "\n",
        "    # initial probabilites\n",
        "    prob_head = 1\n",
        "    prob_tail = 0\n",
        "\n",
        "    print(\"the number of iterations is\",iteration)\n",
        "\n",
        "    for i in range(iteration):\n",
        "         # the new probability of head is calculated by using the first row of table\n",
        "        new_prob_head = prob_head * 0.6 + prob_tail * 0.3\n",
        "\n",
        "        # the new probability of tail is calculated by using the second row of table\n",
        "        new_prob_tail = prob_head * 0.4 + prob_tail * 0.7\n",
        "\n",
        "        # update the probabilities\n",
        "        prob_head = new_prob_head\n",
        "        prob_tail = new_prob_tail\n",
        "\n",
        "    # print prob_head and prob_tail\n",
        "    print(\"the probability of getting head after\",iteration,\"coin tosses is\",prob_head)\n",
        "    print(\"the probability of getting tail after\",iteration,\"coin tosses is\",prob_tail)\n",
        "    print()"
      ]
    },
    {
      "cell_type": "markdown",
      "metadata": {
        "id": "q5w3gjvG5uyu"
      },
      "source": [
        "To check out our solution, run the next cell:"
      ]
    },
    {
      "cell_type": "code",
      "execution_count": null,
      "metadata": {
        "id": "LgCPwjo_5uyu"
      },
      "outputs": [],
      "source": [
        "SolutionToTask3()  # show solution for task 3"
      ]
    },
    {
      "cell_type": "markdown",
      "metadata": {
        "id": "URTRED_P5uyu"
      },
      "source": [
        "<h3> Task 4</h3>\n",
        "\n",
        "Repeat Task 2 for 10, 20, and 50 coin tosses by picking different initial conditions, e.g.,\n",
        "    \n",
        "    prob_head = prob_tail = 1/2\n",
        "or\n",
        "    \n",
        "    prob_head = 0\n",
        "    prob_tail = 1"
      ]
    },
    {
      "cell_type": "code",
      "execution_count": 7,
      "metadata": {
        "id": "icg7wviy5uyu",
        "outputId": "f772430c-1f6b-4a05-8d41-902a8c0abc26",
        "colab": {
          "base_uri": "https://localhost:8080/"
        }
      },
      "outputs": [
        {
          "output_type": "stream",
          "name": "stdout",
          "text": [
            "probability of head is 0.5\n",
            "probability of tail is 0.5\n",
            "\n",
            "the number of iterations is 20\n",
            "the probability of getting head after 20 coin tosses is 0.42857142857391883\n",
            "the probability of getting tail after 20 coin tosses is 0.5714285714260805\n",
            "\n",
            "the number of iterations is 30\n",
            "the probability of getting head after 30 coin tosses is 0.42857142857142827\n",
            "the probability of getting tail after 30 coin tosses is 0.571428571428571\n",
            "\n",
            "the number of iterations is 50\n",
            "the probability of getting head after 50 coin tosses is 0.42857142857142827\n",
            "the probability of getting tail after 50 coin tosses is 0.571428571428571\n",
            "\n",
            "\n",
            "probability of head is 0\n",
            "probability of tail is 1\n",
            "\n",
            "the number of iterations is 20\n",
            "the probability of getting head after 20 coin tosses is 0.4285714285564849\n",
            "the probability of getting tail after 20 coin tosses is 0.5714285714435143\n",
            "\n",
            "the number of iterations is 30\n",
            "the probability of getting head after 30 coin tosses is 0.42857142857142794\n",
            "the probability of getting tail after 30 coin tosses is 0.5714285714285708\n",
            "\n",
            "the number of iterations is 50\n",
            "the probability of getting head after 50 coin tosses is 0.42857142857142794\n",
            "the probability of getting tail after 50 coin tosses is 0.5714285714285706\n",
            "\n",
            "\n"
          ]
        }
      ],
      "source": [
        "#\n",
        "# your solution is here\n",
        "#\n",
        "# define iterations as a list\n",
        "iterations = [20,30,50]\n",
        "\n",
        "# define initial probability pairs as a double list\n",
        "initial_probabilities =[\n",
        "    [1/2,1/2],\n",
        "    [0,1]\n",
        "]\n",
        "\n",
        "\n",
        "for initial_probability_pair in initial_probabilities:\n",
        "    print(\"probability of head is\",initial_probability_pair[0])\n",
        "    print(\"probability of tail is\",initial_probability_pair[1])\n",
        "    print()\n",
        "\n",
        "    for iteration in iterations:\n",
        "\n",
        "        # initial probabilites\n",
        "        [prob_head,prob_tail] = initial_probability_pair\n",
        "\n",
        "        print(\"the number of iterations is\",iteration)\n",
        "\n",
        "        for i in range(iteration):\n",
        "             # the new probability of head is calculated by using the first row of table\n",
        "            new_prob_head = prob_head * 0.6 + prob_tail * 0.3\n",
        "\n",
        "            # the new probability of tail is calculated by using the second row of table\n",
        "            new_prob_tail = prob_head * 0.4 + prob_tail * 0.7\n",
        "\n",
        "            # update the probabilities\n",
        "            prob_head = new_prob_head\n",
        "            prob_tail = new_prob_tail\n",
        "\n",
        "        # print prob_head and prob_tail\n",
        "        print(\"the probability of getting head after\",iteration,\"coin tosses is\",prob_head)\n",
        "        print(\"the probability of getting tail after\",iteration,\"coin tosses is\",prob_tail)\n",
        "        print()\n",
        "    print()\n"
      ]
    },
    {
      "cell_type": "markdown",
      "metadata": {
        "id": "gJbQel6B5uyu"
      },
      "source": [
        "To check out our solution, run the next cell:"
      ]
    },
    {
      "cell_type": "code",
      "execution_count": null,
      "metadata": {
        "id": "ogbG3rPQ5uyu"
      },
      "outputs": [],
      "source": [
        "SolutionToTask4()  # show solution for task 4"
      ]
    },
    {
      "cell_type": "markdown",
      "metadata": {
        "id": "nKybjzYB5uyv"
      },
      "source": [
        "<hr>"
      ]
    },
    {
      "cell_type": "markdown",
      "metadata": {
        "id": "1SXaFqm15uyv"
      },
      "source": [
        "<h3> Extra: Arbitrary transitions for GameCoins</h3>\n",
        "\n",
        "By changing the bias of each Asja's coin, we can define arbitrary GameCoins.\n",
        "\n",
        "If $ a $ is the probability of getting heads for one euro and $ b $ is the probability of getting heads for one cent, then we have the following transitions:\n",
        "\n",
        "$\n",
        "GameCoins(a,b) = \\begin{array}{c|cc} \\hookleftarrow & \\mathbf{Head} & \\mathbf{Tail} \\\\ \\hline \\mathbf{Head} & a & b\\\\  \\mathbf{Tail} & 1-a & 1-b  \\end{array} = \\begin{array}{c|cc} \\hookleftarrow & \\mathbf{0} & \\mathbf{1} \\\\ \\hline \\mathbf{0} & a & b \\\\  \\mathbf{1} & 1-a & 1-b  \\end{array}\n",
        "$"
      ]
    },
    {
      "cell_type": "markdown",
      "metadata": {
        "id": "6vCdHBwf5uyv"
      },
      "source": [
        "<h3> Task 5 </h3>\n",
        "\n",
        "Observe that if $ a=1 $ and $ b = 0 $, then it is Identity operator, i.e., the initial condition will stay as it is.\n",
        "\n",
        "If $ a=0 $ and $ b=1 $, then it is NOT operator. NOT operator swaps the probabilities of heads and tails in each step. If the initial probabilities are not $ 0.5 $ and $ 0.5 $, then the system never converges to a fixed probabilities."
      ]
    },
    {
      "cell_type": "code",
      "execution_count": null,
      "metadata": {
        "id": "wpDO81hd5uyv"
      },
      "outputs": [],
      "source": [
        "#\n",
        "# your solution is here\n",
        "#\n"
      ]
    },
    {
      "cell_type": "markdown",
      "metadata": {
        "id": "e2iLTlxW5uyv"
      },
      "source": [
        "<h3> Task 6</h3>\n",
        "\n",
        "Randomly pick the values of $ a $ and $ b $, and then implement Tasks 3 and 4 for $ GameCoins(a,b) $."
      ]
    },
    {
      "cell_type": "code",
      "execution_count": null,
      "metadata": {
        "id": "pYXWB3Ir5uyv"
      },
      "outputs": [],
      "source": [
        "#\n",
        "# your solution is here\n",
        "#\n"
      ]
    },
    {
      "cell_type": "markdown",
      "metadata": {
        "id": "Gl0iv6Ij5uyv"
      },
      "source": [
        "<h3> Task 7</h3>\n",
        "\n",
        "10 times repeat Task 6 and observe whether the probabilities converge in each time."
      ]
    },
    {
      "cell_type": "code",
      "execution_count": null,
      "metadata": {
        "id": "Mb2i9i2y5uyv"
      },
      "outputs": [],
      "source": [
        "#\n",
        "# your solution is here\n",
        "#\n"
      ]
    },
    {
      "cell_type": "markdown",
      "metadata": {
        "id": "1n-_j8PV5uyv"
      },
      "source": [
        "<h3>Task 8</h3>\n",
        "\n",
        "We can rewrite arbitrary GameCoins as\n",
        "\n",
        "$  \\begin{array}{c|cc} \\hookleftarrow & \\mathbf{Head} & \\mathbf{Tail} \\\\ \\hline \\mathbf{Head} & 1-y & x\\\\  \\mathbf{Tail} & y & 1-x  \\end{array} = \\begin{array}{c|cc} \\hookleftarrow & \\mathbf{0} & \\mathbf{1} \\\\ \\hline \\mathbf{0} & 1-y & x \\\\  \\mathbf{1} & y & 1-x  \\end{array}.\n",
        "$\n",
        "\n",
        "We assume that it is neither Identity nor NOT operator. Then, independent of the initial state, the system always converges to\n",
        "\n",
        "$ Pr[\\mbox{\"heads\"}] = \\dfrac{x}{x+y} $ and $ Pr[\\mbox{\"tails\"}]=\\dfrac{y}{x+y} $,\n",
        "\n",
        "which are the probabilities of getting heads and tails, respectively.\n",
        "\n",
        "Observe this fact by checking the results of Task 7."
      ]
    },
    {
      "cell_type": "code",
      "execution_count": null,
      "metadata": {
        "id": "GdcGY0M-5uyv"
      },
      "outputs": [],
      "source": [
        "#\n",
        "# your solution is here\n",
        "#\n"
      ]
    }
  ],
  "metadata": {
    "kernelspec": {
      "display_name": "Python 3 (ipykernel)",
      "language": "python",
      "name": "python3"
    },
    "language_info": {
      "codemirror_mode": {
        "name": "ipython",
        "version": 3
      },
      "file_extension": ".py",
      "mimetype": "text/x-python",
      "name": "python",
      "nbconvert_exporter": "python",
      "pygments_lexer": "ipython3",
      "version": "3.11.4"
    },
    "colab": {
      "provenance": [],
      "collapsed_sections": [
        "Lg177yYc5uyr"
      ]
    }
  },
  "nbformat": 4,
  "nbformat_minor": 0
}