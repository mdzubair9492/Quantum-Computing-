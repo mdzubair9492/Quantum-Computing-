{
  "cells": [
    {
      "cell_type": "markdown",
      "metadata": {
        "id": "4Q82UGvfAfR6"
      },
      "source": [
        "<a href=\"https://qworld.net\" target=\"_blank\" align=\"left\"><img src=\"https://gitlab.com/qworld/qeducation/qbook101/raw/main/qworld/images/header.jpg\" align=\"left\"></a>\n",
        "$ \\newcommand{\\bra}[1]{\\langle #1|} $\n",
        "$ \\newcommand{\\ket}[1]{|#1\\rangle} $\n",
        "$ \\newcommand{\\braket}[2]{\\langle #1|#2\\rangle} $\n",
        "$ \\newcommand{\\dot}[2]{ #1 \\cdot #2} $\n",
        "$ \\newcommand{\\biginner}[2]{\\left\\langle #1,#2\\right\\rangle} $\n",
        "$ \\newcommand{\\mymatrix}[2]{\\left( \\begin{array}{#1} #2\\end{array} \\right)} $\n",
        "$ \\newcommand{\\myvector}[1]{\\mymatrix{c}{#1}} $\n",
        "$ \\newcommand{\\myrvector}[1]{\\mymatrix{r}{#1}} $\n",
        "$ \\newcommand{\\mypar}[1]{\\left( #1 \\right)} $\n",
        "$ \\newcommand{\\mybigpar}[1]{ \\Big( #1 \\Big)} $\n",
        "$ \\newcommand{\\sqrttwo}{\\frac{1}{\\sqrt{2}}} $\n",
        "$ \\newcommand{\\dsqrttwo}{\\dfrac{1}{\\sqrt{2}}} $\n",
        "$ \\newcommand{\\onehalf}{\\frac{1}{2}} $\n",
        "$ \\newcommand{\\donehalf}{\\dfrac{1}{2}} $\n",
        "$ \\newcommand{\\hadamard}{ \\mymatrix{rr}{ \\sqrttwo & \\sqrttwo \\\\ \\sqrttwo & -\\sqrttwo }} $\n",
        "$ \\newcommand{\\vzero}{\\myvector{1\\\\0}} $\n",
        "$ \\newcommand{\\vone}{\\myvector{0\\\\1}} $\n",
        "$ \\newcommand{\\stateplus}{\\myvector{ \\sqrttwo \\\\  \\sqrttwo } } $\n",
        "$ \\newcommand{\\stateminus}{ \\myrvector{ \\sqrttwo \\\\ -\\sqrttwo } } $\n",
        "$ \\newcommand{\\myarray}[2]{ \\begin{array}{#1}#2\\end{array}} $\n",
        "$ \\newcommand{\\X}{ \\mymatrix{cc}{0 & 1 \\\\ 1 & 0}  } $\n",
        "$ \\newcommand{\\I}{ \\mymatrix{rr}{1 & 0 \\\\ 0 & 1}  } $\n",
        "$ \\newcommand{\\Z}{ \\mymatrix{rr}{1 & 0 \\\\ 0 & -1}  } $\n",
        "$ \\newcommand{\\Htwo}{ \\mymatrix{rrrr}{ \\frac{1}{2} & \\frac{1}{2} & \\frac{1}{2} & \\frac{1}{2} \\\\ \\frac{1}{2} & -\\frac{1}{2} & \\frac{1}{2} & -\\frac{1}{2} \\\\ \\frac{1}{2} & \\frac{1}{2} & -\\frac{1}{2} & -\\frac{1}{2} \\\\ \\frac{1}{2} & -\\frac{1}{2} & -\\frac{1}{2} & \\frac{1}{2} } } $\n",
        "$ \\newcommand{\\CNOT}{ \\mymatrix{cccc}{1 & 0 & 0 & 0 \\\\ 0 & 1 & 0 & 0 \\\\ 0 & 0 & 0 & 1 \\\\ 0 & 0 & 1 & 0} } $\n",
        "$ \\newcommand{\\norm}[1]{ \\left\\lVert #1 \\right\\rVert } $\n",
        "$ \\newcommand{\\pstate}[1]{ \\lceil \\mspace{-1mu} #1 \\mspace{-1.5mu} \\rfloor } $\n",
        "$ \\newcommand{\\greenbit}[1] {\\mathbf{{\\color{green}#1}}} $\n",
        "$ \\newcommand{\\bluebit}[1] {\\mathbf{{\\color{blue}#1}}} $\n",
        "$ \\newcommand{\\redbit}[1] {\\mathbf{{\\color{red}#1}}} $\n",
        "$ \\newcommand{\\brownbit}[1] {\\mathbf{{\\color{brown}#1}}} $\n",
        "$ \\newcommand{\\blackbit}[1] {\\mathbf{{\\color{black}#1}}} $"
      ]
    },
    {
      "cell_type": "markdown",
      "metadata": {
        "id": "maJzaCf1AfR-"
      },
      "source": [
        "_prepared by Abuzer Yakaryilmaz_"
      ]
    },
    {
      "cell_type": "markdown",
      "metadata": {
        "id": "jXu9tawXAfR-"
      },
      "source": [
        "<font size=\"28px\" style=\"font-size:28px;\" align=\"left\"><b> Rotations </b></font>\n",
        "<br>\n",
        "<br><br>\n",
        "[<img src=\"https://gitlab.com/qworld/qeducation/qbook101/raw/main/qworld/images/watch_lecture.jpg\" align=\"left\">](https://youtu.be/bmrQhASbo34)\n",
        "<br><br><br>"
      ]
    },
    {
      "cell_type": "markdown",
      "metadata": {
        "jp-MarkdownHeadingCollapsed": true,
        "id": "Bm9lteNlAfR-"
      },
      "source": [
        "##### <font color=\"#08b806\">Please execute the following cell, it is necessary to distinguish between your local environment and Google Colab's"
      ]
    },
    {
      "cell_type": "code",
      "execution_count": 1,
      "metadata": {
        "id": "tuwdbw8ZAfR_",
        "outputId": "34703908-ffd3-4753-9c96-6b13954bb983",
        "colab": {
          "base_uri": "https://localhost:8080/"
        }
      },
      "outputs": [
        {
          "output_type": "stream",
          "name": "stdout",
          "text": [
            "--2023-11-30 14:04:45--  https://gitlab.com/qworld/qeducation/qbook101/raw/main/qworld/include/quantum.py\n",
            "Resolving gitlab.com (gitlab.com)... 172.65.251.78, 2606:4700:90:0:f22e:fbec:5bed:a9b9\n",
            "Connecting to gitlab.com (gitlab.com)|172.65.251.78|:443... connected.\n",
            "HTTP request sent, awaiting response... 200 OK\n",
            "Length: 2760 (2.7K) [text/plain]\n",
            "Saving to: ‘quantum.py’\n",
            "\n",
            "quantum.py          100%[===================>]   2.70K  --.-KB/s    in 0s      \n",
            "\n",
            "2023-11-30 14:04:45 (44.9 MB/s) - ‘quantum.py’ saved [2760/2760]\n",
            "\n",
            "--2023-11-30 14:04:45--  https://gitlab.com/qworld/qeducation/qbook101/raw/main/qworld/include/drawing.py\n",
            "Resolving gitlab.com (gitlab.com)... 172.65.251.78, 2606:4700:90:0:f22e:fbec:5bed:a9b9\n",
            "Connecting to gitlab.com (gitlab.com)|172.65.251.78|:443... connected.\n",
            "HTTP request sent, awaiting response... 200 OK\n",
            "Length: 6260 (6.1K) [text/plain]\n",
            "Saving to: ‘drawing.py’\n",
            "\n",
            "drawing.py          100%[===================>]   6.11K  --.-KB/s    in 0s      \n",
            "\n",
            "2023-11-30 14:04:45 (59.6 MB/s) - ‘drawing.py’ saved [6260/6260]\n",
            "\n",
            "--2023-11-30 14:04:45--  https://gitlab.com/qworld/qeducation/qbook101/raw/main/qworld/include/quantum_state.py\n",
            "Resolving gitlab.com (gitlab.com)... 172.65.251.78, 2606:4700:90:0:f22e:fbec:5bed:a9b9\n",
            "Connecting to gitlab.com (gitlab.com)|172.65.251.78|:443... connected.\n",
            "HTTP request sent, awaiting response... 200 OK\n",
            "Length: 1391 (1.4K) [text/plain]\n",
            "Saving to: ‘quantum_state.py’\n",
            "\n",
            "quantum_state.py    100%[===================>]   1.36K  --.-KB/s    in 0s      \n",
            "\n",
            "2023-11-30 14:04:46 (21.0 MB/s) - ‘quantum_state.py’ saved [1391/1391]\n",
            "\n",
            "--2023-11-30 14:04:46--  https://gitlab.com/qworld/qeducation/qbook101/raw/main/qworld/include/grover.py\n",
            "Resolving gitlab.com (gitlab.com)... 172.65.251.78, 2606:4700:90:0:f22e:fbec:5bed:a9b9\n",
            "Connecting to gitlab.com (gitlab.com)|172.65.251.78|:443... connected.\n",
            "HTTP request sent, awaiting response... 200 OK\n",
            "Length: 6778 (6.6K) [text/plain]\n",
            "Saving to: ‘grover.py’\n",
            "\n",
            "grover.py           100%[===================>]   6.62K  --.-KB/s    in 0s      \n",
            "\n",
            "2023-11-30 14:04:46 (47.2 MB/s) - ‘grover.py’ saved [6778/6778]\n",
            "\n",
            "Collecting qiskit[visualization]\n",
            "  Downloading qiskit-0.45.1-py3-none-any.whl (9.6 kB)\n",
            "Collecting qiskit-terra==0.45.1 (from qiskit[visualization])\n",
            "  Downloading qiskit_terra-0.45.1-cp38-abi3-manylinux_2_17_x86_64.manylinux2014_x86_64.whl (6.3 MB)\n",
            "\u001b[2K     \u001b[90m━━━━━━━━━━━━━━━━━━━━━━━━━━━━━━━━━━━━━━━━\u001b[0m \u001b[32m6.3/6.3 MB\u001b[0m \u001b[31m38.3 MB/s\u001b[0m eta \u001b[36m0:00:00\u001b[0m\n",
            "\u001b[?25hCollecting rustworkx>=0.13.0 (from qiskit-terra==0.45.1->qiskit[visualization])\n",
            "  Downloading rustworkx-0.13.2-cp310-cp310-manylinux_2_17_x86_64.manylinux2014_x86_64.whl (2.0 MB)\n",
            "\u001b[2K     \u001b[90m━━━━━━━━━━━━━━━━━━━━━━━━━━━━━━━━━━━━━━━━\u001b[0m \u001b[32m2.0/2.0 MB\u001b[0m \u001b[31m78.0 MB/s\u001b[0m eta \u001b[36m0:00:00\u001b[0m\n",
            "\u001b[?25hRequirement already satisfied: numpy<2,>=1.17 in /usr/local/lib/python3.10/dist-packages (from qiskit-terra==0.45.1->qiskit[visualization]) (1.23.5)\n",
            "Collecting ply>=3.10 (from qiskit-terra==0.45.1->qiskit[visualization])\n",
            "  Downloading ply-3.11-py2.py3-none-any.whl (49 kB)\n",
            "\u001b[2K     \u001b[90m━━━━━━━━━━━━━━━━━━━━━━━━━━━━━━━━━━━━━━━━\u001b[0m \u001b[32m49.6/49.6 kB\u001b[0m \u001b[31m5.5 MB/s\u001b[0m eta \u001b[36m0:00:00\u001b[0m\n",
            "\u001b[?25hRequirement already satisfied: psutil>=5 in /usr/local/lib/python3.10/dist-packages (from qiskit-terra==0.45.1->qiskit[visualization]) (5.9.5)\n",
            "Requirement already satisfied: scipy>=1.5 in /usr/local/lib/python3.10/dist-packages (from qiskit-terra==0.45.1->qiskit[visualization]) (1.11.3)\n",
            "Requirement already satisfied: sympy>=1.3 in /usr/local/lib/python3.10/dist-packages (from qiskit-terra==0.45.1->qiskit[visualization]) (1.12)\n",
            "Collecting dill>=0.3 (from qiskit-terra==0.45.1->qiskit[visualization])\n",
            "  Downloading dill-0.3.7-py3-none-any.whl (115 kB)\n",
            "\u001b[2K     \u001b[90m━━━━━━━━━━━━━━━━━━━━━━━━━━━━━━━━━━━━━━━━\u001b[0m \u001b[32m115.3/115.3 kB\u001b[0m \u001b[31m11.6 MB/s\u001b[0m eta \u001b[36m0:00:00\u001b[0m\n",
            "\u001b[?25hRequirement already satisfied: python-dateutil>=2.8.0 in /usr/local/lib/python3.10/dist-packages (from qiskit-terra==0.45.1->qiskit[visualization]) (2.8.2)\n",
            "Collecting stevedore>=3.0.0 (from qiskit-terra==0.45.1->qiskit[visualization])\n",
            "  Downloading stevedore-5.1.0-py3-none-any.whl (49 kB)\n",
            "\u001b[2K     \u001b[90m━━━━━━━━━━━━━━━━━━━━━━━━━━━━━━━━━━━━━━━━\u001b[0m \u001b[32m49.6/49.6 kB\u001b[0m \u001b[31m5.7 MB/s\u001b[0m eta \u001b[36m0:00:00\u001b[0m\n",
            "\u001b[?25hCollecting symengine!=0.10.0,>=0.9 (from qiskit-terra==0.45.1->qiskit[visualization])\n",
            "  Downloading symengine-0.11.0-cp310-cp310-manylinux_2_12_x86_64.manylinux2010_x86_64.whl (39.4 MB)\n",
            "\u001b[2K     \u001b[90m━━━━━━━━━━━━━━━━━━━━━━━━━━━━━━━━━━━━━━━━\u001b[0m \u001b[32m39.4/39.4 MB\u001b[0m \u001b[31m18.2 MB/s\u001b[0m eta \u001b[36m0:00:00\u001b[0m\n",
            "\u001b[?25hRequirement already satisfied: typing-extensions in /usr/local/lib/python3.10/dist-packages (from qiskit-terra==0.45.1->qiskit[visualization]) (4.5.0)\n",
            "Requirement already satisfied: matplotlib>=3.3 in /usr/local/lib/python3.10/dist-packages (from qiskit-terra==0.45.1->qiskit[visualization]) (3.7.1)\n",
            "Requirement already satisfied: ipywidgets>=7.3.0 in /usr/local/lib/python3.10/dist-packages (from qiskit-terra==0.45.1->qiskit[visualization]) (7.7.1)\n",
            "Requirement already satisfied: pydot in /usr/local/lib/python3.10/dist-packages (from qiskit-terra==0.45.1->qiskit[visualization]) (1.4.2)\n",
            "Requirement already satisfied: pillow>=4.2.1 in /usr/local/lib/python3.10/dist-packages (from qiskit-terra==0.45.1->qiskit[visualization]) (9.4.0)\n",
            "Collecting pylatexenc>=1.4 (from qiskit-terra==0.45.1->qiskit[visualization])\n",
            "  Downloading pylatexenc-2.10.tar.gz (162 kB)\n",
            "\u001b[2K     \u001b[90m━━━━━━━━━━━━━━━━━━━━━━━━━━━━━━━━━━━━━━━━\u001b[0m \u001b[32m162.6/162.6 kB\u001b[0m \u001b[31m17.0 MB/s\u001b[0m eta \u001b[36m0:00:00\u001b[0m\n",
            "\u001b[?25h  Preparing metadata (setup.py) ... \u001b[?25l\u001b[?25hdone\n",
            "Requirement already satisfied: seaborn>=0.9.0 in /usr/local/lib/python3.10/dist-packages (from qiskit-terra==0.45.1->qiskit[visualization]) (0.12.2)\n",
            "Requirement already satisfied: pygments>=2.4 in /usr/local/lib/python3.10/dist-packages (from qiskit-terra==0.45.1->qiskit[visualization]) (2.16.1)\n",
            "Requirement already satisfied: ipykernel>=4.5.1 in /usr/local/lib/python3.10/dist-packages (from ipywidgets>=7.3.0->qiskit-terra==0.45.1->qiskit[visualization]) (5.5.6)\n",
            "Requirement already satisfied: ipython-genutils~=0.2.0 in /usr/local/lib/python3.10/dist-packages (from ipywidgets>=7.3.0->qiskit-terra==0.45.1->qiskit[visualization]) (0.2.0)\n",
            "Requirement already satisfied: traitlets>=4.3.1 in /usr/local/lib/python3.10/dist-packages (from ipywidgets>=7.3.0->qiskit-terra==0.45.1->qiskit[visualization]) (5.7.1)\n",
            "Requirement already satisfied: widgetsnbextension~=3.6.0 in /usr/local/lib/python3.10/dist-packages (from ipywidgets>=7.3.0->qiskit-terra==0.45.1->qiskit[visualization]) (3.6.6)\n",
            "Requirement already satisfied: ipython>=4.0.0 in /usr/local/lib/python3.10/dist-packages (from ipywidgets>=7.3.0->qiskit-terra==0.45.1->qiskit[visualization]) (7.34.0)\n",
            "Requirement already satisfied: jupyterlab-widgets>=1.0.0 in /usr/local/lib/python3.10/dist-packages (from ipywidgets>=7.3.0->qiskit-terra==0.45.1->qiskit[visualization]) (3.0.9)\n",
            "Requirement already satisfied: contourpy>=1.0.1 in /usr/local/lib/python3.10/dist-packages (from matplotlib>=3.3->qiskit-terra==0.45.1->qiskit[visualization]) (1.2.0)\n",
            "Requirement already satisfied: cycler>=0.10 in /usr/local/lib/python3.10/dist-packages (from matplotlib>=3.3->qiskit-terra==0.45.1->qiskit[visualization]) (0.12.1)\n",
            "Requirement already satisfied: fonttools>=4.22.0 in /usr/local/lib/python3.10/dist-packages (from matplotlib>=3.3->qiskit-terra==0.45.1->qiskit[visualization]) (4.44.3)\n",
            "Requirement already satisfied: kiwisolver>=1.0.1 in /usr/local/lib/python3.10/dist-packages (from matplotlib>=3.3->qiskit-terra==0.45.1->qiskit[visualization]) (1.4.5)\n",
            "Requirement already satisfied: packaging>=20.0 in /usr/local/lib/python3.10/dist-packages (from matplotlib>=3.3->qiskit-terra==0.45.1->qiskit[visualization]) (23.2)\n",
            "Requirement already satisfied: pyparsing>=2.3.1 in /usr/local/lib/python3.10/dist-packages (from matplotlib>=3.3->qiskit-terra==0.45.1->qiskit[visualization]) (3.1.1)\n",
            "Requirement already satisfied: six>=1.5 in /usr/local/lib/python3.10/dist-packages (from python-dateutil>=2.8.0->qiskit-terra==0.45.1->qiskit[visualization]) (1.16.0)\n",
            "Requirement already satisfied: pandas>=0.25 in /usr/local/lib/python3.10/dist-packages (from seaborn>=0.9.0->qiskit-terra==0.45.1->qiskit[visualization]) (1.5.3)\n",
            "Collecting pbr!=2.1.0,>=2.0.0 (from stevedore>=3.0.0->qiskit-terra==0.45.1->qiskit[visualization])\n",
            "  Downloading pbr-6.0.0-py2.py3-none-any.whl (107 kB)\n",
            "\u001b[2K     \u001b[90m━━━━━━━━━━━━━━━━━━━━━━━━━━━━━━━━━━━━━━━━\u001b[0m \u001b[32m107.5/107.5 kB\u001b[0m \u001b[31m12.0 MB/s\u001b[0m eta \u001b[36m0:00:00\u001b[0m\n",
            "\u001b[?25hRequirement already satisfied: mpmath>=0.19 in /usr/local/lib/python3.10/dist-packages (from sympy>=1.3->qiskit-terra==0.45.1->qiskit[visualization]) (1.3.0)\n",
            "Requirement already satisfied: jupyter-client in /usr/local/lib/python3.10/dist-packages (from ipykernel>=4.5.1->ipywidgets>=7.3.0->qiskit-terra==0.45.1->qiskit[visualization]) (6.1.12)\n",
            "Requirement already satisfied: tornado>=4.2 in /usr/local/lib/python3.10/dist-packages (from ipykernel>=4.5.1->ipywidgets>=7.3.0->qiskit-terra==0.45.1->qiskit[visualization]) (6.3.2)\n",
            "Requirement already satisfied: setuptools>=18.5 in /usr/local/lib/python3.10/dist-packages (from ipython>=4.0.0->ipywidgets>=7.3.0->qiskit-terra==0.45.1->qiskit[visualization]) (67.7.2)\n",
            "Collecting jedi>=0.16 (from ipython>=4.0.0->ipywidgets>=7.3.0->qiskit-terra==0.45.1->qiskit[visualization])\n",
            "  Downloading jedi-0.19.1-py2.py3-none-any.whl (1.6 MB)\n",
            "\u001b[2K     \u001b[90m━━━━━━━━━━━━━━━━━━━━━━━━━━━━━━━━━━━━━━━━\u001b[0m \u001b[32m1.6/1.6 MB\u001b[0m \u001b[31m75.8 MB/s\u001b[0m eta \u001b[36m0:00:00\u001b[0m\n",
            "\u001b[?25hRequirement already satisfied: decorator in /usr/local/lib/python3.10/dist-packages (from ipython>=4.0.0->ipywidgets>=7.3.0->qiskit-terra==0.45.1->qiskit[visualization]) (4.4.2)\n",
            "Requirement already satisfied: pickleshare in /usr/local/lib/python3.10/dist-packages (from ipython>=4.0.0->ipywidgets>=7.3.0->qiskit-terra==0.45.1->qiskit[visualization]) (0.7.5)\n",
            "Requirement already satisfied: prompt-toolkit!=3.0.0,!=3.0.1,<3.1.0,>=2.0.0 in /usr/local/lib/python3.10/dist-packages (from ipython>=4.0.0->ipywidgets>=7.3.0->qiskit-terra==0.45.1->qiskit[visualization]) (3.0.41)\n",
            "Requirement already satisfied: backcall in /usr/local/lib/python3.10/dist-packages (from ipython>=4.0.0->ipywidgets>=7.3.0->qiskit-terra==0.45.1->qiskit[visualization]) (0.2.0)\n",
            "Requirement already satisfied: matplotlib-inline in /usr/local/lib/python3.10/dist-packages (from ipython>=4.0.0->ipywidgets>=7.3.0->qiskit-terra==0.45.1->qiskit[visualization]) (0.1.6)\n",
            "Requirement already satisfied: pexpect>4.3 in /usr/local/lib/python3.10/dist-packages (from ipython>=4.0.0->ipywidgets>=7.3.0->qiskit-terra==0.45.1->qiskit[visualization]) (4.8.0)\n",
            "Requirement already satisfied: pytz>=2020.1 in /usr/local/lib/python3.10/dist-packages (from pandas>=0.25->seaborn>=0.9.0->qiskit-terra==0.45.1->qiskit[visualization]) (2023.3.post1)\n",
            "Requirement already satisfied: notebook>=4.4.1 in /usr/local/lib/python3.10/dist-packages (from widgetsnbextension~=3.6.0->ipywidgets>=7.3.0->qiskit-terra==0.45.1->qiskit[visualization]) (6.5.5)\n",
            "Requirement already satisfied: parso<0.9.0,>=0.8.3 in /usr/local/lib/python3.10/dist-packages (from jedi>=0.16->ipython>=4.0.0->ipywidgets>=7.3.0->qiskit-terra==0.45.1->qiskit[visualization]) (0.8.3)\n",
            "Requirement already satisfied: jinja2 in /usr/local/lib/python3.10/dist-packages (from notebook>=4.4.1->widgetsnbextension~=3.6.0->ipywidgets>=7.3.0->qiskit-terra==0.45.1->qiskit[visualization]) (3.1.2)\n",
            "Requirement already satisfied: pyzmq<25,>=17 in /usr/local/lib/python3.10/dist-packages (from notebook>=4.4.1->widgetsnbextension~=3.6.0->ipywidgets>=7.3.0->qiskit-terra==0.45.1->qiskit[visualization]) (23.2.1)\n",
            "Requirement already satisfied: argon2-cffi in /usr/local/lib/python3.10/dist-packages (from notebook>=4.4.1->widgetsnbextension~=3.6.0->ipywidgets>=7.3.0->qiskit-terra==0.45.1->qiskit[visualization]) (23.1.0)\n",
            "Requirement already satisfied: jupyter-core>=4.6.1 in /usr/local/lib/python3.10/dist-packages (from notebook>=4.4.1->widgetsnbextension~=3.6.0->ipywidgets>=7.3.0->qiskit-terra==0.45.1->qiskit[visualization]) (5.5.0)\n",
            "Requirement already satisfied: nbformat in /usr/local/lib/python3.10/dist-packages (from notebook>=4.4.1->widgetsnbextension~=3.6.0->ipywidgets>=7.3.0->qiskit-terra==0.45.1->qiskit[visualization]) (5.9.2)\n",
            "Requirement already satisfied: nbconvert>=5 in /usr/local/lib/python3.10/dist-packages (from notebook>=4.4.1->widgetsnbextension~=3.6.0->ipywidgets>=7.3.0->qiskit-terra==0.45.1->qiskit[visualization]) (6.5.4)\n",
            "Requirement already satisfied: nest-asyncio>=1.5 in /usr/local/lib/python3.10/dist-packages (from notebook>=4.4.1->widgetsnbextension~=3.6.0->ipywidgets>=7.3.0->qiskit-terra==0.45.1->qiskit[visualization]) (1.5.8)\n",
            "Requirement already satisfied: Send2Trash>=1.8.0 in /usr/local/lib/python3.10/dist-packages (from notebook>=4.4.1->widgetsnbextension~=3.6.0->ipywidgets>=7.3.0->qiskit-terra==0.45.1->qiskit[visualization]) (1.8.2)\n",
            "Requirement already satisfied: terminado>=0.8.3 in /usr/local/lib/python3.10/dist-packages (from notebook>=4.4.1->widgetsnbextension~=3.6.0->ipywidgets>=7.3.0->qiskit-terra==0.45.1->qiskit[visualization]) (0.18.0)\n",
            "Requirement already satisfied: prometheus-client in /usr/local/lib/python3.10/dist-packages (from notebook>=4.4.1->widgetsnbextension~=3.6.0->ipywidgets>=7.3.0->qiskit-terra==0.45.1->qiskit[visualization]) (0.18.0)\n",
            "Requirement already satisfied: nbclassic>=0.4.7 in /usr/local/lib/python3.10/dist-packages (from notebook>=4.4.1->widgetsnbextension~=3.6.0->ipywidgets>=7.3.0->qiskit-terra==0.45.1->qiskit[visualization]) (1.0.0)\n",
            "Requirement already satisfied: ptyprocess>=0.5 in /usr/local/lib/python3.10/dist-packages (from pexpect>4.3->ipython>=4.0.0->ipywidgets>=7.3.0->qiskit-terra==0.45.1->qiskit[visualization]) (0.7.0)\n",
            "Requirement already satisfied: wcwidth in /usr/local/lib/python3.10/dist-packages (from prompt-toolkit!=3.0.0,!=3.0.1,<3.1.0,>=2.0.0->ipython>=4.0.0->ipywidgets>=7.3.0->qiskit-terra==0.45.1->qiskit[visualization]) (0.2.10)\n",
            "Requirement already satisfied: platformdirs>=2.5 in /usr/local/lib/python3.10/dist-packages (from jupyter-core>=4.6.1->notebook>=4.4.1->widgetsnbextension~=3.6.0->ipywidgets>=7.3.0->qiskit-terra==0.45.1->qiskit[visualization]) (4.0.0)\n",
            "Requirement already satisfied: jupyter-server>=1.8 in /usr/local/lib/python3.10/dist-packages (from nbclassic>=0.4.7->notebook>=4.4.1->widgetsnbextension~=3.6.0->ipywidgets>=7.3.0->qiskit-terra==0.45.1->qiskit[visualization]) (1.24.0)\n",
            "Requirement already satisfied: notebook-shim>=0.2.3 in /usr/local/lib/python3.10/dist-packages (from nbclassic>=0.4.7->notebook>=4.4.1->widgetsnbextension~=3.6.0->ipywidgets>=7.3.0->qiskit-terra==0.45.1->qiskit[visualization]) (0.2.3)\n",
            "Requirement already satisfied: lxml in /usr/local/lib/python3.10/dist-packages (from nbconvert>=5->notebook>=4.4.1->widgetsnbextension~=3.6.0->ipywidgets>=7.3.0->qiskit-terra==0.45.1->qiskit[visualization]) (4.9.3)\n",
            "Requirement already satisfied: beautifulsoup4 in /usr/local/lib/python3.10/dist-packages (from nbconvert>=5->notebook>=4.4.1->widgetsnbextension~=3.6.0->ipywidgets>=7.3.0->qiskit-terra==0.45.1->qiskit[visualization]) (4.11.2)\n",
            "Requirement already satisfied: bleach in /usr/local/lib/python3.10/dist-packages (from nbconvert>=5->notebook>=4.4.1->widgetsnbextension~=3.6.0->ipywidgets>=7.3.0->qiskit-terra==0.45.1->qiskit[visualization]) (6.1.0)\n",
            "Requirement already satisfied: defusedxml in /usr/local/lib/python3.10/dist-packages (from nbconvert>=5->notebook>=4.4.1->widgetsnbextension~=3.6.0->ipywidgets>=7.3.0->qiskit-terra==0.45.1->qiskit[visualization]) (0.7.1)\n",
            "Requirement already satisfied: entrypoints>=0.2.2 in /usr/local/lib/python3.10/dist-packages (from nbconvert>=5->notebook>=4.4.1->widgetsnbextension~=3.6.0->ipywidgets>=7.3.0->qiskit-terra==0.45.1->qiskit[visualization]) (0.4)\n",
            "Requirement already satisfied: jupyterlab-pygments in /usr/local/lib/python3.10/dist-packages (from nbconvert>=5->notebook>=4.4.1->widgetsnbextension~=3.6.0->ipywidgets>=7.3.0->qiskit-terra==0.45.1->qiskit[visualization]) (0.2.2)\n",
            "Requirement already satisfied: MarkupSafe>=2.0 in /usr/local/lib/python3.10/dist-packages (from nbconvert>=5->notebook>=4.4.1->widgetsnbextension~=3.6.0->ipywidgets>=7.3.0->qiskit-terra==0.45.1->qiskit[visualization]) (2.1.3)\n",
            "Requirement already satisfied: mistune<2,>=0.8.1 in /usr/local/lib/python3.10/dist-packages (from nbconvert>=5->notebook>=4.4.1->widgetsnbextension~=3.6.0->ipywidgets>=7.3.0->qiskit-terra==0.45.1->qiskit[visualization]) (0.8.4)\n",
            "Requirement already satisfied: nbclient>=0.5.0 in /usr/local/lib/python3.10/dist-packages (from nbconvert>=5->notebook>=4.4.1->widgetsnbextension~=3.6.0->ipywidgets>=7.3.0->qiskit-terra==0.45.1->qiskit[visualization]) (0.9.0)\n",
            "Requirement already satisfied: pandocfilters>=1.4.1 in /usr/local/lib/python3.10/dist-packages (from nbconvert>=5->notebook>=4.4.1->widgetsnbextension~=3.6.0->ipywidgets>=7.3.0->qiskit-terra==0.45.1->qiskit[visualization]) (1.5.0)\n",
            "Requirement already satisfied: tinycss2 in /usr/local/lib/python3.10/dist-packages (from nbconvert>=5->notebook>=4.4.1->widgetsnbextension~=3.6.0->ipywidgets>=7.3.0->qiskit-terra==0.45.1->qiskit[visualization]) (1.2.1)\n",
            "Requirement already satisfied: fastjsonschema in /usr/local/lib/python3.10/dist-packages (from nbformat->notebook>=4.4.1->widgetsnbextension~=3.6.0->ipywidgets>=7.3.0->qiskit-terra==0.45.1->qiskit[visualization]) (2.19.0)\n",
            "Requirement already satisfied: jsonschema>=2.6 in /usr/local/lib/python3.10/dist-packages (from nbformat->notebook>=4.4.1->widgetsnbextension~=3.6.0->ipywidgets>=7.3.0->qiskit-terra==0.45.1->qiskit[visualization]) (4.19.2)\n",
            "Requirement already satisfied: argon2-cffi-bindings in /usr/local/lib/python3.10/dist-packages (from argon2-cffi->notebook>=4.4.1->widgetsnbextension~=3.6.0->ipywidgets>=7.3.0->qiskit-terra==0.45.1->qiskit[visualization]) (21.2.0)\n",
            "Requirement already satisfied: attrs>=22.2.0 in /usr/local/lib/python3.10/dist-packages (from jsonschema>=2.6->nbformat->notebook>=4.4.1->widgetsnbextension~=3.6.0->ipywidgets>=7.3.0->qiskit-terra==0.45.1->qiskit[visualization]) (23.1.0)\n",
            "Requirement already satisfied: jsonschema-specifications>=2023.03.6 in /usr/local/lib/python3.10/dist-packages (from jsonschema>=2.6->nbformat->notebook>=4.4.1->widgetsnbextension~=3.6.0->ipywidgets>=7.3.0->qiskit-terra==0.45.1->qiskit[visualization]) (2023.11.1)\n",
            "Requirement already satisfied: referencing>=0.28.4 in /usr/local/lib/python3.10/dist-packages (from jsonschema>=2.6->nbformat->notebook>=4.4.1->widgetsnbextension~=3.6.0->ipywidgets>=7.3.0->qiskit-terra==0.45.1->qiskit[visualization]) (0.31.0)\n",
            "Requirement already satisfied: rpds-py>=0.7.1 in /usr/local/lib/python3.10/dist-packages (from jsonschema>=2.6->nbformat->notebook>=4.4.1->widgetsnbextension~=3.6.0->ipywidgets>=7.3.0->qiskit-terra==0.45.1->qiskit[visualization]) (0.13.0)\n",
            "Requirement already satisfied: anyio<4,>=3.1.0 in /usr/local/lib/python3.10/dist-packages (from jupyter-server>=1.8->nbclassic>=0.4.7->notebook>=4.4.1->widgetsnbextension~=3.6.0->ipywidgets>=7.3.0->qiskit-terra==0.45.1->qiskit[visualization]) (3.7.1)\n",
            "Requirement already satisfied: websocket-client in /usr/local/lib/python3.10/dist-packages (from jupyter-server>=1.8->nbclassic>=0.4.7->notebook>=4.4.1->widgetsnbextension~=3.6.0->ipywidgets>=7.3.0->qiskit-terra==0.45.1->qiskit[visualization]) (1.6.4)\n",
            "Requirement already satisfied: cffi>=1.0.1 in /usr/local/lib/python3.10/dist-packages (from argon2-cffi-bindings->argon2-cffi->notebook>=4.4.1->widgetsnbextension~=3.6.0->ipywidgets>=7.3.0->qiskit-terra==0.45.1->qiskit[visualization]) (1.16.0)\n",
            "Requirement already satisfied: soupsieve>1.2 in /usr/local/lib/python3.10/dist-packages (from beautifulsoup4->nbconvert>=5->notebook>=4.4.1->widgetsnbextension~=3.6.0->ipywidgets>=7.3.0->qiskit-terra==0.45.1->qiskit[visualization]) (2.5)\n",
            "Requirement already satisfied: webencodings in /usr/local/lib/python3.10/dist-packages (from bleach->nbconvert>=5->notebook>=4.4.1->widgetsnbextension~=3.6.0->ipywidgets>=7.3.0->qiskit-terra==0.45.1->qiskit[visualization]) (0.5.1)\n",
            "Requirement already satisfied: idna>=2.8 in /usr/local/lib/python3.10/dist-packages (from anyio<4,>=3.1.0->jupyter-server>=1.8->nbclassic>=0.4.7->notebook>=4.4.1->widgetsnbextension~=3.6.0->ipywidgets>=7.3.0->qiskit-terra==0.45.1->qiskit[visualization]) (3.4)\n",
            "Requirement already satisfied: sniffio>=1.1 in /usr/local/lib/python3.10/dist-packages (from anyio<4,>=3.1.0->jupyter-server>=1.8->nbclassic>=0.4.7->notebook>=4.4.1->widgetsnbextension~=3.6.0->ipywidgets>=7.3.0->qiskit-terra==0.45.1->qiskit[visualization]) (1.3.0)\n",
            "Requirement already satisfied: exceptiongroup in /usr/local/lib/python3.10/dist-packages (from anyio<4,>=3.1.0->jupyter-server>=1.8->nbclassic>=0.4.7->notebook>=4.4.1->widgetsnbextension~=3.6.0->ipywidgets>=7.3.0->qiskit-terra==0.45.1->qiskit[visualization]) (1.1.3)\n",
            "Requirement already satisfied: pycparser in /usr/local/lib/python3.10/dist-packages (from cffi>=1.0.1->argon2-cffi-bindings->argon2-cffi->notebook>=4.4.1->widgetsnbextension~=3.6.0->ipywidgets>=7.3.0->qiskit-terra==0.45.1->qiskit[visualization]) (2.21)\n",
            "Building wheels for collected packages: pylatexenc\n",
            "  Building wheel for pylatexenc (setup.py) ... \u001b[?25l\u001b[?25hdone\n",
            "  Created wheel for pylatexenc: filename=pylatexenc-2.10-py3-none-any.whl size=136818 sha256=5907168fe54155ac3483ab63c624261174c9f01e96a4d8c91c95905011608adc\n",
            "  Stored in directory: /root/.cache/pip/wheels/d3/31/8b/e09b0386afd80cfc556c00408c9aeea5c35c4d484a9c762fd5\n",
            "Successfully built pylatexenc\n",
            "Installing collected packages: pylatexenc, ply, symengine, rustworkx, pbr, jedi, dill, stevedore, qiskit-terra, qiskit\n",
            "Successfully installed dill-0.3.7 jedi-0.19.1 pbr-6.0.0 ply-3.11 pylatexenc-2.10 qiskit-0.45.1 qiskit-terra-0.45.1 rustworkx-0.13.2 stevedore-5.1.0 symengine-0.11.0\n",
            "Collecting qiskit-aer\n",
            "  Downloading qiskit_aer-0.13.1-cp310-cp310-manylinux_2_17_x86_64.manylinux2014_x86_64.whl (12.3 MB)\n",
            "\u001b[2K     \u001b[90m━━━━━━━━━━━━━━━━━━━━━━━━━━━━━━━━━━━━━━━━\u001b[0m \u001b[32m12.3/12.3 MB\u001b[0m \u001b[31m19.6 MB/s\u001b[0m eta \u001b[36m0:00:00\u001b[0m\n",
            "\u001b[?25hRequirement already satisfied: qiskit>=0.44.0 in /usr/local/lib/python3.10/dist-packages (from qiskit-aer) (0.45.1)\n",
            "Requirement already satisfied: numpy>=1.16.3 in /usr/local/lib/python3.10/dist-packages (from qiskit-aer) (1.23.5)\n",
            "Requirement already satisfied: scipy>=1.0 in /usr/local/lib/python3.10/dist-packages (from qiskit-aer) (1.11.3)\n",
            "Requirement already satisfied: psutil>=5 in /usr/local/lib/python3.10/dist-packages (from qiskit-aer) (5.9.5)\n",
            "Requirement already satisfied: qiskit-terra==0.45.1 in /usr/local/lib/python3.10/dist-packages (from qiskit>=0.44.0->qiskit-aer) (0.45.1)\n",
            "Requirement already satisfied: rustworkx>=0.13.0 in /usr/local/lib/python3.10/dist-packages (from qiskit-terra==0.45.1->qiskit>=0.44.0->qiskit-aer) (0.13.2)\n",
            "Requirement already satisfied: ply>=3.10 in /usr/local/lib/python3.10/dist-packages (from qiskit-terra==0.45.1->qiskit>=0.44.0->qiskit-aer) (3.11)\n",
            "Requirement already satisfied: sympy>=1.3 in /usr/local/lib/python3.10/dist-packages (from qiskit-terra==0.45.1->qiskit>=0.44.0->qiskit-aer) (1.12)\n",
            "Requirement already satisfied: dill>=0.3 in /usr/local/lib/python3.10/dist-packages (from qiskit-terra==0.45.1->qiskit>=0.44.0->qiskit-aer) (0.3.7)\n",
            "Requirement already satisfied: python-dateutil>=2.8.0 in /usr/local/lib/python3.10/dist-packages (from qiskit-terra==0.45.1->qiskit>=0.44.0->qiskit-aer) (2.8.2)\n",
            "Requirement already satisfied: stevedore>=3.0.0 in /usr/local/lib/python3.10/dist-packages (from qiskit-terra==0.45.1->qiskit>=0.44.0->qiskit-aer) (5.1.0)\n",
            "Requirement already satisfied: symengine!=0.10.0,>=0.9 in /usr/local/lib/python3.10/dist-packages (from qiskit-terra==0.45.1->qiskit>=0.44.0->qiskit-aer) (0.11.0)\n",
            "Requirement already satisfied: typing-extensions in /usr/local/lib/python3.10/dist-packages (from qiskit-terra==0.45.1->qiskit>=0.44.0->qiskit-aer) (4.5.0)\n",
            "Requirement already satisfied: six>=1.5 in /usr/local/lib/python3.10/dist-packages (from python-dateutil>=2.8.0->qiskit-terra==0.45.1->qiskit>=0.44.0->qiskit-aer) (1.16.0)\n",
            "Requirement already satisfied: pbr!=2.1.0,>=2.0.0 in /usr/local/lib/python3.10/dist-packages (from stevedore>=3.0.0->qiskit-terra==0.45.1->qiskit>=0.44.0->qiskit-aer) (6.0.0)\n",
            "Requirement already satisfied: mpmath>=0.19 in /usr/local/lib/python3.10/dist-packages (from sympy>=1.3->qiskit-terra==0.45.1->qiskit>=0.44.0->qiskit-aer) (1.3.0)\n",
            "Installing collected packages: qiskit-aer\n",
            "Successfully installed qiskit-aer-0.13.1\n"
          ]
        }
      ],
      "source": [
        "import IPython\n",
        "\n",
        "def in_colab():\n",
        "    try:\n",
        "        import google.colab\n",
        "        return True\n",
        "    except:\n",
        "        return False\n",
        "\n",
        "path_files = \"./\" if in_colab() else \"../qworld/include/\"\n",
        "\n",
        "SolutionToTask2 = lambda: IPython.display.display(IPython.display.Javascript('window.open(\"{url}\");'.format(url='https://colab.research.google.com/drive/1b8BXPCQinANvv0JzJDqWgL43xZggTsPo?usp=sharing#scrollTo=yQIdDrUo-JTA' if in_colab() else 'QB24_Q44_Rotations_Solutions.ipynb#task2')))\n",
        "SolutionToTask3 = lambda: IPython.display.display(IPython.display.Javascript('window.open(\"{url}\");'.format(url='https://colab.research.google.com/drive/1b8BXPCQinANvv0JzJDqWgL43xZggTsPo?usp=sharing#scrollTo=xCu34FVW-JTB' if in_colab() else 'QB24_Q44_Rotations_Solutions.ipynb#task3')))\n",
        "SolutionToTask4 = lambda: IPython.display.display(IPython.display.Javascript('window.open(\"{url}\");'.format(url='https://colab.research.google.com/drive/1b8BXPCQinANvv0JzJDqWgL43xZggTsPo?usp=sharing#scrollTo=3b8ucTUZ-JTC' if in_colab() else 'QB24_Q44_Rotations_Solutions.ipynb#task4')))\n",
        "SolutionToTask6 = lambda: IPython.display.display(IPython.display.Javascript('window.open(\"{url}\");'.format(url='https://colab.research.google.com/drive/1b8BXPCQinANvv0JzJDqWgL43xZggTsPo?usp=sharing#scrollTo=36qUFEI9-JTC' if in_colab() else 'QB24_Q44_Rotations_Solutions.ipynb#task6')))\n",
        "SolutionToTask7 = lambda: IPython.display.display(IPython.display.Javascript('window.open(\"{url}\");'.format(url='https://colab.research.google.com/drive/1b8BXPCQinANvv0JzJDqWgL43xZggTsPo?usp=sharing#scrollTo=hB3rkzGR-JTD' if in_colab() else 'QB24_Q44_Rotations_Solutions.ipynb#task7')))\n",
        "\n",
        "if in_colab():\n",
        "    url = \"https://gitlab.com/qworld/qeducation/qbook101/raw/main/qworld/include/quantum.py\"\n",
        "    !wget --no-cache -O quantum.py {url}\n",
        "\n",
        "    url = \"https://gitlab.com/qworld/qeducation/qbook101/raw/main/qworld/include/drawing.py\"\n",
        "    !wget --no-cache -O drawing.py {url}\n",
        "\n",
        "    url = \"https://gitlab.com/qworld/qeducation/qbook101/raw/main/qworld/include/quantum_state.py\"\n",
        "    !wget --no-cache -O quantum_state.py {url}\n",
        "\n",
        "    url = \"https://gitlab.com/qworld/qeducation/qbook101/raw/main/qworld/include/grover.py\"\n",
        "    !wget --no-cache -O grover.py {url}\n",
        "\n",
        "    !pip install qiskit[visualization]\n",
        "    !pip install qiskit-aer"
      ]
    },
    {
      "cell_type": "markdown",
      "metadata": {
        "id": "5i503uSNAfSA"
      },
      "source": [
        "##### _We use certain tools from python library \"<b>matplotlib.pyplot</b>\" for drawing. Check the notebook [Python: Drawing](../python/Python06_Drawing.ipynb) for the list of these tools._"
      ]
    },
    {
      "cell_type": "markdown",
      "metadata": {
        "id": "ACQiw32bAfSA"
      },
      "source": [
        "We start with drawing the quantum states $ \\ket{0} $ and $ \\ket{+} = \\myvector{ \\frac{1}{\\sqrt{2}} \\\\ \\frac{1}{\\sqrt{2}} } $."
      ]
    },
    {
      "cell_type": "markdown",
      "metadata": {
        "id": "pNSR35cdAfSB"
      },
      "source": [
        "<i style=\"font-size:10pt;\">\n",
        "Our predefined function \"draw_qubit()\" draws a figure, the origin, the axes, the unit circle, and base quantum states.\n",
        "<br>\n",
        "Our predefined function \"draw_quantum_state(x,y,name)\" draws an arrow from (0,0) to (x,y) and associates it with <u>name</u>.\n",
        "<br>\n",
        "We include our predefined functions with the following line of code:\n",
        "    \n",
        "    %run quantum.py\n",
        "</i>   "
      ]
    },
    {
      "cell_type": "code",
      "execution_count": 2,
      "metadata": {
        "id": "d_5sO0qwAfSB",
        "outputId": "b0c56af5-9a27-49b3-caf6-9b1330bdf169",
        "colab": {
          "base_uri": "https://localhost:8080/",
          "height": 321
        }
      },
      "outputs": [
        {
          "output_type": "display_data",
          "data": {
            "text/plain": [
              "<Figure size 360x360 with 1 Axes>"
            ],
            "image/png": "[encoded data removed]"
          },
          "metadata": {}
        }
      ],
      "source": [
        "quantum_file = path_files+\"quantum.py\"\n",
        "%run $quantum_file\n",
        "\n",
        "draw_qubit()\n",
        "\n",
        "sqrttwo=2**0.5\n",
        "\n",
        "draw_quantum_state(1,0,\"\")\n",
        "\n",
        "draw_quantum_state(1/sqrttwo,1/sqrttwo,\"|+>\")\n",
        "\n",
        "# drawing the angle with |0>-axis\n",
        "from matplotlib.pyplot import gca, text\n",
        "from matplotlib.patches import Arc\n",
        "gca().add_patch( Arc((0,0),0.4,0.4,angle=0,theta1=0,theta2=45) )\n",
        "text(0.08,0.05,'.',fontsize=30)\n",
        "text(0.21,0.09,'\\u03C0/4')\n",
        "show_plt()"
      ]
    },
    {
      "cell_type": "markdown",
      "metadata": {
        "id": "oAplk76eAfSC"
      },
      "source": [
        "<h3> Task 1 (discussion) </h3>\n",
        "\n",
        "Suppose that we start in state $ \\ket{0} $, and then obtain state $\\ket{+}$ by appling a rotation operator.\n",
        "\n",
        "If we apply the same operator consecutively, what can be the new quantum state?\n",
        "\n",
        "Here are eight candidates:\n",
        "\n",
        "$$\n",
        "    \\myarray{|c|c|c|c|}{\n",
        "        \\hline\n",
        "        A & \\ket{0} = \\vzero & E & \\ket{+} = \\myrvector{\\sqrttwo \\\\ \\sqrttwo}\n",
        "        \\\\ \\hline\n",
        "        B & \\ket{1} = \\vone & F & \\ket{-} = \\myrvector{\\sqrttwo \\\\ -\\sqrttwo}\n",
        "        \\\\ \\hline\n",
        "        C & -\\ket{0} = \\myrvector{-1 \\\\ 0} & G & -\\ket{+} = \\myrvector{-\\sqrttwo \\\\ -\\sqrttwo}\n",
        "        \\\\ \\hline\n",
        "        D & -\\ket{1} = \\myrvector{0 \\\\ -1} & H & -\\ket{-} = \\myrvector{-\\sqrttwo \\\\ \\sqrttwo}\n",
        "        \\\\ \\hline\n",
        "    }\n",
        "$$"
      ]
    },
    {
      "cell_type": "markdown",
      "metadata": {
        "id": "9gm9vUflAfSC"
      },
      "source": [
        "<h3> Rotation with degree $\\pi/4$ </h3>"
      ]
    },
    {
      "cell_type": "markdown",
      "metadata": {
        "id": "3ZDvTffwAfSC"
      },
      "source": [
        "Its matrix form is similar to Hadamard operator:\n",
        "\n",
        "$$ R(\\pi/4) = \\mymatrix{rr}{\\cos(\\pi/4) & -\\sin(\\pi/4) \\\\ \\sin(\\pi/4) & \\cos(\\pi/4) }\n",
        "= \\mymatrix{rr}{ \\sqrttwo & -\\sqrttwo \\\\  \\sqrttwo & \\sqrttwo} $$."
      ]
    },
    {
      "cell_type": "markdown",
      "metadata": {
        "id": "xFPO5RIhAfSC"
      },
      "source": [
        "<h3> Task 2 </h3>\n",
        "\n",
        "Start with state $ \\ket{0} $.\n",
        "\n",
        "Apply $ R(\\pi/4) $ 7 times, and draw each state on the unit circle."
      ]
    },
    {
      "cell_type": "code",
      "execution_count": 5,
      "metadata": {
        "id": "q5w3qKN3AfSC",
        "outputId": "40d0f73e-5501-45d2-de91-2d3324e461ba",
        "colab": {
          "base_uri": "https://localhost:8080/",
          "height": 338
        }
      },
      "outputs": [
        {
          "output_type": "display_data",
          "data": {
            "text/plain": [
              "<Figure size 640x480 with 0 Axes>"
            ]
          },
          "metadata": {}
        },
        {
          "output_type": "display_data",
          "data": {
            "text/plain": [
              "<Figure size 360x360 with 1 Axes>"
            ],
            "image/png": "[encoded data removed]"
          },
          "metadata": {}
        }
      ],
      "source": [
        "quantum_file = path_files+\"quantum.py\"\n",
        "%run $quantum_file\n",
        "\n",
        "draw_qubit()\n",
        "\n",
        "[x,y]=[1,0]\n",
        "\n",
        "draw_quantum_state(x,y,\"v0\")\n",
        "\n",
        "sqrttwo = 2**0.5\n",
        "oversqrttwo = 1/sqrttwo\n",
        "\n",
        "R = [ [oversqrttwo, -1*oversqrttwo], [oversqrttwo,oversqrttwo] ]\n",
        "\n",
        "# function for rotation R\n",
        "def rotate(px,py):\n",
        "    newx = R[0][0]*px + R[0][1]*py\n",
        "    newy = R[1][0]*px + R[1][1]*py\n",
        "    return [newx,newy]\n",
        "\n",
        "# apply rotation R 7 times\n",
        "for i in range(1,8):\n",
        "    [x,y] = rotate(x,y)\n",
        "    draw_quantum_state(x,y,\"|v\"+str(i)+\">\")\n",
        "\n",
        "show_plt()"
      ]
    },
    {
      "cell_type": "markdown",
      "metadata": {
        "id": "xkDiU4GWAfSC"
      },
      "source": [
        "To check out our solution, run the next cell:"
      ]
    },
    {
      "cell_type": "code",
      "execution_count": 4,
      "metadata": {
        "id": "pHf1GhCtAfSC",
        "outputId": "5e7b2942-f12b-4d17-b860-d96cc7e84fda",
        "colab": {
          "base_uri": "https://localhost:8080/",
          "height": 17
        }
      },
      "outputs": [
        {
          "output_type": "display_data",
          "data": {
            "text/plain": [
              "<IPython.core.display.Javascript object>"
            ],
            "application/javascript": [
              "window.open(\"https://colab.research.google.com/drive/1b8BXPCQinANvv0JzJDqWgL43xZggTsPo?usp=sharing#scrollTo=yQIdDrUo-JTA\");"
            ]
          },
          "metadata": {}
        }
      ],
      "source": [
        "SolutionToTask2()  # show solution for task 2"
      ]
    },
    {
      "cell_type": "markdown",
      "metadata": {
        "id": "AwxCCWvVAfSD"
      },
      "source": [
        "<h3>Reading the quantum state of a circuit</h3>\n",
        "\n",
        "The backend \"statevector_simulator\" of Qiskit reads the quantum state of the circuit at that point. It is a classical simulator, and, if any measurement operator is defined, it implements this measurement operator and continues by following one of the possible outcomes.\n",
        "\n",
        "We can read the current state of a circuit as follows:\n",
        "\n",
        "    job = execute(quantum_circuit,Aer.get_backend('statevector_simulator'),optimization_level=0)\n",
        "    current_quantum_state = job.result().get_statevector(quantum_circuit,precision).data\n",
        "    # precision is optional\n",
        "\"current_quantum_state\" is the list of amplitudes, which are complex numbers. For example, the real part of the amplitide of the first state is printed as follows:\n",
        "\n",
        "    print(current_quantum_state[0].real)"
      ]
    },
    {
      "cell_type": "markdown",
      "metadata": {
        "id": "LfHKgPPrAfSD"
      },
      "source": [
        "<h3> Task 3 </h3>\n",
        "\n",
        "We implement Task 2 by using \"ry-gate\" and \"statevector_simulator\".\n",
        "\n",
        "Define a quantum circuit with one qubit.\n",
        "\n",
        "Iterate seven times\n",
        "- Apply the rotation with angle $ \\pi \\over 4 $ by using ry-gate\n",
        "- Read the current quantum state\n",
        "- Print the current quantum state\n",
        "- Draw the quantum state on the unit circle by using the values of the current quantum state"
      ]
    },
    {
      "cell_type": "code",
      "execution_count": 9,
      "metadata": {
        "id": "3j8uHkdcAfSD",
        "outputId": "3e448ac8-6fa7-4da8-f96d-5468f8a54799",
        "colab": {
          "base_uri": "https://localhost:8080/",
          "height": 460
        }
      },
      "outputs": [
        {
          "output_type": "stream",
          "name": "stdout",
          "text": [
            "Iteration: 1 ; Quantum State: 0.707 |0> + 0.707 |1>\n",
            "Iteration: 2 ; Quantum State: 0.0 |0> + 1.0 |1>\n",
            "Iteration: 3 ; Quantum State: -0.707 |0> + 0.707 |1>\n",
            "Iteration: 4 ; Quantum State: -1.0 |0> + 0.0 |1>\n",
            "Iteration: 5 ; Quantum State: -0.707 |0> + -0.707 |1>\n",
            "Iteration: 6 ; Quantum State: -0.0 |0> + -1.0 |1>\n",
            "Iteration: 7 ; Quantum State: 0.707 |0> + -0.707 |1>\n"
          ]
        },
        {
          "output_type": "display_data",
          "data": {
            "text/plain": [
              "<Figure size 640x480 with 0 Axes>"
            ]
          },
          "metadata": {}
        },
        {
          "output_type": "display_data",
          "data": {
            "text/plain": [
              "<Figure size 360x360 with 1 Axes>"
            ],
            "image/png": "[encoded data removed]"
          },
          "metadata": {}
        }
      ],
      "source": [
        "quantum_file = path_files+\"quantum.py\"\n",
        "%run $quantum_file\n",
        "\n",
        "draw_qubit()\n",
        "\n",
        "[x,y]=[1,0]\n",
        "draw_quantum_state(x,y,\"v0\")\n",
        "from qiskit import QuantumRegister,ClassicalRegister,execute,Aer,QuantumCircuit\n",
        "from math import pi\n",
        "q=QuantumRegister(1,'q')\n",
        "c=ClassicalRegister(1,'c')\n",
        "qc=QuantumCircuit(q,c)\n",
        "for i in range(1,8):\n",
        "  qc.ry(2*pi/4,q)\n",
        "  job = execute(qc,Aer.get_backend('statevector_simulator'),optimization_level=0)\n",
        "  current_quantum = job.result().get_statevector(qc,3).data\n",
        "  x_val=current_quantum[0].real\n",
        "  y_val=current_quantum[1].real\n",
        "  print(f'Iteration: {i} ; Quantum State: {x_val} |0> + {y_val} |1>')\n",
        "  draw_quantum_state(x_val,y_val,\"|v\"+str(i)+\">\")\n",
        "show_plt()"
      ]
    },
    {
      "cell_type": "markdown",
      "metadata": {
        "id": "H0W-U93CAfSD"
      },
      "source": [
        "To check out our solution, run the next cell:"
      ]
    },
    {
      "cell_type": "code",
      "execution_count": null,
      "metadata": {
        "id": "QbRlV0vDAfSD"
      },
      "outputs": [],
      "source": [
        "SolutionToTask3()  # show solution for task 3"
      ]
    },
    {
      "cell_type": "markdown",
      "metadata": {
        "id": "iAWLIRZaAfSD"
      },
      "source": [
        "<h3> Rotation with degree $\\theta$ </h3>"
      ]
    },
    {
      "cell_type": "markdown",
      "metadata": {
        "id": "4D0qCtgrAfSD"
      },
      "source": [
        "The matrix form of a rotation is as follows:\n",
        "\n",
        "$$ R(\\theta) = \\mymatrix{rr}{\\cos(\\theta) & -\\sin(\\theta) \\\\ \\sin(\\theta) & \\cos(\\theta) }, $$\n",
        "\n",
        "where $ \\theta $ is the angle of rotation (in counter-clockwise direction)."
      ]
    },
    {
      "cell_type": "markdown",
      "metadata": {
        "id": "OExRB8vHAfSD"
      },
      "source": [
        "<h3> Task 4 </h3>\n",
        "\n",
        "Repeat Task 3 for the angle $ \\pi/6 $ by applying the rotation 12 times.\n",
        "\n",
        "Repeat Task 3 for the angle $ 3\\pi/8 $ by applying the rotation 16 times.\n",
        "\n",
        "Repeat Task 3 for the angle $ \\sqrt{2}\\pi $ by applying the rotation 20 times."
      ]
    },
    {
      "cell_type": "code",
      "execution_count": 11,
      "metadata": {
        "id": "u1lBND00AfSD",
        "outputId": "32725db2-a149-48e7-bb90-ae53021e6c08",
        "colab": {
          "base_uri": "https://localhost:8080/",
          "height": 338
        }
      },
      "outputs": [
        {
          "output_type": "display_data",
          "data": {
            "text/plain": [
              "<Figure size 640x480 with 0 Axes>"
            ]
          },
          "metadata": {}
        },
        {
          "output_type": "display_data",
          "data": {
            "text/plain": [
              "<Figure size 360x360 with 1 Axes>"
            ],
            "image/png": "[encoded data removed]"
          },
          "metadata": {}
        }
      ],
      "source": [
        "#for pi/6\n",
        "quantum_file = path_files+\"quantum.py\"\n",
        "%run $quantum_file\n",
        "\n",
        "draw_qubit()\n",
        "\n",
        "[x,y]=[1,0]\n",
        "draw_quantum_state(x,y,\"v0\")\n",
        "q=QuantumRegister(1,'q')\n",
        "c=ClassicalRegister(1,'c')\n",
        "qc=QuantumCircuit(q,c)\n",
        "angle=pi/6\n",
        "for i in range(1,4):\n",
        "  qc.ry(2*angle,q)\n",
        "  job=execute(qc,Aer.get_backend('statevector_simulator'),optimization_level=0)\n",
        "  current_state=job.result().get_statevector(qc,3).data\n",
        "  x_val=current_state[0].real\n",
        "  y_val=current_state[1].real\n",
        "  draw_quantum_state(x_val,y_val,'v'+str(i))\n",
        "show_plt()"
      ]
    },
    {
      "cell_type": "code",
      "source": [
        "#for 3pi/8\n",
        "quantum_file=path_files+\"quantum.py\"\n",
        "%run $quantum_file\n",
        "draw_qubit()\n",
        "[x,y]=[1,0]\n",
        "draw_quantum_state(x,y,'v0')\n",
        "q=QuantumRegister(1,'q')\n",
        "c=ClassicalRegister(1,'c')\n",
        "qc=QuantumCircuit(q,c)\n",
        "angle=3*pi/8\n",
        "for i in range(1,4):\n",
        "  qc.ry(2*angle,q)\n",
        "  job=execute(qc,Aer.get_backend('statevector_simulator'),optimization_level=0)\n",
        "  current_state=job.result().get_statevector(qc,3).data\n",
        "  x_val=current_state[0].real\n",
        "  y_val=current_state[1].real\n",
        "  draw_quantum_state(x_val,y_val,'v'+str(i))\n",
        "show_plt()"
      ],
      "metadata": {
        "id": "muw8Vu1NqHwg",
        "outputId": "3b7286c8-1d27-4ffc-b213-ea6d289ff1fe",
        "colab": {
          "base_uri": "https://localhost:8080/",
          "height": 338
        }
      },
      "execution_count": 13,
      "outputs": [
        {
          "output_type": "display_data",
          "data": {
            "text/plain": [
              "<Figure size 640x480 with 0 Axes>"
            ]
          },
          "metadata": {}
        },
        {
          "output_type": "display_data",
          "data": {
            "text/plain": [
              "<Figure size 360x360 with 1 Axes>"
            ],
            "image/png": "[encoded data removed]"
          },
          "metadata": {}
        }
      ]
    },
    {
      "cell_type": "code",
      "source": [
        "#for sqrt(2)pi\n",
        "quantum_file=path_files+'quantum.py'\n",
        "%run $quantum_file\n",
        "draw_qubit()\n",
        "[x,y]=[1,0]\n",
        "draw_quantum_state(x,y,'v0')\n",
        "q=QuantumRegister(1,'q')\n",
        "c=ClassicalRegister(1,'c')\n",
        "qc=QuantumCircuit(q,c)\n",
        "angle=2**0.5*pi\n",
        "for i in range(1,4):\n",
        "  qc.ry(2*angle,q)\n",
        "  job=execute(qc,Aer.get_backend('statevector_simulator'),optimization_level=0)\n",
        "  current_state=job.result().get_statevector(qc,3).data\n",
        "  x_val=current_state[0].real\n",
        "  y_val=current_state[1].real\n",
        "  draw_quantum_state(x_val,y_val,'v'+str(i))\n",
        "show_plt()"
      ],
      "metadata": {
        "id": "c01BFaNarOCR",
        "outputId": "75b4bca8-4c8c-4176-8097-5954f0dd3d3a",
        "colab": {
          "base_uri": "https://localhost:8080/",
          "height": 338
        }
      },
      "execution_count": 15,
      "outputs": [
        {
          "output_type": "display_data",
          "data": {
            "text/plain": [
              "<Figure size 640x480 with 0 Axes>"
            ]
          },
          "metadata": {}
        },
        {
          "output_type": "display_data",
          "data": {
            "text/plain": [
              "<Figure size 360x360 with 1 Axes>"
            ],
            "image/png": "[encoded data removed]"
          },
          "metadata": {}
        }
      ]
    },
    {
      "cell_type": "markdown",
      "metadata": {
        "id": "kGL5bDTuAfSD"
      },
      "source": [
        "To check out our solution, run the next cell:"
      ]
    },
    {
      "cell_type": "code",
      "execution_count": null,
      "metadata": {
        "id": "TVVB-lHUAfSD"
      },
      "outputs": [],
      "source": [
        "SolutionToTask4()  # show solution for task 4"
      ]
    },
    {
      "cell_type": "markdown",
      "metadata": {
        "id": "cl_p91O3AfSD"
      },
      "source": [
        "<h3> Task 5 (discussion) </h3>\n",
        "\n",
        "Let us define a rotation angle as $ \\theta_\\alpha = \\alpha \\cdot (2\\pi) $.\n",
        "\n",
        "When starting in state $ \\ket{0} $ and applying the rotation with angle $ \\theta_\\alpha $ arbitrarily many times, the state $ \\ket{0} $ can be visited again or not?\n",
        "- For which values of $\\alpha$ will the state $\\ket{0}$ be visited?\n",
        "- For which values of $\\alpha$ will the state $\\ket{0}$  never be visited?"
      ]
    },
    {
      "cell_type": "markdown",
      "metadata": {
        "id": "3zIfwuMcAfSD"
      },
      "source": [
        "<h3> Task 6 </h3>\n",
        "\n",
        "We randomly pick an angle $ \\theta \\in [0,2\\pi) $.\n",
        "\n",
        "We have two separate qubits initially set to state $ \\ket{0} $.\n",
        "\n",
        "The first qubit is rotated by the angle $ \\theta $ and the second qubit is rotated by the angle $ \\theta + \\pi/2 $.\n",
        "\n",
        "Implement each qubit and its rotation as a separate quantum circuit.\n",
        "\n",
        "Then, read both quantum states and calculate their dot product.\n",
        "\n",
        "Check the result of the dot product for different random angles."
      ]
    },
    {
      "cell_type": "code",
      "execution_count": 17,
      "metadata": {
        "id": "jEAe4H7LAfSD",
        "outputId": "41d150b8-a3ad-43ec-9885-c8c6879278e6",
        "colab": {
          "base_uri": "https://localhost:8080/"
        }
      },
      "outputs": [
        {
          "output_type": "stream",
          "name": "stdout",
          "text": [
            "0 - the result of dot product is  0.0\n",
            "random angle is 301\n",
            "x1 , y1 = 0.51504 -0.85717\n",
            "x2 , y2 = 0.85717 0.51504\n",
            "\n",
            "1 - the result of dot product is  0.0\n",
            "random angle is 342\n",
            "x1 , y1 = 0.95106 -0.30902\n",
            "x2 , y2 = 0.30902 0.95106\n",
            "\n",
            "2 - the result of dot product is  -0.0\n",
            "random angle is 89\n",
            "x1 , y1 = 0.01745 0.99985\n",
            "x2 , y2 = -0.99985 0.01745\n",
            "\n",
            "3 - the result of dot product is  0.0\n",
            "random angle is 336\n",
            "x1 , y1 = 0.91355 -0.40674\n",
            "x2 , y2 = 0.40674 0.91355\n",
            "\n",
            "4 - the result of dot product is  -0.0\n",
            "random angle is 44\n",
            "x1 , y1 = 0.71934 0.69466\n",
            "x2 , y2 = -0.69466 0.71934\n",
            "\n",
            "5 - the result of dot product is  0.0\n",
            "random angle is 172\n",
            "x1 , y1 = -0.99027 0.13917\n",
            "x2 , y2 = -0.13917 -0.99027\n",
            "\n",
            "6 - the result of dot product is  -0.0\n",
            "random angle is 199\n",
            "x1 , y1 = -0.94552 -0.32557\n",
            "x2 , y2 = 0.32557 -0.94552\n",
            "\n",
            "7 - the result of dot product is  0.0\n",
            "random angle is 194\n",
            "x1 , y1 = -0.9703 -0.24192\n",
            "x2 , y2 = 0.24192 -0.9703\n",
            "\n",
            "8 - the result of dot product is  0.0\n",
            "random angle is 161\n",
            "x1 , y1 = -0.94552 0.32557\n",
            "x2 , y2 = -0.32557 -0.94552\n",
            "\n",
            "9 - the result of dot product is  0.0\n",
            "random angle is 261\n",
            "x1 , y1 = -0.15643 -0.98769\n",
            "x2 , y2 = 0.98769 -0.15643\n",
            "\n"
          ]
        }
      ],
      "source": [
        "from random import randrange\n",
        "from math import pi\n",
        "from qiskit import QuantumRegister, ClassicalRegister, QuantumCircuit, execute, Aer\n",
        "\n",
        "\n",
        "# implement the experiment 10 times\n",
        "for i in range(10):\n",
        "    # pick a random angle\n",
        "    random_angle = randrange(360)\n",
        "\n",
        "    # specify the angles\n",
        "    rotation_angle1 = random_angle*(pi/180)\n",
        "    rotation_angle2 = rotation_angle1 + pi/2\n",
        "\n",
        "    #\n",
        "    # first qubit\n",
        "    #\n",
        "    q1 =  QuantumRegister(1)\n",
        "    c1 = ClassicalRegister(1)\n",
        "    qc1 = QuantumCircuit(q1,c1)\n",
        "\n",
        "    # rotate the qubit\n",
        "    qc1.ry(2 * rotation_angle1,q1[0])\n",
        "\n",
        "    # read the quantum state\n",
        "    job = execute(qc1,Aer.get_backend('statevector_simulator'),optimization_level=0)\n",
        "    current_quantum_state1=job.result().get_statevector(qc1).data\n",
        "    [x1,y1]=[current_quantum_state1[0].real,current_quantum_state1[1].real]\n",
        "\n",
        "    #\n",
        "    # second qubit\n",
        "    #\n",
        "    q2 =  QuantumRegister(1)\n",
        "    c2 = ClassicalRegister(1)\n",
        "    qc2 = QuantumCircuit(q2,c2)\n",
        "\n",
        "    # rotate the qubit\n",
        "    qc2.ry(2 * rotation_angle2,q2[0])\n",
        "\n",
        "    # read the quantum state\n",
        "    job = execute(qc2,Aer.get_backend('statevector_simulator'),optimization_level=0)\n",
        "    current_quantum_state2=job.result().get_statevector(qc2).data\n",
        "    [x2,y2]=[current_quantum_state2[0].real,current_quantum_state2[1].real]\n",
        "\n",
        "\n",
        "    #\n",
        "    # dot product\n",
        "    #\n",
        "    print(i,\"- the result of dot product is \",round(x1*x2+y1*y2,5))\n",
        "    print(\"random angle is\",random_angle)\n",
        "    print(\"x1 , y1 =\",round(x1,5),round(y1,5))\n",
        "    print(\"x2 , y2 =\",round(x2,5),round(y2,5))\n",
        "    print()"
      ]
    },
    {
      "cell_type": "markdown",
      "metadata": {
        "id": "jlIesU0bAfSE"
      },
      "source": [
        "To check out our solution, run the next cell:"
      ]
    },
    {
      "cell_type": "code",
      "execution_count": null,
      "metadata": {
        "id": "IXK7KeWZAfSE"
      },
      "outputs": [],
      "source": [
        "SolutionToTask6()  # show solution for task 6"
      ]
    },
    {
      "cell_type": "markdown",
      "metadata": {
        "id": "L7qcld2iAfSE"
      },
      "source": [
        "<h3> Task 7 </h3>\n",
        "\n",
        "We randomly pick an angle $ \\theta \\in [0,2\\pi) $.\n",
        "\n",
        "We have a single qubit initially set to state $ \\ket{0} $.\n",
        "\n",
        "The qubit is rotated by the angle either $ \\theta_1 =  \\theta $ or $ \\theta_2 =  \\theta-\\pi/2 $.\n",
        "\n",
        "You are allowed to do one more rotation $ \\theta' $ and then make a measurement.\n",
        "\n",
        "Can you determine the angle of the first rotation angle by looking/using the measurement result? Is it $ \\theta_1 $ or $ \\theta_2 $?\n",
        "\n",
        "Check your solution for different random angles."
      ]
    },
    {
      "cell_type": "code",
      "execution_count": 19,
      "metadata": {
        "id": "TxS3RuqQAfSE",
        "outputId": "be8b1b8a-0d90-4a81-921f-303b52171a91",
        "colab": {
          "base_uri": "https://localhost:8080/"
        }
      },
      "outputs": [
        {
          "output_type": "stream",
          "name": "stdout",
          "text": [
            "{'1': 100}\n",
            "your guess is theta2\n",
            "picked_angle is theta2\n"
          ]
        }
      ],
      "source": [
        "from random import randrange\n",
        "from math import pi\n",
        "from qiskit import QuantumRegister, ClassicalRegister, QuantumCircuit, execute, Aer\n",
        "\n",
        "random_angle = randrange(360)\n",
        "rotation_angle1 = random_angle*(pi/180)\n",
        "rotation_angle2 = rotation_angle1 - pi/2\n",
        "\n",
        "# we define a quantum circuit with one qubit and one bit\n",
        "q =  QuantumRegister(1) # quantum register with a single qubit\n",
        "c = ClassicalRegister(1) # classical register with a single bit\n",
        "qc = QuantumCircuit(q,c) # quantum circuit with quantum and classical registers\n",
        "\n",
        "if randrange(2)==0:\n",
        "    qc.ry(2 * rotation_angle1,q[0])\n",
        "    picked_angle = \"theta1\"\n",
        "else:\n",
        "    qc.ry(2 * rotation_angle2,q[0])\n",
        "    picked_angle = \"theta2\"\n",
        "\n",
        "your_guess = \"\"\n",
        "\n",
        "qc.ry(-2 * rotation_angle1,q[0]) # the new state will be either |0> or -|1>\n",
        "\n",
        "qc.measure(q,c)\n",
        "\n",
        "job = execute(qc,Aer.get_backend('qasm_simulator'),shots=100)\n",
        "counts = job.result().get_counts(qc)\n",
        "print(counts)\n",
        "\n",
        "if '0' in counts:\n",
        "    your_guess = \"theta1\"\n",
        "else:\n",
        "    your_guess = \"theta2\"\n",
        "print(\"your guess is\",your_guess)\n",
        "print(\"picked_angle is\",picked_angle)"
      ]
    },
    {
      "cell_type": "markdown",
      "metadata": {
        "id": "bFA5tdyoAfSE"
      },
      "source": [
        "To check out our solution, run the next cell:"
      ]
    },
    {
      "cell_type": "code",
      "execution_count": null,
      "metadata": {
        "id": "Eh3pDJM0AfSE"
      },
      "outputs": [],
      "source": [
        "SolutionToTask7()  # show solution for task 7"
      ]
    }
  ],
  "metadata": {
    "kernelspec": {
      "display_name": "Python 3 (ipykernel)",
      "language": "python",
      "name": "python3"
    },
    "language_info": {
      "codemirror_mode": {
        "name": "ipython",
        "version": 3
      },
      "file_extension": ".py",
      "mimetype": "text/x-python",
      "name": "python",
      "nbconvert_exporter": "python",
      "pygments_lexer": "ipython3",
      "version": "3.11.4"
    },
    "colab": {
      "provenance": [],
      "collapsed_sections": [
        "Bm9lteNlAfR-"
      ]
    }
  },
  "nbformat": 4,
  "nbformat_minor": 0
}