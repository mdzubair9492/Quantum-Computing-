{
  "nbformat": 4,
  "nbformat_minor": 0,
  "metadata": {
    "kernelspec": {
      "display_name": "Python 3",
      "language": "python",
      "name": "python3"
    },
    "language_info": {
      "codemirror_mode": {
        "name": "ipython",
        "version": 3
      },
      "file_extension": ".py",
      "mimetype": "text/x-python",
      "name": "python",
      "nbconvert_exporter": "python",
      "pygments_lexer": "ipython3",
      "version": "3.7.6"
    },
    "colab": {
      "provenance": []
    }
  },
  "cells": [
    {
      "cell_type": "markdown",
      "metadata": {
        "id": "9FOL0zRS-wdb"
      },
      "source": [
        "# Coding Activity 1: Learning IBM Qiskit"
      ]
    },
    {
      "cell_type": "code",
      "metadata": {
        "id": "V7pKKY1jBqZE"
      },
      "source": [
        "#!pip install qiskit"
      ],
      "execution_count": null,
      "outputs": []
    },
    {
      "cell_type": "markdown",
      "metadata": {
        "id": "Xyvn61O3-wgH"
      },
      "source": [
        "In this tutorial, we will learn about the basic components of a Qiskit code in order to ***build*** our first quantum circuit, ***execute*** it on a quantum simulator and ***analyze*** the outputs that we obtain."
      ]
    },
    {
      "cell_type": "markdown",
      "metadata": {
        "id": "GFOeI3Zv-wgK"
      },
      "source": [
        "\n",
        "> **Step 1.** Import required packages."
      ]
    },
    {
      "cell_type": "markdown",
      "metadata": {
        "id": "ZAcabl_3-wgM"
      },
      "source": [
        "We need to use pre-existing functions from different libraries for successfully running the code. Broadly speaking, we will need to import four types of libraries (of course, you can feel free to include more!):\n",
        "1. Python libraries required for various operations: Some libraries to keep in mind would be ***numpy*** and ***scipy*** (for advanced mathematical operations), ***matplotlib*** (for visualizing data with various plots).\n",
        "\n",
        "2. Qiskit packages used for building a quantum circuit: We will need to initiaze and store qubits (***QuantumRegister***), store the measurement results to classical bits (***ClassicalRegister***), and build a circuit (***QuantumCircuit***).\n",
        "\n",
        "3. Qiskit packages used to simulate the quantum circuit: We will need to run the quantum circuit we built on a simulator or a quantum computer (***execute***). Here, we will use the basic backend provided in Qiskit (***Aer***).\n",
        "\n",
        "4. Qiskit packages used to visualize and analyze results: We will use the most basic histogram plot (***plot_histogram***) from the ***qiskit.visualization*** package."
      ]
    },
    {
      "cell_type": "code",
      "metadata": {
        "id": "hpPsZefw-wgO"
      },
      "source": [
        "#Python libraries required for various operations\n",
        "import numpy as np\n",
        "\n",
        "#Qiskit packages used for building a quantum circuit\n",
        "from qiskit import QuantumRegister, ClassicalRegister\n",
        "from qiskit import QuantumCircuit\n",
        "\n",
        "#Qiskit packages used to execute and simulate the quantum circuit\n",
        "from qiskit import execute, Aer\n",
        "\n",
        "#Qiskit packages used to visualize and analyze results\n",
        "from qiskit.visualization import plot_histogram"
      ],
      "execution_count": null,
      "outputs": []
    },
    {
      "cell_type": "markdown",
      "metadata": {
        "id": "lcsG5SHA-wgT"
      },
      "source": [
        "> **Step 2.** Build a quantum circuit."
      ]
    },
    {
      "cell_type": "markdown",
      "metadata": {
        "id": "CJnKCXto-wgU"
      },
      "source": [
        "As a part of this step, to build a circuit, we will need to\n",
        "1. initialize variables (quantum and classical registers, cicuit itself)\n",
        "2. add gates (operations and measurements)\n",
        "3. visualize the circuit\n",
        "\n",
        "Here, we will build a quantum circuit with one qubit which is made to pass through a ***Hadamard gate*** to create equal superposition of 0 and 1."
      ]
    },
    {
      "cell_type": "code",
      "metadata": {
        "id": "-TWPfg_R-wgY"
      },
      "source": [
        "#Create quantum register to store qubit\n",
        "qreg_q = QuantumRegister(1, 'q')\n",
        "\n",
        "#Create classical register to store the results\n",
        "creg_c = ClassicalRegister(1, 'c')\n",
        "\n",
        "#Initialize quantum circuit\n",
        "circuit = QuantumCircuit(qreg_q, creg_c)\n",
        "\n",
        "#Initialize all qubits to |0>\n",
        "circuit.reset(qreg_q)\n",
        "\n",
        "#Apply the Hadamard gate on the qubit\n",
        "circuit.h(qreg_q)\n",
        "\n",
        "#Apply measurement\n",
        "circuit.measure(qreg_q, creg_c)\n",
        "\n",
        "#Visualize the constructed circuit\n",
        "circuit.draw()"
      ],
      "execution_count": null,
      "outputs": []
    },
    {
      "cell_type": "markdown",
      "metadata": {
        "id": "usuJgMBe-wgf"
      },
      "source": [
        "> **Step 3.** Circuit execution and experimentation.\n",
        "\n",
        "\n"
      ]
    },
    {
      "cell_type": "markdown",
      "metadata": {
        "id": "09Qvsyza-wgg"
      },
      "source": [
        "***Qiskit Aer*** is a high performance simulator framework for quantum circuits. We can change the backend of Aer to achieve different simulation goals. We can even include an actual quantum computer on the backend (as opposed to a simulator) for more complicated circuits.\n",
        "\n",
        "Note that number of shots refers to the number of times the circuit is run.  "
      ]
    },
    {
      "cell_type": "code",
      "metadata": {
        "id": "sLd96yY1-wgi"
      },
      "source": [
        "# Use Aer's qasm_simulator\n",
        "simulator = Aer.get_backend('qasm_simulator')\n",
        "\n",
        "# Execute the circuit on the qasm simulator\n",
        "job = execute(circuit, simulator, shots=1000)\n",
        "\n",
        "# Grab results from the job\n",
        "result = job.result()\n",
        "\n",
        "# Returns counts\n",
        "counts = result.get_counts(circuit)\n",
        "print(\"\\n Output counts:\",counts)"
      ],
      "execution_count": null,
      "outputs": []
    },
    {
      "cell_type": "markdown",
      "metadata": {
        "id": "rOHBKCNz-wgk"
      },
      "source": [
        "> **Step 4.** Analyze and visualize results."
      ]
    },
    {
      "cell_type": "markdown",
      "metadata": {
        "id": "kcdzkQLf-wgl"
      },
      "source": [
        "We will now plot the probablity of getting 0s and 1s after the execution of the circuit. The probabilities are computed by taking the respective counts and dividing by the total number of shots."
      ]
    },
    {
      "cell_type": "code",
      "metadata": {
        "id": "8fimqWOf-wgm"
      },
      "source": [
        "# Plot a histogram\n",
        "plot_histogram(counts)"
      ],
      "execution_count": null,
      "outputs": []
    },
    {
      "cell_type": "markdown",
      "metadata": {
        "id": "gnG8q77x-wgo"
      },
      "source": [
        "Some things to try:\n",
        "1. Run the code multiple times to check if the results remain the same.\n",
        "2. Change the number of shots to see if the results differ significantly."
      ]
    },
    {
      "cell_type": "code",
      "metadata": {
        "id": "BoqYnafV-wgq"
      },
      "source": [],
      "execution_count": null,
      "outputs": []
    }
  ]
}