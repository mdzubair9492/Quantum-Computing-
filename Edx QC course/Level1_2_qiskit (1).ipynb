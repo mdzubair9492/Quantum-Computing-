{
  "nbformat": 4,
  "nbformat_minor": 0,
  "metadata": {
    "kernelspec": {
      "display_name": "Python 3",
      "language": "python",
      "name": "python3"
    },
    "language_info": {
      "codemirror_mode": {
        "name": "ipython",
        "version": 3
      },
      "file_extension": ".py",
      "mimetype": "text/x-python",
      "name": "python",
      "nbconvert_exporter": "python",
      "pygments_lexer": "ipython3",
      "version": "3.7.6"
    },
    "colab": {
      "provenance": []
    }
  },
  "cells": [
    {
      "cell_type": "markdown",
      "metadata": {
        "id": "_GS1bBAJJ800"
      },
      "source": [
        "# Coding Activity 2: Build your own quantum circuit with Qiskit"
      ]
    },
    {
      "cell_type": "code",
      "metadata": {
        "id": "CPacrB0qMaG1"
      },
      "source": [
        "#!pip install qiskit"
      ],
      "execution_count": null,
      "outputs": []
    },
    {
      "cell_type": "markdown",
      "metadata": {
        "id": "DJY9xqZvJ807"
      },
      "source": [
        "In this activity, we will experiment with more quantum circuits. The template provided below allows you to customize the circuit as per your requirements."
      ]
    },
    {
      "cell_type": "markdown",
      "metadata": {
        "id": "X3t9OeT5J808"
      },
      "source": [
        "> **Step 1.** Import required packages."
      ]
    },
    {
      "cell_type": "code",
      "metadata": {
        "id": "0x2gv4pYJ809"
      },
      "source": [
        "#Python libraries required for various operations\n",
        "import numpy as np\n",
        "\n",
        "#Qiskit packages used for building a quantum circuit\n",
        "from qiskit import QuantumRegister, ClassicalRegister\n",
        "from qiskit import QuantumCircuit\n",
        "\n",
        "#Qiskit packages used to execute and simulate the quantum circuit\n",
        "from qiskit import execute, Aer\n",
        "\n",
        "#Qiskit packages used to visualize and analyze results\n",
        "from qiskit.visualization import plot_histogram"
      ],
      "execution_count": null,
      "outputs": []
    },
    {
      "cell_type": "markdown",
      "metadata": {
        "id": "AbQ5dJx1J80-"
      },
      "source": [
        "> **Step 2.** Build a quantum circuit."
      ]
    },
    {
      "cell_type": "markdown",
      "metadata": {
        "id": "_eQ9xUTvJ80-"
      },
      "source": [
        "*Replace the stars provided in the code snippet below to build your own quantum circuit.*"
      ]
    },
    {
      "cell_type": "code",
      "metadata": {
        "id": "wO0fw6LyJ80_"
      },
      "source": [
        "#Create quantum register to store qubit\n",
        "'''\n",
        "Replace * to define the number of quantum registers.\n",
        "'''\n",
        "qreg_q = QuantumRegister(*, 'q')\n",
        "\n",
        "#Create classical register to store the results\n",
        "'''\n",
        "Replace * to define the number of classical registers (same as the number of quantum registers).\n",
        "'''\n",
        "creg_c = ClassicalRegister(*, 'c')\n",
        "\n",
        "#Initialize quantum circuit\n",
        "circuit = QuantumCircuit(qreg_q, creg_c)\n",
        "\n",
        "#Initialize all qubits to |0>\n",
        "circuit.reset(qreg_q)\n",
        "\n",
        "#Add gates\n",
        "'''\n",
        "If you need to use gates, uncomment the command below;\n",
        "Use (h,x,z) in place of *; Define position of the qubit at which you want to apply (starts with 0)\n",
        "'''\n",
        "#circuit.*(qreg_q[*])\n",
        "\n",
        "'''\n",
        "If you need to use the CNOT gate, uncomment the command below;\n",
        "Replace * with the control qubit and ** with target qubit\n",
        "'''\n",
        "#circuit.cx(qreg_q[*],qreg_q[**])\n",
        "\n",
        "\n",
        "#Apply measurement\n",
        "circuit.measure(qreg_q, creg_c)\n",
        "\n",
        "#Visualize the constructed circuit\n",
        "circuit.draw()"
      ],
      "execution_count": null,
      "outputs": []
    },
    {
      "cell_type": "markdown",
      "metadata": {
        "id": "nSQJEfNqJ80_"
      },
      "source": [
        "> **Step 3.** Circuit execution and experimentation."
      ]
    },
    {
      "cell_type": "code",
      "metadata": {
        "id": "imo7dQLXJ81A"
      },
      "source": [
        "# Use Aer's qasm_simulator\n",
        "simulator = Aer.get_backend('qasm_simulator')\n",
        "\n",
        "# Execute the circuit on the qasm simulator\n",
        "'''\n",
        "Define the appropriate number of shots in place of * for your experiment\n",
        "'''\n",
        "job = execute(circuit, simulator, shots=*)\n",
        "\n",
        "# Grab results from the job\n",
        "result = job.result()\n",
        "\n",
        "# Returns counts\n",
        "counts = result.get_counts(circuit)\n",
        "print(\"\\n Output counts:\",counts)"
      ],
      "execution_count": null,
      "outputs": []
    },
    {
      "cell_type": "markdown",
      "metadata": {
        "id": "4nW54PsJJ81A"
      },
      "source": [
        "> **Step 4.** Analyze and visualize results."
      ]
    },
    {
      "cell_type": "markdown",
      "metadata": {
        "id": "zGOVk8CBJ81A"
      },
      "source": [
        "We will now plot the probablity of getting 0s and 1s after the execution of the circuit. The probabilities are computed by taking the respective counts and dividing by the total number of shots."
      ]
    },
    {
      "cell_type": "code",
      "metadata": {
        "id": "GhhmSEoyJ81B"
      },
      "source": [
        "# Plot a histogram\n",
        "plot_histogram(counts)"
      ],
      "execution_count": null,
      "outputs": []
    }
  ]
}