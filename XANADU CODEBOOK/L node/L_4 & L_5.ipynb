{
 "cells": [
  {
   "cell_type": "code",
   "execution_count": 1,
   "id": "31af96e0",
   "metadata": {},
   "outputs": [
    {
     "name": "stdout",
     "output_type": "stream",
     "text": [
      "Requirement already satisfied: pennylane in c:\\users\\lenovo\\anaconda3\\lib\\site-packages (0.33.1)\n",
      "Requirement already satisfied: numpy in c:\\users\\lenovo\\anaconda3\\lib\\site-packages (from pennylane) (1.23.5)\n",
      "Requirement already satisfied: scipy in c:\\users\\lenovo\\anaconda3\\lib\\site-packages (from pennylane) (1.11.1)\n",
      "Requirement already satisfied: networkx in c:\\users\\lenovo\\anaconda3\\lib\\site-packages (from pennylane) (3.1)\n",
      "Requirement already satisfied: rustworkx in c:\\users\\lenovo\\anaconda3\\lib\\site-packages (from pennylane) (0.13.2)\n",
      "Requirement already satisfied: autograd in c:\\users\\lenovo\\anaconda3\\lib\\site-packages (from pennylane) (1.6.2)\n",
      "Requirement already satisfied: toml in c:\\users\\lenovo\\anaconda3\\lib\\site-packages (from pennylane) (0.10.2)\n",
      "Requirement already satisfied: appdirs in c:\\users\\lenovo\\anaconda3\\lib\\site-packages (from pennylane) (1.4.4)\n",
      "Requirement already satisfied: semantic-version>=2.7 in c:\\users\\lenovo\\anaconda3\\lib\\site-packages (from pennylane) (2.10.0)\n",
      "Requirement already satisfied: autoray>=0.6.1 in c:\\users\\lenovo\\anaconda3\\lib\\site-packages (from pennylane) (0.6.7)\n",
      "Requirement already satisfied: cachetools in c:\\users\\lenovo\\anaconda3\\lib\\site-packages (from pennylane) (5.3.2)\n",
      "Requirement already satisfied: pennylane-lightning>=0.33 in c:\\users\\lenovo\\anaconda3\\lib\\site-packages (from pennylane) (0.33.1)\n",
      "Requirement already satisfied: requests in c:\\users\\lenovo\\anaconda3\\lib\\site-packages (from pennylane) (2.31.0)\n",
      "Requirement already satisfied: typing-extensions in c:\\users\\lenovo\\anaconda3\\lib\\site-packages (from pennylane) (4.7.1)\n",
      "Requirement already satisfied: future>=0.15.2 in c:\\users\\lenovo\\anaconda3\\lib\\site-packages (from autograd->pennylane) (0.18.3)\n",
      "Requirement already satisfied: charset-normalizer<4,>=2 in c:\\users\\lenovo\\anaconda3\\lib\\site-packages (from requests->pennylane) (2.0.4)\n",
      "Requirement already satisfied: idna<4,>=2.5 in c:\\users\\lenovo\\anaconda3\\lib\\site-packages (from requests->pennylane) (3.4)\n",
      "Requirement already satisfied: urllib3<3,>=1.21.1 in c:\\users\\lenovo\\anaconda3\\lib\\site-packages (from requests->pennylane) (1.26.16)\n",
      "Requirement already satisfied: certifi>=2017.4.17 in c:\\users\\lenovo\\anaconda3\\lib\\site-packages (from requests->pennylane) (2024.2.2)\n"
     ]
    }
   ],
   "source": [
    "!pip install pennylane"
   ]
  },
  {
   "cell_type": "code",
   "execution_count": 2,
   "id": "5d6c87c2",
   "metadata": {},
   "outputs": [],
   "source": [
    "import pennylane as qml"
   ]
  },
  {
   "cell_type": "code",
   "execution_count": 3,
   "id": "4b4854da",
   "metadata": {},
   "outputs": [],
   "source": [
    "import numpy as np"
   ]
  },
  {
   "cell_type": "markdown",
   "id": "70ff93a3",
   "metadata": {},
   "source": [
    "<b> Problem 1: </b> if the input flag is 1, apply X gate on the qubit , otherwise don't apply x gate. and lastly an user defined U matrix on the qubit"
   ]
  },
  {
   "cell_type": "code",
   "execution_count": 5,
   "id": "448bec25",
   "metadata": {},
   "outputs": [],
   "source": [
    "dev = qml.device('default.qubit',wires=1)\n",
    "u = np.array([[1,1],[1,-1]])/np.sqrt(2)\n",
    "@qml.qnode(dev)\n",
    "def my_circuit(state):\n",
    "    if state==1:\n",
    "        qml.PauliX(wires=0)\n",
    "    qml.QubitUnitary(u,wires=0)\n",
    "    return qml.state()"
   ]
  },
  {
   "cell_type": "markdown",
   "id": "71767484",
   "metadata": {},
   "source": [
    "<b> Problem 2: </b> Create a uniform superposition integrating problem 1"
   ]
  },
  {
   "cell_type": "code",
   "execution_count": 8,
   "id": "d61dd7d5",
   "metadata": {},
   "outputs": [
    {
     "name": "stdout",
     "output_type": "stream",
     "text": [
      "[0.70710678+0.j 0.70710678+0.j]\n",
      "[ 0.70710678+0.j -0.70710678+0.j]\n"
     ]
    }
   ],
   "source": [
    "@qml.qnode(dev)\n",
    "def my_circuit(state):\n",
    "    if state==1:\n",
    "        qml.PauliX(wires=0)\n",
    "    qml.Hadamard(wires=0)\n",
    "    return qml.state()\n",
    "print(my_circuit(0))\n",
    "print(my_circuit(1))\n"
   ]
  },
  {
   "cell_type": "markdown",
   "id": "199930e6",
   "metadata": {},
   "source": [
    "<b> Problem 3:</b> Create the following circuit according to the flag and return the state"
   ]
  },
  {
   "attachments": {
    "image.png": {
     "image/png": "[encoded data removed]"
    }
   },
   "cell_type": "markdown",
   "id": "2885d46a",
   "metadata": {},
   "source": [
    "![image.png](attachment:image.png)"
   ]
  },
  {
   "cell_type": "code",
   "execution_count": 9,
   "id": "5a83756d",
   "metadata": {},
   "outputs": [
    {
     "name": "stdout",
     "output_type": "stream",
     "text": [
      "[1.+0.j 0.+0.j]\n",
      "[ 0.+0.j -1.+0.j]\n"
     ]
    }
   ],
   "source": [
    "@qml.qnode(dev)\n",
    "def apply_hxh(state):\n",
    "    if state==1:\n",
    "        qml.PauliX(wires=0)\n",
    "    qml.Hadamard(wires=0)\n",
    "    qml.PauliX(wires=0)\n",
    "    qml.Hadamard(wires=0)\n",
    "    return qml.state()\n",
    "print(apply_hxh(0))\n",
    "print(apply_hxh(1))"
   ]
  },
  {
   "cell_type": "markdown",
   "id": "73887100",
   "metadata": {},
   "source": [
    "<b> Problem 5: </b> Apply PauliZ gate to |+> state and return the state"
   ]
  },
  {
   "cell_type": "code",
   "execution_count": 10,
   "id": "4ea43d56",
   "metadata": {},
   "outputs": [
    {
     "data": {
      "text/plain": [
       "tensor([ 0.70710678+0.j, -0.70710678+0.j], requires_grad=True)"
      ]
     },
     "execution_count": 10,
     "metadata": {},
     "output_type": "execute_result"
    }
   ],
   "source": [
    "@qml.qnode(dev)\n",
    "def apply_z_to_plus():\n",
    "    qml.Hadamard(wires=0)\n",
    "    qml.PauliZ(wires=0)\n",
    "    return qml.state()\n",
    "apply_z_to_plus()"
   ]
  },
  {
   "cell_type": "markdown",
   "id": "0fd9758c",
   "metadata": {},
   "source": [
    "<b> Problem 6: </b> Try to simulate soln of problem 5 using RZ gate"
   ]
  },
  {
   "cell_type": "code",
   "execution_count": 12,
   "id": "9cc775cf",
   "metadata": {},
   "outputs": [
    {
     "data": {
      "text/plain": [
       "tensor([4.32978028e-17-0.70710678j, 4.32978028e-17+0.70710678j], requires_grad=True)"
      ]
     },
     "execution_count": 12,
     "metadata": {},
     "output_type": "execute_result"
    }
   ],
   "source": [
    "dev = qml.device('default.qubit',wires=1)\n",
    "@qml.qnode(dev)\n",
    "def apply_rz_to_plus():\n",
    "    qml.Hadamard(wires=0)\n",
    "    qml.RZ(np.pi,wires=0)\n",
    "    return qml.state()\n",
    "apply_rz_to_plus()"
   ]
  },
  {
   "cell_type": "markdown",
   "id": "4066eb21",
   "metadata": {},
   "source": [
    "<b> Problem 7 : </b> Implement the following circuit and return the state"
   ]
  },
  {
   "attachments": {
    "image.png": {
     "image/png": "[encoded data removed]"
    }
   },
   "cell_type": "markdown",
   "id": "be44d939",
   "metadata": {},
   "source": [
    "![image.png](attachment:image.png)"
   ]
  },
  {
   "cell_type": "code",
   "execution_count": 13,
   "id": "45046f86",
   "metadata": {},
   "outputs": [],
   "source": [
    "@qml.qnode(dev)\n",
    "def many_rotations():\n",
    "    qml.Hadamard(wires=0)\n",
    "    qml.S(wires=0)\n",
    "    qml.adjoint(qml.T)(wires=0)\n",
    "    qml.RZ(0.3,wires=0)\n",
    "    qml.adjoint(qml.S)(wires=0)\n",
    "    return qml.state()"
   ]
  },
  {
   "cell_type": "markdown",
   "id": "c92c3087",
   "metadata": {},
   "source": [
    "<b> Problem 8:</b> Implement the following circuit by minimizing the number of T gates"
   ]
  },
  {
   "attachments": {
    "image.png": {
     "image/png": "[encoded data removed]"
    }
   },
   "cell_type": "markdown",
   "id": "0b9be4e8",
   "metadata": {},
   "source": [
    "![image.png](attachment:image.png)"
   ]
  },
  {
   "cell_type": "code",
   "execution_count": 15,
   "id": "315b65c7",
   "metadata": {},
   "outputs": [],
   "source": [
    "@qml.qnode(dev)\n",
    "def just_enough_ts():\n",
    "    qml.Hadamard(wires=[0,1,2])\n",
    "    qml.S(wires=0)\n",
    "    qml.T(wires=1)\n",
    "    qml.adjoint(qml.T)(wires=2)\n",
    "    qml.Hadamard(wires=[0,1,2])\n",
    "    qml.adjoint(qml.S)(wires=0)\n",
    "    qml.PauliZ(wires=1)\n",
    "    qml.adjoint(qml.S)(wires=2)\n",
    "    qml.adjoint(qml.T)(wires=2)\n",
    "    qml.Hadamard(wires=[0,1,2])\n",
    "    return qml.probs(wires=[0, 1, 2])"
   ]
  },
  {
   "cell_type": "code",
   "execution_count": null,
   "id": "4ebb50c0",
   "metadata": {},
   "outputs": [],
   "source": []
  }
 ],
 "metadata": {
  "kernelspec": {
   "display_name": "Python 3 (ipykernel)",
   "language": "python",
   "name": "python3"
  },
  "language_info": {
   "codemirror_mode": {
    "name": "ipython",
    "version": 3
   },
   "file_extension": ".py",
   "mimetype": "text/x-python",
   "name": "python",
   "nbconvert_exporter": "python",
   "pygments_lexer": "ipython3",
   "version": "3.11.5"
  }
 },
 "nbformat": 4,
 "nbformat_minor": 5
}
