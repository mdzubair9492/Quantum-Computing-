{
  "nbformat": 4,
  "nbformat_minor": 0,
  "metadata": {
    "colab": {
      "provenance": []
    },
    "kernelspec": {
      "name": "python3",
      "display_name": "Python 3"
    },
    "language_info": {
      "name": "python"
    }
  },
  "cells": [
    {
      "cell_type": "markdown",
      "source": [],
      "metadata": {
        "id": "SQLJxqh_QZtI"
      }
    },
    {
      "cell_type": "markdown",
      "source": [
        "**l.1 (a) Normalizing a quantum state where amplitudes are complex form**"
      ],
      "metadata": {
        "id": "IrWk1vKfQbX5"
      }
    },
    {
      "cell_type": "code",
      "source": [
        "import numpy as np\n",
        "def normalize_state(alpha,beta):\n",
        "  length=abs(alpha)**2 + abs(beta)**2\n",
        "  alpha_new=alpha / length**0.5\n",
        "  beta_new=beta / length**0.5\n",
        "  return np.array([alpha_new,beta_new])"
      ],
      "metadata": {
        "id": "PQNCmuDvQiuh"
      },
      "execution_count": 3,
      "outputs": []
    },
    {
      "cell_type": "code",
      "source": [
        "alpha=complex(2,1)\n",
        "beta=complex(-0.3,0.4)\n",
        "print(normalize_state(alpha,beta))"
      ],
      "metadata": {
        "colab": {
          "base_uri": "https://localhost:8080/"
        },
        "id": "A4iL7eoIRGn8",
        "outputId": "a136d588-cf8e-4e68-afdb-28fdbcc1b18e"
      },
      "execution_count": 4,
      "outputs": [
        {
          "output_type": "stream",
          "name": "stdout",
          "text": [
            "[ 0.87287156+0.43643578j -0.13093073+0.17457431j]\n"
          ]
        }
      ]
    },
    {
      "cell_type": "markdown",
      "source": [
        "**I.1.2 Write a function to compute the inner product between two arbitrary states. Then, use it to verify that |0> and |1>  form an orthonormal basis, i.e., the states are normalized and orthogonal.**\n",
        "\n"
      ],
      "metadata": {
        "id": "DwbZzkYPRsCR"
      }
    },
    {
      "cell_type": "code",
      "source": [
        "def inner_product(state_1, state_2):\n",
        "    state_1_bra=state_1.conjugate()\n",
        "    prod = np.dot(state_1_bra , state_2.T)\n",
        "    return  prod\n",
        "ket_0 = np.array([1, 0])\n",
        "ket_1 = np.array([0, 1])\n",
        "\n",
        "print(f\"<0|0> = {inner_product(ket_0, ket_0)}\")\n",
        "print(f\"<0|1> = {inner_product(ket_0, ket_1)}\")\n",
        "print(f\"<1|0> = {inner_product(ket_1, ket_0)}\")\n",
        "print(f\"<1|1> = {inner_product(ket_1, ket_1)}\")\n"
      ],
      "metadata": {
        "colab": {
          "base_uri": "https://localhost:8080/"
        },
        "id": "bIHEaZ4DR3ep",
        "outputId": "0c3d6bf2-20e1-489d-b245-c98d01d7c1bd"
      },
      "execution_count": 5,
      "outputs": [
        {
          "output_type": "stream",
          "name": "stdout",
          "text": [
            "<0|0> = 1\n",
            "<0|1> = 0\n",
            "<1|0> = 0\n",
            "<1|1> = 1\n"
          ]
        }
      ]
    },
    {
      "cell_type": "markdown",
      "source": [
        "**I.1.3. The function below takes a quantum state vector as input. Complete the function to simulate the outcomes of an arbitrary number of quantum measurements, i.e., return a list of samples  or  based on the probabilities given by the input state.**\n",
        "\n",
        "Example:\n",
        "\n",
        "state = np.array([0.8, 0.6])\n",
        "\n",
        "If we measure a qubit in this state, we'll observe  64% of the time (|0>), and |1>  36% of the time. Therefore, an example set of 10 measurement outcomes might be\n",
        "\n",
        "the output should be,\n",
        "\n",
        "[0, 1, 1, 1, 0, 1, 0, 0 ,0 ,0]\n"
      ],
      "metadata": {
        "id": "s20GTct7Txa3"
      }
    },
    {
      "cell_type": "code",
      "source": [
        "def measure_state(state, num_meas):\n",
        "    state_0=abs(state[0])**2\n",
        "    state_1=abs(state[1])**2\n",
        "    res=np.random.choice([0,1],size=num_meas,p=[state_0,state_1])\n",
        "    return res\n",
        "print(measure_state([1/np.sqrt(2), 1/np.sqrt(2)], 10))"
      ],
      "metadata": {
        "colab": {
          "base_uri": "https://localhost:8080/"
        },
        "id": "_WHkynEgUuGk",
        "outputId": "8a987f21-3061-4067-dd47-d91f8f27b0bb"
      },
      "execution_count": 6,
      "outputs": [
        {
          "output_type": "stream",
          "name": "stdout",
          "text": [
            "[0 1 1 1 0 1 1 1 1 1]\n"
          ]
        }
      ]
    },
    {
      "cell_type": "markdown",
      "source": [
        "**I.1.4. Complete the function below to apply the provided quantum operation U to an input state.**\n",
        "\n",
        "Example:\n",
        "U = np.array([[0, 1], [1, 0]])\n",
        "  state = np.array([0.8, 0.6])\n",
        "\n",
        "output:\n",
        "\n",
        "np.array([0.6, 0.8])"
      ],
      "metadata": {
        "id": "Ilq38XWQgmho"
      }
    },
    {
      "cell_type": "code",
      "source": [
        "U = np.array([[1, 1], [1, -1]]) / np.sqrt(2)\n",
        "\n",
        "def apply_u(state):\n",
        "    return U @ state\n",
        "state=np.array([1,0])\n",
        "print(apply_u(state))"
      ],
      "metadata": {
        "colab": {
          "base_uri": "https://localhost:8080/"
        },
        "id": "2FoeuPAAgxH1",
        "outputId": "df31c64e-7bee-4e96-b73d-bd39b7250bd2"
      },
      "execution_count": 7,
      "outputs": [
        {
          "output_type": "stream",
          "name": "stdout",
          "text": [
            "[0.70710678 0.70710678]\n"
          ]
        }
      ]
    },
    {
      "cell_type": "markdown",
      "source": [
        "**I.1.5. Use the functions below to simulate a quantum algorithm that does the following:**\n",
        "\n",
        "Initialize a qubit in state |0></br>\n",
        "Apply the provided operation U</br>\n",
        "Simulate measuring the output state 100 times\n"
      ],
      "metadata": {
        "id": "j6LhTDEWilmP"
      }
    },
    {
      "cell_type": "code",
      "source": [
        "U = np.array([[1, 1], [1, -1]]) / np.sqrt(2)\n",
        "\n",
        "def initialize_state():\n",
        "    return np.array([1,0])\n",
        "\n",
        "def apply_u(state):\n",
        "    return np.dot(U, state)\n",
        "\n",
        "def measure_state(state, num_meas):\n",
        "    p_alpha = np.abs(state[0]) ** 2\n",
        "    p_beta = np.abs(state[1]) ** 2\n",
        "    meas_outcome = np.random.choice([0, 1], p=[p_alpha, p_beta], size=num_meas)\n",
        "    return meas_outcome\n",
        "\n",
        "def quantum_algorithm():\n",
        "    state=initialize_state()\n",
        "    new_state=apply_u(state)\n",
        "    measurements=measure_state(new_state,100)\n",
        "    return measurements"
      ],
      "metadata": {
        "id": "btk2XP_Sisu8"
      },
      "execution_count": 8,
      "outputs": []
    }
  ]
}